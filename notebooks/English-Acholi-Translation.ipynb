{
  "nbformat": 4,
  "nbformat_minor": 0,
  "metadata": {
    "colab": {
      "name": "En-Ach.ipynb",
      "provenance": [],
      "collapsed_sections": [],
      "toc_visible": true
    },
    "kernelspec": {
      "name": "python3",
      "display_name": "Python 3"
    },
    "accelerator": "GPU",
    "widgets": {
      "application/vnd.jupyter.widget-state+json": {
        "e534d2831e474e078ada95a33a660397": {
          "model_module": "@jupyter-widgets/controls",
          "model_name": "HBoxModel",
          "state": {
            "_view_name": "HBoxView",
            "_dom_classes": [],
            "_model_name": "HBoxModel",
            "_view_module": "@jupyter-widgets/controls",
            "_model_module_version": "1.5.0",
            "_view_count": null,
            "_view_module_version": "1.5.0",
            "box_style": "",
            "layout": "IPY_MODEL_1952450285964431918eb7bcaaf9cbbd",
            "_model_module": "@jupyter-widgets/controls",
            "children": [
              "IPY_MODEL_820abf09a2c948ab8b3fccaff52ca59b",
              "IPY_MODEL_8bb8daa8124b4300b788c858eb66f38c"
            ]
          }
        },
        "1952450285964431918eb7bcaaf9cbbd": {
          "model_module": "@jupyter-widgets/base",
          "model_name": "LayoutModel",
          "state": {
            "_view_name": "LayoutView",
            "grid_template_rows": null,
            "right": null,
            "justify_content": null,
            "_view_module": "@jupyter-widgets/base",
            "overflow": null,
            "_model_module_version": "1.2.0",
            "_view_count": null,
            "flex_flow": null,
            "width": null,
            "min_width": null,
            "border": null,
            "align_items": null,
            "bottom": null,
            "_model_module": "@jupyter-widgets/base",
            "top": null,
            "grid_column": null,
            "overflow_y": null,
            "overflow_x": null,
            "grid_auto_flow": null,
            "grid_area": null,
            "grid_template_columns": null,
            "flex": null,
            "_model_name": "LayoutModel",
            "justify_items": null,
            "grid_row": null,
            "max_height": null,
            "align_content": null,
            "visibility": null,
            "align_self": null,
            "height": null,
            "min_height": null,
            "padding": null,
            "grid_auto_rows": null,
            "grid_gap": null,
            "max_width": null,
            "order": null,
            "_view_module_version": "1.2.0",
            "grid_template_areas": null,
            "object_position": null,
            "object_fit": null,
            "grid_auto_columns": null,
            "margin": null,
            "display": null,
            "left": null
          }
        },
        "820abf09a2c948ab8b3fccaff52ca59b": {
          "model_module": "@jupyter-widgets/controls",
          "model_name": "FloatProgressModel",
          "state": {
            "_view_name": "ProgressView",
            "style": "IPY_MODEL_7c14f01637344617922fad4d39d486eb",
            "_dom_classes": [],
            "description": "Downloading: 100%",
            "_model_name": "FloatProgressModel",
            "bar_style": "success",
            "max": 1133,
            "_view_module": "@jupyter-widgets/controls",
            "_model_module_version": "1.5.0",
            "value": 1133,
            "_view_count": null,
            "_view_module_version": "1.5.0",
            "orientation": "horizontal",
            "min": 0,
            "description_tooltip": null,
            "_model_module": "@jupyter-widgets/controls",
            "layout": "IPY_MODEL_f7c06ba666444359b6eb25ac7e6ee411"
          }
        },
        "8bb8daa8124b4300b788c858eb66f38c": {
          "model_module": "@jupyter-widgets/controls",
          "model_name": "HTMLModel",
          "state": {
            "_view_name": "HTMLView",
            "style": "IPY_MODEL_c9242d3e113d492fb08ce356ff91af93",
            "_dom_classes": [],
            "description": "",
            "_model_name": "HTMLModel",
            "placeholder": "​",
            "_view_module": "@jupyter-widgets/controls",
            "_model_module_version": "1.5.0",
            "value": " 1.13k/1.13k [00:20&lt;00:00, 55.8B/s]",
            "_view_count": null,
            "_view_module_version": "1.5.0",
            "description_tooltip": null,
            "_model_module": "@jupyter-widgets/controls",
            "layout": "IPY_MODEL_4fa11ed591914ce391a010c5e729ad29"
          }
        },
        "7c14f01637344617922fad4d39d486eb": {
          "model_module": "@jupyter-widgets/controls",
          "model_name": "ProgressStyleModel",
          "state": {
            "_view_name": "StyleView",
            "_model_name": "ProgressStyleModel",
            "description_width": "initial",
            "_view_module": "@jupyter-widgets/base",
            "_model_module_version": "1.5.0",
            "_view_count": null,
            "_view_module_version": "1.2.0",
            "bar_color": null,
            "_model_module": "@jupyter-widgets/controls"
          }
        },
        "f7c06ba666444359b6eb25ac7e6ee411": {
          "model_module": "@jupyter-widgets/base",
          "model_name": "LayoutModel",
          "state": {
            "_view_name": "LayoutView",
            "grid_template_rows": null,
            "right": null,
            "justify_content": null,
            "_view_module": "@jupyter-widgets/base",
            "overflow": null,
            "_model_module_version": "1.2.0",
            "_view_count": null,
            "flex_flow": null,
            "width": null,
            "min_width": null,
            "border": null,
            "align_items": null,
            "bottom": null,
            "_model_module": "@jupyter-widgets/base",
            "top": null,
            "grid_column": null,
            "overflow_y": null,
            "overflow_x": null,
            "grid_auto_flow": null,
            "grid_area": null,
            "grid_template_columns": null,
            "flex": null,
            "_model_name": "LayoutModel",
            "justify_items": null,
            "grid_row": null,
            "max_height": null,
            "align_content": null,
            "visibility": null,
            "align_self": null,
            "height": null,
            "min_height": null,
            "padding": null,
            "grid_auto_rows": null,
            "grid_gap": null,
            "max_width": null,
            "order": null,
            "_view_module_version": "1.2.0",
            "grid_template_areas": null,
            "object_position": null,
            "object_fit": null,
            "grid_auto_columns": null,
            "margin": null,
            "display": null,
            "left": null
          }
        },
        "c9242d3e113d492fb08ce356ff91af93": {
          "model_module": "@jupyter-widgets/controls",
          "model_name": "DescriptionStyleModel",
          "state": {
            "_view_name": "StyleView",
            "_model_name": "DescriptionStyleModel",
            "description_width": "",
            "_view_module": "@jupyter-widgets/base",
            "_model_module_version": "1.5.0",
            "_view_count": null,
            "_view_module_version": "1.2.0",
            "_model_module": "@jupyter-widgets/controls"
          }
        },
        "4fa11ed591914ce391a010c5e729ad29": {
          "model_module": "@jupyter-widgets/base",
          "model_name": "LayoutModel",
          "state": {
            "_view_name": "LayoutView",
            "grid_template_rows": null,
            "right": null,
            "justify_content": null,
            "_view_module": "@jupyter-widgets/base",
            "overflow": null,
            "_model_module_version": "1.2.0",
            "_view_count": null,
            "flex_flow": null,
            "width": null,
            "min_width": null,
            "border": null,
            "align_items": null,
            "bottom": null,
            "_model_module": "@jupyter-widgets/base",
            "top": null,
            "grid_column": null,
            "overflow_y": null,
            "overflow_x": null,
            "grid_auto_flow": null,
            "grid_area": null,
            "grid_template_columns": null,
            "flex": null,
            "_model_name": "LayoutModel",
            "justify_items": null,
            "grid_row": null,
            "max_height": null,
            "align_content": null,
            "visibility": null,
            "align_self": null,
            "height": null,
            "min_height": null,
            "padding": null,
            "grid_auto_rows": null,
            "grid_gap": null,
            "max_width": null,
            "order": null,
            "_view_module_version": "1.2.0",
            "grid_template_areas": null,
            "object_position": null,
            "object_fit": null,
            "grid_auto_columns": null,
            "margin": null,
            "display": null,
            "left": null
          }
        },
        "2fe3720c5526431d90ea1621e0f0db1c": {
          "model_module": "@jupyter-widgets/controls",
          "model_name": "HBoxModel",
          "state": {
            "_view_name": "HBoxView",
            "_dom_classes": [],
            "_model_name": "HBoxModel",
            "_view_module": "@jupyter-widgets/controls",
            "_model_module_version": "1.5.0",
            "_view_count": null,
            "_view_module_version": "1.5.0",
            "box_style": "",
            "layout": "IPY_MODEL_c5a4c27acfec45a084c65ce10fcdb1f9",
            "_model_module": "@jupyter-widgets/controls",
            "children": [
              "IPY_MODEL_b27e5c7a85454deebf7af7ae63804017",
              "IPY_MODEL_0d22e15d7dd6440786d09d6281702fdf"
            ]
          }
        },
        "c5a4c27acfec45a084c65ce10fcdb1f9": {
          "model_module": "@jupyter-widgets/base",
          "model_name": "LayoutModel",
          "state": {
            "_view_name": "LayoutView",
            "grid_template_rows": null,
            "right": null,
            "justify_content": null,
            "_view_module": "@jupyter-widgets/base",
            "overflow": null,
            "_model_module_version": "1.2.0",
            "_view_count": null,
            "flex_flow": null,
            "width": null,
            "min_width": null,
            "border": null,
            "align_items": null,
            "bottom": null,
            "_model_module": "@jupyter-widgets/base",
            "top": null,
            "grid_column": null,
            "overflow_y": null,
            "overflow_x": null,
            "grid_auto_flow": null,
            "grid_area": null,
            "grid_template_columns": null,
            "flex": null,
            "_model_name": "LayoutModel",
            "justify_items": null,
            "grid_row": null,
            "max_height": null,
            "align_content": null,
            "visibility": null,
            "align_self": null,
            "height": null,
            "min_height": null,
            "padding": null,
            "grid_auto_rows": null,
            "grid_gap": null,
            "max_width": null,
            "order": null,
            "_view_module_version": "1.2.0",
            "grid_template_areas": null,
            "object_position": null,
            "object_fit": null,
            "grid_auto_columns": null,
            "margin": null,
            "display": null,
            "left": null
          }
        },
        "b27e5c7a85454deebf7af7ae63804017": {
          "model_module": "@jupyter-widgets/controls",
          "model_name": "FloatProgressModel",
          "state": {
            "_view_name": "ProgressView",
            "style": "IPY_MODEL_7946ee2006f245a38fcd966de5888947",
            "_dom_classes": [],
            "description": "Downloading: 100%",
            "_model_name": "FloatProgressModel",
            "bar_style": "success",
            "max": 741813,
            "_view_module": "@jupyter-widgets/controls",
            "_model_module_version": "1.5.0",
            "value": 741813,
            "_view_count": null,
            "_view_module_version": "1.5.0",
            "orientation": "horizontal",
            "min": 0,
            "description_tooltip": null,
            "_model_module": "@jupyter-widgets/controls",
            "layout": "IPY_MODEL_cce7d5a9a5444b3cb9b07f737e33880e"
          }
        },
        "0d22e15d7dd6440786d09d6281702fdf": {
          "model_module": "@jupyter-widgets/controls",
          "model_name": "HTMLModel",
          "state": {
            "_view_name": "HTMLView",
            "style": "IPY_MODEL_b23acd76080c457090ab5f80d1959b6e",
            "_dom_classes": [],
            "description": "",
            "_model_name": "HTMLModel",
            "placeholder": "​",
            "_view_module": "@jupyter-widgets/controls",
            "_model_module_version": "1.5.0",
            "value": " 742k/742k [00:00&lt;00:00, 6.29MB/s]",
            "_view_count": null,
            "_view_module_version": "1.5.0",
            "description_tooltip": null,
            "_model_module": "@jupyter-widgets/controls",
            "layout": "IPY_MODEL_97bec1fe7a81444db2dd14257a3a9377"
          }
        },
        "7946ee2006f245a38fcd966de5888947": {
          "model_module": "@jupyter-widgets/controls",
          "model_name": "ProgressStyleModel",
          "state": {
            "_view_name": "StyleView",
            "_model_name": "ProgressStyleModel",
            "description_width": "initial",
            "_view_module": "@jupyter-widgets/base",
            "_model_module_version": "1.5.0",
            "_view_count": null,
            "_view_module_version": "1.2.0",
            "bar_color": null,
            "_model_module": "@jupyter-widgets/controls"
          }
        },
        "cce7d5a9a5444b3cb9b07f737e33880e": {
          "model_module": "@jupyter-widgets/base",
          "model_name": "LayoutModel",
          "state": {
            "_view_name": "LayoutView",
            "grid_template_rows": null,
            "right": null,
            "justify_content": null,
            "_view_module": "@jupyter-widgets/base",
            "overflow": null,
            "_model_module_version": "1.2.0",
            "_view_count": null,
            "flex_flow": null,
            "width": null,
            "min_width": null,
            "border": null,
            "align_items": null,
            "bottom": null,
            "_model_module": "@jupyter-widgets/base",
            "top": null,
            "grid_column": null,
            "overflow_y": null,
            "overflow_x": null,
            "grid_auto_flow": null,
            "grid_area": null,
            "grid_template_columns": null,
            "flex": null,
            "_model_name": "LayoutModel",
            "justify_items": null,
            "grid_row": null,
            "max_height": null,
            "align_content": null,
            "visibility": null,
            "align_self": null,
            "height": null,
            "min_height": null,
            "padding": null,
            "grid_auto_rows": null,
            "grid_gap": null,
            "max_width": null,
            "order": null,
            "_view_module_version": "1.2.0",
            "grid_template_areas": null,
            "object_position": null,
            "object_fit": null,
            "grid_auto_columns": null,
            "margin": null,
            "display": null,
            "left": null
          }
        },
        "b23acd76080c457090ab5f80d1959b6e": {
          "model_module": "@jupyter-widgets/controls",
          "model_name": "DescriptionStyleModel",
          "state": {
            "_view_name": "StyleView",
            "_model_name": "DescriptionStyleModel",
            "description_width": "",
            "_view_module": "@jupyter-widgets/base",
            "_model_module_version": "1.5.0",
            "_view_count": null,
            "_view_module_version": "1.2.0",
            "_model_module": "@jupyter-widgets/controls"
          }
        },
        "97bec1fe7a81444db2dd14257a3a9377": {
          "model_module": "@jupyter-widgets/base",
          "model_name": "LayoutModel",
          "state": {
            "_view_name": "LayoutView",
            "grid_template_rows": null,
            "right": null,
            "justify_content": null,
            "_view_module": "@jupyter-widgets/base",
            "overflow": null,
            "_model_module_version": "1.2.0",
            "_view_count": null,
            "flex_flow": null,
            "width": null,
            "min_width": null,
            "border": null,
            "align_items": null,
            "bottom": null,
            "_model_module": "@jupyter-widgets/base",
            "top": null,
            "grid_column": null,
            "overflow_y": null,
            "overflow_x": null,
            "grid_auto_flow": null,
            "grid_area": null,
            "grid_template_columns": null,
            "flex": null,
            "_model_name": "LayoutModel",
            "justify_items": null,
            "grid_row": null,
            "max_height": null,
            "align_content": null,
            "visibility": null,
            "align_self": null,
            "height": null,
            "min_height": null,
            "padding": null,
            "grid_auto_rows": null,
            "grid_gap": null,
            "max_width": null,
            "order": null,
            "_view_module_version": "1.2.0",
            "grid_template_areas": null,
            "object_position": null,
            "object_fit": null,
            "grid_auto_columns": null,
            "margin": null,
            "display": null,
            "left": null
          }
        },
        "fa08144dee8f45bcaaf308980dfb6723": {
          "model_module": "@jupyter-widgets/controls",
          "model_name": "HBoxModel",
          "state": {
            "_view_name": "HBoxView",
            "_dom_classes": [],
            "_model_name": "HBoxModel",
            "_view_module": "@jupyter-widgets/controls",
            "_model_module_version": "1.5.0",
            "_view_count": null,
            "_view_module_version": "1.5.0",
            "box_style": "",
            "layout": "IPY_MODEL_5877bc9ab96f4f769f35f84e4977177e",
            "_model_module": "@jupyter-widgets/controls",
            "children": [
              "IPY_MODEL_d8a868f4c5ab420ca866840de82ed2a3",
              "IPY_MODEL_d3151598f6e54b759212bdcebb5a150e"
            ]
          }
        },
        "5877bc9ab96f4f769f35f84e4977177e": {
          "model_module": "@jupyter-widgets/base",
          "model_name": "LayoutModel",
          "state": {
            "_view_name": "LayoutView",
            "grid_template_rows": null,
            "right": null,
            "justify_content": null,
            "_view_module": "@jupyter-widgets/base",
            "overflow": null,
            "_model_module_version": "1.2.0",
            "_view_count": null,
            "flex_flow": null,
            "width": null,
            "min_width": null,
            "border": null,
            "align_items": null,
            "bottom": null,
            "_model_module": "@jupyter-widgets/base",
            "top": null,
            "grid_column": null,
            "overflow_y": null,
            "overflow_x": null,
            "grid_auto_flow": null,
            "grid_area": null,
            "grid_template_columns": null,
            "flex": null,
            "_model_name": "LayoutModel",
            "justify_items": null,
            "grid_row": null,
            "max_height": null,
            "align_content": null,
            "visibility": null,
            "align_self": null,
            "height": null,
            "min_height": null,
            "padding": null,
            "grid_auto_rows": null,
            "grid_gap": null,
            "max_width": null,
            "order": null,
            "_view_module_version": "1.2.0",
            "grid_template_areas": null,
            "object_position": null,
            "object_fit": null,
            "grid_auto_columns": null,
            "margin": null,
            "display": null,
            "left": null
          }
        },
        "d8a868f4c5ab420ca866840de82ed2a3": {
          "model_module": "@jupyter-widgets/controls",
          "model_name": "FloatProgressModel",
          "state": {
            "_view_name": "ProgressView",
            "style": "IPY_MODEL_ae86ffc4f0a543559145d3e361e64d95",
            "_dom_classes": [],
            "description": "Downloading: 100%",
            "_model_name": "FloatProgressModel",
            "bar_style": "success",
            "max": 769849,
            "_view_module": "@jupyter-widgets/controls",
            "_model_module_version": "1.5.0",
            "value": 769849,
            "_view_count": null,
            "_view_module_version": "1.5.0",
            "orientation": "horizontal",
            "min": 0,
            "description_tooltip": null,
            "_model_module": "@jupyter-widgets/controls",
            "layout": "IPY_MODEL_32242f2f53e14d37a7d276ef35d603b7"
          }
        },
        "d3151598f6e54b759212bdcebb5a150e": {
          "model_module": "@jupyter-widgets/controls",
          "model_name": "HTMLModel",
          "state": {
            "_view_name": "HTMLView",
            "style": "IPY_MODEL_4cbadde614a54141ac71e87e5b14e499",
            "_dom_classes": [],
            "description": "",
            "_model_name": "HTMLModel",
            "placeholder": "​",
            "_view_module": "@jupyter-widgets/controls",
            "_model_module_version": "1.5.0",
            "value": " 770k/770k [00:20&lt;00:00, 38.5kB/s]",
            "_view_count": null,
            "_view_module_version": "1.5.0",
            "description_tooltip": null,
            "_model_module": "@jupyter-widgets/controls",
            "layout": "IPY_MODEL_648de674e15c42288760b7309161c442"
          }
        },
        "ae86ffc4f0a543559145d3e361e64d95": {
          "model_module": "@jupyter-widgets/controls",
          "model_name": "ProgressStyleModel",
          "state": {
            "_view_name": "StyleView",
            "_model_name": "ProgressStyleModel",
            "description_width": "initial",
            "_view_module": "@jupyter-widgets/base",
            "_model_module_version": "1.5.0",
            "_view_count": null,
            "_view_module_version": "1.2.0",
            "bar_color": null,
            "_model_module": "@jupyter-widgets/controls"
          }
        },
        "32242f2f53e14d37a7d276ef35d603b7": {
          "model_module": "@jupyter-widgets/base",
          "model_name": "LayoutModel",
          "state": {
            "_view_name": "LayoutView",
            "grid_template_rows": null,
            "right": null,
            "justify_content": null,
            "_view_module": "@jupyter-widgets/base",
            "overflow": null,
            "_model_module_version": "1.2.0",
            "_view_count": null,
            "flex_flow": null,
            "width": null,
            "min_width": null,
            "border": null,
            "align_items": null,
            "bottom": null,
            "_model_module": "@jupyter-widgets/base",
            "top": null,
            "grid_column": null,
            "overflow_y": null,
            "overflow_x": null,
            "grid_auto_flow": null,
            "grid_area": null,
            "grid_template_columns": null,
            "flex": null,
            "_model_name": "LayoutModel",
            "justify_items": null,
            "grid_row": null,
            "max_height": null,
            "align_content": null,
            "visibility": null,
            "align_self": null,
            "height": null,
            "min_height": null,
            "padding": null,
            "grid_auto_rows": null,
            "grid_gap": null,
            "max_width": null,
            "order": null,
            "_view_module_version": "1.2.0",
            "grid_template_areas": null,
            "object_position": null,
            "object_fit": null,
            "grid_auto_columns": null,
            "margin": null,
            "display": null,
            "left": null
          }
        },
        "4cbadde614a54141ac71e87e5b14e499": {
          "model_module": "@jupyter-widgets/controls",
          "model_name": "DescriptionStyleModel",
          "state": {
            "_view_name": "StyleView",
            "_model_name": "DescriptionStyleModel",
            "description_width": "",
            "_view_module": "@jupyter-widgets/base",
            "_model_module_version": "1.5.0",
            "_view_count": null,
            "_view_module_version": "1.2.0",
            "_model_module": "@jupyter-widgets/controls"
          }
        },
        "648de674e15c42288760b7309161c442": {
          "model_module": "@jupyter-widgets/base",
          "model_name": "LayoutModel",
          "state": {
            "_view_name": "LayoutView",
            "grid_template_rows": null,
            "right": null,
            "justify_content": null,
            "_view_module": "@jupyter-widgets/base",
            "overflow": null,
            "_model_module_version": "1.2.0",
            "_view_count": null,
            "flex_flow": null,
            "width": null,
            "min_width": null,
            "border": null,
            "align_items": null,
            "bottom": null,
            "_model_module": "@jupyter-widgets/base",
            "top": null,
            "grid_column": null,
            "overflow_y": null,
            "overflow_x": null,
            "grid_auto_flow": null,
            "grid_area": null,
            "grid_template_columns": null,
            "flex": null,
            "_model_name": "LayoutModel",
            "justify_items": null,
            "grid_row": null,
            "max_height": null,
            "align_content": null,
            "visibility": null,
            "align_self": null,
            "height": null,
            "min_height": null,
            "padding": null,
            "grid_auto_rows": null,
            "grid_gap": null,
            "max_width": null,
            "order": null,
            "_view_module_version": "1.2.0",
            "grid_template_areas": null,
            "object_position": null,
            "object_fit": null,
            "grid_auto_columns": null,
            "margin": null,
            "display": null,
            "left": null
          }
        },
        "37479b8eaa4b4304bb77aeaa682db705": {
          "model_module": "@jupyter-widgets/controls",
          "model_name": "HBoxModel",
          "state": {
            "_view_name": "HBoxView",
            "_dom_classes": [],
            "_model_name": "HBoxModel",
            "_view_module": "@jupyter-widgets/controls",
            "_model_module_version": "1.5.0",
            "_view_count": null,
            "_view_module_version": "1.5.0",
            "box_style": "",
            "layout": "IPY_MODEL_51922d0be5304e88a9e7c0007ce171f0",
            "_model_module": "@jupyter-widgets/controls",
            "children": [
              "IPY_MODEL_320b14f5b0074e56a8e8ee8e01d8f93e",
              "IPY_MODEL_5f90448082bf4eed93cc6a7d112da70e"
            ]
          }
        },
        "51922d0be5304e88a9e7c0007ce171f0": {
          "model_module": "@jupyter-widgets/base",
          "model_name": "LayoutModel",
          "state": {
            "_view_name": "LayoutView",
            "grid_template_rows": null,
            "right": null,
            "justify_content": null,
            "_view_module": "@jupyter-widgets/base",
            "overflow": null,
            "_model_module_version": "1.2.0",
            "_view_count": null,
            "flex_flow": null,
            "width": null,
            "min_width": null,
            "border": null,
            "align_items": null,
            "bottom": null,
            "_model_module": "@jupyter-widgets/base",
            "top": null,
            "grid_column": null,
            "overflow_y": null,
            "overflow_x": null,
            "grid_auto_flow": null,
            "grid_area": null,
            "grid_template_columns": null,
            "flex": null,
            "_model_name": "LayoutModel",
            "justify_items": null,
            "grid_row": null,
            "max_height": null,
            "align_content": null,
            "visibility": null,
            "align_self": null,
            "height": null,
            "min_height": null,
            "padding": null,
            "grid_auto_rows": null,
            "grid_gap": null,
            "max_width": null,
            "order": null,
            "_view_module_version": "1.2.0",
            "grid_template_areas": null,
            "object_position": null,
            "object_fit": null,
            "grid_auto_columns": null,
            "margin": null,
            "display": null,
            "left": null
          }
        },
        "320b14f5b0074e56a8e8ee8e01d8f93e": {
          "model_module": "@jupyter-widgets/controls",
          "model_name": "FloatProgressModel",
          "state": {
            "_view_name": "ProgressView",
            "style": "IPY_MODEL_c55fa608db6f4bbaaaaafe04fec8032c",
            "_dom_classes": [],
            "description": "Downloading: 100%",
            "_model_name": "FloatProgressModel",
            "bar_style": "success",
            "max": 1108211,
            "_view_module": "@jupyter-widgets/controls",
            "_model_module_version": "1.5.0",
            "value": 1108211,
            "_view_count": null,
            "_view_module_version": "1.5.0",
            "orientation": "horizontal",
            "min": 0,
            "description_tooltip": null,
            "_model_module": "@jupyter-widgets/controls",
            "layout": "IPY_MODEL_0784df8f072049dfbbd1ad118ae7e004"
          }
        },
        "5f90448082bf4eed93cc6a7d112da70e": {
          "model_module": "@jupyter-widgets/controls",
          "model_name": "HTMLModel",
          "state": {
            "_view_name": "HTMLView",
            "style": "IPY_MODEL_a1da9e74ecb942b2a48c36c89db8ccbb",
            "_dom_classes": [],
            "description": "",
            "_model_name": "HTMLModel",
            "placeholder": "​",
            "_view_module": "@jupyter-widgets/controls",
            "_model_module_version": "1.5.0",
            "value": " 1.11M/1.11M [00:14&lt;00:00, 77.3kB/s]",
            "_view_count": null,
            "_view_module_version": "1.5.0",
            "description_tooltip": null,
            "_model_module": "@jupyter-widgets/controls",
            "layout": "IPY_MODEL_e6dd0737eda745578c5f4e87570e5142"
          }
        },
        "c55fa608db6f4bbaaaaafe04fec8032c": {
          "model_module": "@jupyter-widgets/controls",
          "model_name": "ProgressStyleModel",
          "state": {
            "_view_name": "StyleView",
            "_model_name": "ProgressStyleModel",
            "description_width": "initial",
            "_view_module": "@jupyter-widgets/base",
            "_model_module_version": "1.5.0",
            "_view_count": null,
            "_view_module_version": "1.2.0",
            "bar_color": null,
            "_model_module": "@jupyter-widgets/controls"
          }
        },
        "0784df8f072049dfbbd1ad118ae7e004": {
          "model_module": "@jupyter-widgets/base",
          "model_name": "LayoutModel",
          "state": {
            "_view_name": "LayoutView",
            "grid_template_rows": null,
            "right": null,
            "justify_content": null,
            "_view_module": "@jupyter-widgets/base",
            "overflow": null,
            "_model_module_version": "1.2.0",
            "_view_count": null,
            "flex_flow": null,
            "width": null,
            "min_width": null,
            "border": null,
            "align_items": null,
            "bottom": null,
            "_model_module": "@jupyter-widgets/base",
            "top": null,
            "grid_column": null,
            "overflow_y": null,
            "overflow_x": null,
            "grid_auto_flow": null,
            "grid_area": null,
            "grid_template_columns": null,
            "flex": null,
            "_model_name": "LayoutModel",
            "justify_items": null,
            "grid_row": null,
            "max_height": null,
            "align_content": null,
            "visibility": null,
            "align_self": null,
            "height": null,
            "min_height": null,
            "padding": null,
            "grid_auto_rows": null,
            "grid_gap": null,
            "max_width": null,
            "order": null,
            "_view_module_version": "1.2.0",
            "grid_template_areas": null,
            "object_position": null,
            "object_fit": null,
            "grid_auto_columns": null,
            "margin": null,
            "display": null,
            "left": null
          }
        },
        "a1da9e74ecb942b2a48c36c89db8ccbb": {
          "model_module": "@jupyter-widgets/controls",
          "model_name": "DescriptionStyleModel",
          "state": {
            "_view_name": "StyleView",
            "_model_name": "DescriptionStyleModel",
            "description_width": "",
            "_view_module": "@jupyter-widgets/base",
            "_model_module_version": "1.5.0",
            "_view_count": null,
            "_view_module_version": "1.2.0",
            "_model_module": "@jupyter-widgets/controls"
          }
        },
        "e6dd0737eda745578c5f4e87570e5142": {
          "model_module": "@jupyter-widgets/base",
          "model_name": "LayoutModel",
          "state": {
            "_view_name": "LayoutView",
            "grid_template_rows": null,
            "right": null,
            "justify_content": null,
            "_view_module": "@jupyter-widgets/base",
            "overflow": null,
            "_model_module_version": "1.2.0",
            "_view_count": null,
            "flex_flow": null,
            "width": null,
            "min_width": null,
            "border": null,
            "align_items": null,
            "bottom": null,
            "_model_module": "@jupyter-widgets/base",
            "top": null,
            "grid_column": null,
            "overflow_y": null,
            "overflow_x": null,
            "grid_auto_flow": null,
            "grid_area": null,
            "grid_template_columns": null,
            "flex": null,
            "_model_name": "LayoutModel",
            "justify_items": null,
            "grid_row": null,
            "max_height": null,
            "align_content": null,
            "visibility": null,
            "align_self": null,
            "height": null,
            "min_height": null,
            "padding": null,
            "grid_auto_rows": null,
            "grid_gap": null,
            "max_width": null,
            "order": null,
            "_view_module_version": "1.2.0",
            "grid_template_areas": null,
            "object_position": null,
            "object_fit": null,
            "grid_auto_columns": null,
            "margin": null,
            "display": null,
            "left": null
          }
        },
        "309fabbb8edd4e4cbd00e346680b7d74": {
          "model_module": "@jupyter-widgets/controls",
          "model_name": "HBoxModel",
          "state": {
            "_view_name": "HBoxView",
            "_dom_classes": [],
            "_model_name": "HBoxModel",
            "_view_module": "@jupyter-widgets/controls",
            "_model_module_version": "1.5.0",
            "_view_count": null,
            "_view_module_version": "1.5.0",
            "box_style": "",
            "layout": "IPY_MODEL_151909803f6041ae846587874b51eb3a",
            "_model_module": "@jupyter-widgets/controls",
            "children": [
              "IPY_MODEL_3a8f9b74d70146e7ab1a1842c99c99ad",
              "IPY_MODEL_980acacee04b43829fe461cf144aeba2"
            ]
          }
        },
        "151909803f6041ae846587874b51eb3a": {
          "model_module": "@jupyter-widgets/base",
          "model_name": "LayoutModel",
          "state": {
            "_view_name": "LayoutView",
            "grid_template_rows": null,
            "right": null,
            "justify_content": null,
            "_view_module": "@jupyter-widgets/base",
            "overflow": null,
            "_model_module_version": "1.2.0",
            "_view_count": null,
            "flex_flow": null,
            "width": null,
            "min_width": null,
            "border": null,
            "align_items": null,
            "bottom": null,
            "_model_module": "@jupyter-widgets/base",
            "top": null,
            "grid_column": null,
            "overflow_y": null,
            "overflow_x": null,
            "grid_auto_flow": null,
            "grid_area": null,
            "grid_template_columns": null,
            "flex": null,
            "_model_name": "LayoutModel",
            "justify_items": null,
            "grid_row": null,
            "max_height": null,
            "align_content": null,
            "visibility": null,
            "align_self": null,
            "height": null,
            "min_height": null,
            "padding": null,
            "grid_auto_rows": null,
            "grid_gap": null,
            "max_width": null,
            "order": null,
            "_view_module_version": "1.2.0",
            "grid_template_areas": null,
            "object_position": null,
            "object_fit": null,
            "grid_auto_columns": null,
            "margin": null,
            "display": null,
            "left": null
          }
        },
        "3a8f9b74d70146e7ab1a1842c99c99ad": {
          "model_module": "@jupyter-widgets/controls",
          "model_name": "FloatProgressModel",
          "state": {
            "_view_name": "ProgressView",
            "style": "IPY_MODEL_05854f97a88b422bacbeb0f264409fb5",
            "_dom_classes": [],
            "description": "Downloading: 100%",
            "_model_name": "FloatProgressModel",
            "bar_style": "success",
            "max": 43,
            "_view_module": "@jupyter-widgets/controls",
            "_model_module_version": "1.5.0",
            "value": 43,
            "_view_count": null,
            "_view_module_version": "1.5.0",
            "orientation": "horizontal",
            "min": 0,
            "description_tooltip": null,
            "_model_module": "@jupyter-widgets/controls",
            "layout": "IPY_MODEL_1b522a09d0b64ec2824a49b2d33ff91b"
          }
        },
        "980acacee04b43829fe461cf144aeba2": {
          "model_module": "@jupyter-widgets/controls",
          "model_name": "HTMLModel",
          "state": {
            "_view_name": "HTMLView",
            "style": "IPY_MODEL_1ed1d5a241a841419b80afe2d9937070",
            "_dom_classes": [],
            "description": "",
            "_model_name": "HTMLModel",
            "placeholder": "​",
            "_view_module": "@jupyter-widgets/controls",
            "_model_module_version": "1.5.0",
            "value": " 43.0/43.0 [00:14&lt;00:00, 3.02B/s]",
            "_view_count": null,
            "_view_module_version": "1.5.0",
            "description_tooltip": null,
            "_model_module": "@jupyter-widgets/controls",
            "layout": "IPY_MODEL_0cdd818aecc046c88403f43814aeac89"
          }
        },
        "05854f97a88b422bacbeb0f264409fb5": {
          "model_module": "@jupyter-widgets/controls",
          "model_name": "ProgressStyleModel",
          "state": {
            "_view_name": "StyleView",
            "_model_name": "ProgressStyleModel",
            "description_width": "initial",
            "_view_module": "@jupyter-widgets/base",
            "_model_module_version": "1.5.0",
            "_view_count": null,
            "_view_module_version": "1.2.0",
            "bar_color": null,
            "_model_module": "@jupyter-widgets/controls"
          }
        },
        "1b522a09d0b64ec2824a49b2d33ff91b": {
          "model_module": "@jupyter-widgets/base",
          "model_name": "LayoutModel",
          "state": {
            "_view_name": "LayoutView",
            "grid_template_rows": null,
            "right": null,
            "justify_content": null,
            "_view_module": "@jupyter-widgets/base",
            "overflow": null,
            "_model_module_version": "1.2.0",
            "_view_count": null,
            "flex_flow": null,
            "width": null,
            "min_width": null,
            "border": null,
            "align_items": null,
            "bottom": null,
            "_model_module": "@jupyter-widgets/base",
            "top": null,
            "grid_column": null,
            "overflow_y": null,
            "overflow_x": null,
            "grid_auto_flow": null,
            "grid_area": null,
            "grid_template_columns": null,
            "flex": null,
            "_model_name": "LayoutModel",
            "justify_items": null,
            "grid_row": null,
            "max_height": null,
            "align_content": null,
            "visibility": null,
            "align_self": null,
            "height": null,
            "min_height": null,
            "padding": null,
            "grid_auto_rows": null,
            "grid_gap": null,
            "max_width": null,
            "order": null,
            "_view_module_version": "1.2.0",
            "grid_template_areas": null,
            "object_position": null,
            "object_fit": null,
            "grid_auto_columns": null,
            "margin": null,
            "display": null,
            "left": null
          }
        },
        "1ed1d5a241a841419b80afe2d9937070": {
          "model_module": "@jupyter-widgets/controls",
          "model_name": "DescriptionStyleModel",
          "state": {
            "_view_name": "StyleView",
            "_model_name": "DescriptionStyleModel",
            "description_width": "",
            "_view_module": "@jupyter-widgets/base",
            "_model_module_version": "1.5.0",
            "_view_count": null,
            "_view_module_version": "1.2.0",
            "_model_module": "@jupyter-widgets/controls"
          }
        },
        "0cdd818aecc046c88403f43814aeac89": {
          "model_module": "@jupyter-widgets/base",
          "model_name": "LayoutModel",
          "state": {
            "_view_name": "LayoutView",
            "grid_template_rows": null,
            "right": null,
            "justify_content": null,
            "_view_module": "@jupyter-widgets/base",
            "overflow": null,
            "_model_module_version": "1.2.0",
            "_view_count": null,
            "flex_flow": null,
            "width": null,
            "min_width": null,
            "border": null,
            "align_items": null,
            "bottom": null,
            "_model_module": "@jupyter-widgets/base",
            "top": null,
            "grid_column": null,
            "overflow_y": null,
            "overflow_x": null,
            "grid_auto_flow": null,
            "grid_area": null,
            "grid_template_columns": null,
            "flex": null,
            "_model_name": "LayoutModel",
            "justify_items": null,
            "grid_row": null,
            "max_height": null,
            "align_content": null,
            "visibility": null,
            "align_self": null,
            "height": null,
            "min_height": null,
            "padding": null,
            "grid_auto_rows": null,
            "grid_gap": null,
            "max_width": null,
            "order": null,
            "_view_module_version": "1.2.0",
            "grid_template_areas": null,
            "object_position": null,
            "object_fit": null,
            "grid_auto_columns": null,
            "margin": null,
            "display": null,
            "left": null
          }
        }
      }
    }
  },
  "cells": [
    {
      "cell_type": "code",
      "metadata": {
        "colab": {
          "base_uri": "https://localhost:8080/"
        },
        "id": "1wdFq-RJhY9J",
        "outputId": "1289bfe4-5073-4b27-86f3-de702cdc727c"
      },
      "source": [
        "from google.colab import drive\r\n",
        "drive.mount('/content/drive')"
      ],
      "execution_count": 3,
      "outputs": [
        {
          "output_type": "stream",
          "text": [
            "Mounted at /content/drive\n"
          ],
          "name": "stdout"
        }
      ]
    },
    {
      "cell_type": "code",
      "metadata": {
        "id": "VN9TgZWihqwf",
        "colab": {
          "base_uri": "https://localhost:8080/"
        },
        "outputId": "cf460bd2-e425-42c7-86c9-c7a1d3f66a68"
      },
      "source": [
        "!ls 'xxxxxx/en-ach/tokenizer'"
      ],
      "execution_count": 4,
      "outputs": [
        {
          "output_type": "stream",
          "text": [
            "source.spm\t\t target.spm\t\tvocab.json\n",
            "special_tokens_map.json  tokenizer_config.json\n"
          ],
          "name": "stdout"
        }
      ]
    },
    {
      "cell_type": "code",
      "metadata": {
        "colab": {
          "base_uri": "https://localhost:8080/"
        },
        "id": "TG8W6sYglf0m",
        "outputId": "466ef708-e80b-4cb9-ae8d-bd84edc9a8d8"
      },
      "source": [
        "!pip install --no-cache-dir transformers sentencepiece"
      ],
      "execution_count": 1,
      "outputs": [
        {
          "output_type": "stream",
          "text": [
            "Collecting transformers\n",
            "\u001b[?25l  Downloading https://files.pythonhosted.org/packages/ed/db/98c3ea1a78190dac41c0127a063abf92bd01b4b0b6970a6db1c2f5b66fa0/transformers-4.0.1-py3-none-any.whl (1.4MB)\n",
            "\u001b[K     |████████████████████████████████| 1.4MB 13.6MB/s \n",
            "\u001b[?25hCollecting sentencepiece\n",
            "\u001b[?25l  Downloading https://files.pythonhosted.org/packages/e5/2d/6d4ca4bef9a67070fa1cac508606328329152b1df10bdf31fb6e4e727894/sentencepiece-0.1.94-cp36-cp36m-manylinux2014_x86_64.whl (1.1MB)\n",
            "\u001b[K     |████████████████████████████████| 1.1MB 50.9MB/s \n",
            "\u001b[?25hCollecting sacremoses\n",
            "\u001b[?25l  Downloading https://files.pythonhosted.org/packages/7d/34/09d19aff26edcc8eb2a01bed8e98f13a1537005d31e95233fd48216eed10/sacremoses-0.0.43.tar.gz (883kB)\n",
            "\u001b[K     |████████████████████████████████| 890kB 64.5MB/s \n",
            "\u001b[?25hRequirement already satisfied: dataclasses; python_version < \"3.7\" in /usr/local/lib/python3.6/dist-packages (from transformers) (0.8)\n",
            "Requirement already satisfied: filelock in /usr/local/lib/python3.6/dist-packages (from transformers) (3.0.12)\n",
            "Requirement already satisfied: packaging in /usr/local/lib/python3.6/dist-packages (from transformers) (20.7)\n",
            "Requirement already satisfied: requests in /usr/local/lib/python3.6/dist-packages (from transformers) (2.23.0)\n",
            "Requirement already satisfied: tqdm>=4.27 in /usr/local/lib/python3.6/dist-packages (from transformers) (4.41.1)\n",
            "Requirement already satisfied: regex!=2019.12.17 in /usr/local/lib/python3.6/dist-packages (from transformers) (2019.12.20)\n",
            "Requirement already satisfied: numpy in /usr/local/lib/python3.6/dist-packages (from transformers) (1.18.5)\n",
            "Collecting tokenizers==0.9.4\n",
            "\u001b[?25l  Downloading https://files.pythonhosted.org/packages/0f/1c/e789a8b12e28be5bc1ce2156cf87cb522b379be9cadc7ad8091a4cc107c4/tokenizers-0.9.4-cp36-cp36m-manylinux2010_x86_64.whl (2.9MB)\n",
            "\u001b[K     |████████████████████████████████| 2.9MB 35.8MB/s \n",
            "\u001b[?25hRequirement already satisfied: six in /usr/local/lib/python3.6/dist-packages (from sacremoses->transformers) (1.15.0)\n",
            "Requirement already satisfied: click in /usr/local/lib/python3.6/dist-packages (from sacremoses->transformers) (7.1.2)\n",
            "Requirement already satisfied: joblib in /usr/local/lib/python3.6/dist-packages (from sacremoses->transformers) (0.17.0)\n",
            "Requirement already satisfied: pyparsing>=2.0.2 in /usr/local/lib/python3.6/dist-packages (from packaging->transformers) (2.4.7)\n",
            "Requirement already satisfied: urllib3!=1.25.0,!=1.25.1,<1.26,>=1.21.1 in /usr/local/lib/python3.6/dist-packages (from requests->transformers) (1.24.3)\n",
            "Requirement already satisfied: chardet<4,>=3.0.2 in /usr/local/lib/python3.6/dist-packages (from requests->transformers) (3.0.4)\n",
            "Requirement already satisfied: idna<3,>=2.5 in /usr/local/lib/python3.6/dist-packages (from requests->transformers) (2.10)\n",
            "Requirement already satisfied: certifi>=2017.4.17 in /usr/local/lib/python3.6/dist-packages (from requests->transformers) (2020.12.5)\n",
            "Building wheels for collected packages: sacremoses\n",
            "  Building wheel for sacremoses (setup.py) ... \u001b[?25l\u001b[?25hdone\n",
            "  Created wheel for sacremoses: filename=sacremoses-0.0.43-cp36-none-any.whl size=893261 sha256=b7be627da02ddc8b6e2fa2b67402cd6bcb605b6608af28c4d0736fb331a581b4\n",
            "  Stored in directory: /tmp/pip-ephem-wheel-cache-qsooz_f8/wheels/29/3c/fd/7ce5c3f0666dab31a50123635e6fb5e19ceb42ce38d4e58f45\n",
            "Successfully built sacremoses\n",
            "Installing collected packages: sacremoses, tokenizers, transformers, sentencepiece\n",
            "Successfully installed sacremoses-0.0.43 sentencepiece-0.1.94 tokenizers-0.9.4 transformers-4.0.1\n"
          ],
          "name": "stdout"
        }
      ]
    },
    {
      "cell_type": "markdown",
      "metadata": {
        "id": "QbWWBV8sLXmq"
      },
      "source": [
        ""
      ]
    },
    {
      "cell_type": "code",
      "metadata": {
        "id": "u94DKH_uEDvz"
      },
      "source": [
        "import torch\n",
        "from transformers import AutoTokenizer, AutoModelWithLMHead\n",
        "import numpy as np\n",
        "import pandas as pd"
      ],
      "execution_count": 2,
      "outputs": []
    },
    {
      "cell_type": "markdown",
      "metadata": {
        "id": "cbuZwtAUhkq0"
      },
      "source": [
        "##Data Collection"
      ]
    },
    {
      "cell_type": "code",
      "metadata": {
        "id": "LGh1hmYOF-r3",
        "colab": {
          "base_uri": "https://localhost:8080/"
        },
        "outputId": "c30b891c-10c2-4883-f39b-6ffe2ad08738"
      },
      "source": [
        "!pip install opustools-pkg"
      ],
      "execution_count": null,
      "outputs": [
        {
          "output_type": "stream",
          "text": [
            "Requirement already satisfied: opustools-pkg in /usr/local/lib/python3.6/dist-packages (0.0.52)\n"
          ],
          "name": "stdout"
        }
      ]
    },
    {
      "cell_type": "code",
      "metadata": {
        "id": "tlC7kWGARrqa",
        "colab": {
          "base_uri": "https://localhost:8080/"
        },
        "outputId": "8d43b212-960c-4fe7-ae2d-1a02c9380d06"
      },
      "source": [
        "! opus_read -d JW300 -s ach -t en -wm moses -w jw300.ach jw300.en -q"
      ],
      "execution_count": null,
      "outputs": [
        {
          "output_type": "stream",
          "text": [
            "\n",
            "Alignment file /proj/nlpl/data/OPUS/JW300/latest/xml/ach-en.xml.gz not found. The following files are available for downloading:\n",
            "\n",
            " 724 KB https://object.pouta.csc.fi/OPUS-JW300/v1/xml/ach-en.xml.gz\n",
            "   8 MB https://object.pouta.csc.fi/OPUS-JW300/v1/xml/ach.zip\n",
            " 263 MB https://object.pouta.csc.fi/OPUS-JW300/v1/xml/en.zip\n",
            "\n",
            " 272 MB Total size\n",
            "./JW300_latest_xml_ach-en.xml.gz ... 100% of 724 KB\n",
            "./JW300_latest_xml_ach.zip ... 100% of 8 MB\n",
            "./JW300_latest_xml_en.zip ... 100% of 263 MB\n"
          ],
          "name": "stdout"
        }
      ]
    },
    {
      "cell_type": "code",
      "metadata": {
        "id": "-A5cMECVKF2P",
        "colab": {
          "base_uri": "https://localhost:8080/"
        },
        "outputId": "ffb4393c-592a-4d83-cea5-90f22d85d802"
      },
      "source": [
        "!opus_get --directory JW300 --source ach --target en"
      ],
      "execution_count": null,
      "outputs": [
        {
          "output_type": "stream",
          "text": [
            "Downloading 0 file(s) with the total size of 0 KB. Continue? (y/n) y\n"
          ],
          "name": "stdout"
        }
      ]
    },
    {
      "cell_type": "code",
      "metadata": {
        "id": "k5AkLNY9We7h"
      },
      "source": [
        "source_language=\"en\"\n",
        "target_language=\"ach\""
      ],
      "execution_count": null,
      "outputs": []
    },
    {
      "cell_type": "code",
      "metadata": {
        "id": "xO6Ore9fVuaJ",
        "colab": {
          "base_uri": "https://localhost:8080/",
          "height": 196
        },
        "outputId": "9abfe03e-e342-4f47-dcf1-45ba1b114988"
      },
      "source": [
        "# TMX file to dataframe\n",
        "source_file = 'jw300.' + source_language\n",
        "target_file = 'jw300.' + target_language\n",
        "\n",
        "source = []\n",
        "target = []\n",
        "skip_lines = []  # Collect the line numbers of the source portion to skip the same lines for the target portion.\n",
        "with open(source_file) as f:\n",
        "    for i, line in enumerate(f):\n",
        "        # Skip sentences that are contained in the test set.\n",
        "            source.append(line.strip())\n",
        "                     \n",
        "with open(target_file) as f:\n",
        "    for j, line in enumerate(f):\n",
        "        # Only add to corpus if corresponding source was not skipped.\n",
        "            target.append(line.strip())\n",
        "       \n",
        "df = pd.DataFrame(zip(source, target), columns=['source_sentence', 'target_sentence'])\n",
        "# if you get TypeError: data argument can't be an iterator is because of your zip version run this below\n",
        "#df = pd.DataFrame(list(zip(source, target)), columns=['source_sentence', 'target_sentence'])\n",
        "df.head(5)"
      ],
      "execution_count": null,
      "outputs": [
        {
          "output_type": "execute_result",
          "data": {
            "text/html": [
              "<div>\n",
              "<style scoped>\n",
              "    .dataframe tbody tr th:only-of-type {\n",
              "        vertical-align: middle;\n",
              "    }\n",
              "\n",
              "    .dataframe tbody tr th {\n",
              "        vertical-align: top;\n",
              "    }\n",
              "\n",
              "    .dataframe thead th {\n",
              "        text-align: right;\n",
              "    }\n",
              "</style>\n",
              "<table border=\"1\" class=\"dataframe\">\n",
              "  <thead>\n",
              "    <tr style=\"text-align: right;\">\n",
              "      <th></th>\n",
              "      <th>source_sentence</th>\n",
              "      <th>target_sentence</th>\n",
              "    </tr>\n",
              "  </thead>\n",
              "  <tbody>\n",
              "    <tr>\n",
              "      <th>0</th>\n",
              "      <td>Table of Contents</td>\n",
              "      <td>Lok ma Tye i Iye</td>\n",
              "    </tr>\n",
              "    <tr>\n",
              "      <th>1</th>\n",
              "      <td>March 1 , 2011</td>\n",
              "      <td>Marci 1 , 2011</td>\n",
              "    </tr>\n",
              "    <tr>\n",
              "      <th>2</th>\n",
              "      <td>The “ Good News of the Kingdom ” ​ — What Is It ?</td>\n",
              "      <td>“ Kwena Maber me Ker ” Obedo Gin Ango ?</td>\n",
              "    </tr>\n",
              "    <tr>\n",
              "      <th>3</th>\n",
              "      <td>FROM OUR COVER</td>\n",
              "      <td>PWONY MA KWAKO LOK MA I POK NGEYE</td>\n",
              "    </tr>\n",
              "    <tr>\n",
              "      <th>4</th>\n",
              "      <td>3 A Prophecy of Enormous Importance</td>\n",
              "      <td>3 Lok Mo ma Pire Tek pa Lanebi</td>\n",
              "    </tr>\n",
              "  </tbody>\n",
              "</table>\n",
              "</div>"
            ],
            "text/plain": [
              "                                     source_sentence                          target_sentence\n",
              "0                                  Table of Contents                         Lok ma Tye i Iye\n",
              "1                                     March 1 , 2011                           Marci 1 , 2011\n",
              "2  The “ Good News of the Kingdom ” ​ — What Is It ?  “ Kwena Maber me Ker ” Obedo Gin Ango ?\n",
              "3                                     FROM OUR COVER        PWONY MA KWAKO LOK MA I POK NGEYE\n",
              "4                3 A Prophecy of Enormous Importance           3 Lok Mo ma Pire Tek pa Lanebi"
            ]
          },
          "metadata": {
            "tags": []
          },
          "execution_count": 14
        }
      ]
    },
    {
      "cell_type": "markdown",
      "metadata": {
        "id": "4S4QGJFZgyeS"
      },
      "source": [
        "##Data Preprocessing and Preparation"
      ]
    },
    {
      "cell_type": "code",
      "metadata": {
        "id": "zeSMYszqouYX"
      },
      "source": [
        "seed=23"
      ],
      "execution_count": null,
      "outputs": []
    },
    {
      "cell_type": "code",
      "metadata": {
        "id": "gclF4NdCpI0Q",
        "colab": {
          "base_uri": "https://localhost:8080/"
        },
        "outputId": "19eb52bf-6b4d-4617-abd5-ffcfee5618d8"
      },
      "source": [
        "len(df)"
      ],
      "execution_count": null,
      "outputs": [
        {
          "output_type": "execute_result",
          "data": {
            "text/plain": [
              "81969"
            ]
          },
          "metadata": {
            "tags": []
          },
          "execution_count": 16
        }
      ]
    },
    {
      "cell_type": "code",
      "metadata": {
        "id": "aq_EjXprcodg"
      },
      "source": [
        "df.replace('', np.nan, inplace=True)"
      ],
      "execution_count": null,
      "outputs": []
    },
    {
      "cell_type": "code",
      "metadata": {
        "id": "MaOSIl2KdCIk"
      },
      "source": [
        "df.dropna(inplace=True)"
      ],
      "execution_count": null,
      "outputs": []
    },
    {
      "cell_type": "code",
      "metadata": {
        "id": "ebNDHDFnkZd1"
      },
      "source": [
        "df=df.applymap(str)"
      ],
      "execution_count": null,
      "outputs": []
    },
    {
      "cell_type": "code",
      "metadata": {
        "id": "KtcXBRknqFnp",
        "colab": {
          "base_uri": "https://localhost:8080/"
        },
        "outputId": "fee68770-f46a-494a-98e7-808065fc4719"
      },
      "source": [
        "len(df)"
      ],
      "execution_count": null,
      "outputs": [
        {
          "output_type": "execute_result",
          "data": {
            "text/plain": [
              "79310"
            ]
          },
          "metadata": {
            "tags": []
          },
          "execution_count": 20
        }
      ]
    },
    {
      "cell_type": "code",
      "metadata": {
        "id": "E4C30a_TptEe",
        "colab": {
          "base_uri": "https://localhost:8080/"
        },
        "outputId": "3fbd4536-1cbf-4b2c-9cad-6e31f0289efc"
      },
      "source": [
        "#removing rows with cells that contain only non-alphabetic characters\n",
        "df=df[df['source_sentence'].str.contains('[A-Za-z]')]\n",
        "df=df[df['target_sentence'].str.contains('[A-Za-z]')]\n",
        "len(df)"
      ],
      "execution_count": null,
      "outputs": [
        {
          "output_type": "execute_result",
          "data": {
            "text/plain": [
              "76402"
            ]
          },
          "metadata": {
            "tags": []
          },
          "execution_count": 21
        }
      ]
    },
    {
      "cell_type": "code",
      "metadata": {
        "id": "5AZIxSSSgpYc"
      },
      "source": [
        "# drop duplicate translations\n",
        "df_pp=df.copy()\n",
        "df_pp = df_pp.drop_duplicates()\n",
        "\n",
        "# drop conflicting translations\n",
        "df_pp.drop_duplicates(subset='source_sentence', inplace=True)\n",
        "df_pp.drop_duplicates(subset='target_sentence', inplace=True)\n",
        "\n",
        "# Shuffle the data to remove bias in dev set selection.\n",
        "df_pp = df_pp.sample(frac=1, random_state=seed).reset_index(drop=True)"
      ],
      "execution_count": null,
      "outputs": []
    },
    {
      "cell_type": "code",
      "metadata": {
        "id": "bDvhYjQDq0Sx"
      },
      "source": [
        "df_pp.reset_index(drop=True, inplace=True)"
      ],
      "execution_count": null,
      "outputs": []
    },
    {
      "cell_type": "code",
      "metadata": {
        "id": "kXEOvkCPq8ra",
        "colab": {
          "base_uri": "https://localhost:8080/",
          "height": 196
        },
        "outputId": "3abbef61-725e-4126-ab49-f5abd681bbc5"
      },
      "source": [
        "df_pp.head()"
      ],
      "execution_count": null,
      "outputs": [
        {
          "output_type": "execute_result",
          "data": {
            "text/html": [
              "<div>\n",
              "<style scoped>\n",
              "    .dataframe tbody tr th:only-of-type {\n",
              "        vertical-align: middle;\n",
              "    }\n",
              "\n",
              "    .dataframe tbody tr th {\n",
              "        vertical-align: top;\n",
              "    }\n",
              "\n",
              "    .dataframe thead th {\n",
              "        text-align: right;\n",
              "    }\n",
              "</style>\n",
              "<table border=\"1\" class=\"dataframe\">\n",
              "  <thead>\n",
              "    <tr style=\"text-align: right;\">\n",
              "      <th></th>\n",
              "      <th>source_sentence</th>\n",
              "      <th>target_sentence</th>\n",
              "    </tr>\n",
              "  </thead>\n",
              "  <tbody>\n",
              "    <tr>\n",
              "      <th>0</th>\n",
              "      <td>As ‘ Jehovah’s people and the flock of his pas...</td>\n",
              "      <td>( Nwo . 32 : 7 ) Macalo ‘ lwak pa Jehovah , ma...</td>\n",
              "    </tr>\n",
              "    <tr>\n",
              "      <th>1</th>\n",
              "      <td>How will he be “ cast out , ” and how has he b...</td>\n",
              "      <td>I yo ango ma “ gibibole woko , ” dok “ gingoll...</td>\n",
              "    </tr>\n",
              "    <tr>\n",
              "      <th>2</th>\n",
              "      <td>By faith , however , you too can know Jehovah ...</td>\n",
              "      <td>Ento pi niyeni , in bene itwero ngeyo Jehovah ...</td>\n",
              "    </tr>\n",
              "    <tr>\n",
              "      <th>3</th>\n",
              "      <td>No doubt , school counselors sincerely believe...</td>\n",
              "      <td>Wangeyo gire ni jo ma gimini tam ki i cukul pe...</td>\n",
              "    </tr>\n",
              "    <tr>\n",
              "      <th>4</th>\n",
              "      <td>Even those who get baptized when they are adul...</td>\n",
              "      <td>Kadi wa jo ma ginongo batija ma dong guteggi p...</td>\n",
              "    </tr>\n",
              "  </tbody>\n",
              "</table>\n",
              "</div>"
            ],
            "text/plain": [
              "                                     source_sentence                                    target_sentence\n",
              "0  As ‘ Jehovah’s people and the flock of his pas...  ( Nwo . 32 : 7 ) Macalo ‘ lwak pa Jehovah , ma...\n",
              "1  How will he be “ cast out , ” and how has he b...  I yo ango ma “ gibibole woko , ” dok “ gingoll...\n",
              "2  By faith , however , you too can know Jehovah ...  Ento pi niyeni , in bene itwero ngeyo Jehovah ...\n",
              "3  No doubt , school counselors sincerely believe...  Wangeyo gire ni jo ma gimini tam ki i cukul pe...\n",
              "4  Even those who get baptized when they are adul...  Kadi wa jo ma ginongo batija ma dong guteggi p..."
            ]
          },
          "metadata": {
            "tags": []
          },
          "execution_count": 24
        }
      ]
    },
    {
      "cell_type": "code",
      "metadata": {
        "id": "2e5fER59X0eN",
        "colab": {
          "base_uri": "https://localhost:8080/"
        },
        "outputId": "c4cb49a6-2ca8-47d2-c817-694c49394b57"
      },
      "source": [
        "size=len(df_pp)\n",
        "size"
      ],
      "execution_count": null,
      "outputs": [
        {
          "output_type": "execute_result",
          "data": {
            "text/plain": [
              "73092"
            ]
          },
          "metadata": {
            "tags": []
          },
          "execution_count": 25
        }
      ]
    },
    {
      "cell_type": "code",
      "metadata": {
        "id": "X8H6YyCCkIsn",
        "colab": {
          "base_uri": "https://localhost:8080/"
        },
        "outputId": "6f773d31-71e1-4464-9bb5-97d3d6c3ddba"
      },
      "source": [
        "# Split between train/dev/test- ratio 7:2:1 for then saves them as separate files\n",
        "import csv\n",
        "\n",
        "lc=True\n",
        "# Optional: lower case the corpora - this will make it easier to generalize, but without proper casing.\n",
        "if lc: \n",
        "    df_pp[\"source_sentence\"] = df_pp[\"source_sentence\"].str.lower()\n",
        "    df_pp[\"target_sentence\"] = df_pp[\"target_sentence\"].str.lower()\n",
        "\n",
        "train_size=int(size*0.7)\n",
        "train=df_pp.iloc[:train_size, 0:2]\n",
        "\n",
        "dev_size=int(size*0.2)\n",
        "end=train_size+dev_size\n",
        "dev=df_pp.iloc[train_size:end, 0:2]\n",
        "\n",
        "\n",
        "test_size=int(size*0.1)\n",
        "test=df_pp.iloc[end:, 0:2]\n",
        "\n",
        "\n",
        "with open(\"train.\"+source_language, \"w\") as src_file, open(\"train.\"+target_language, \"w\") as trg_file:\n",
        "  for index, row in train.iterrows():\n",
        "    src_file.write(row[\"source_sentence\"]+\"\\n\")\n",
        "    trg_file.write(row[\"target_sentence\"]+\"\\n\")\n",
        "    \n",
        "with open(\"dev.\"+source_language, \"w\") as src_file, open(\"dev.\"+target_language, \"w\") as trg_file:\n",
        "  for index, row in dev.iterrows():\n",
        "    src_file.write(row[\"source_sentence\"]+\"\\n\")\n",
        "    trg_file.write(row[\"target_sentence\"]+\"\\n\")\n",
        "\n",
        "with open(\"test.\"+source_language, \"w\") as src_file, open(\"test.\"+target_language, \"w\") as trg_file:\n",
        "  for index, row in test.iterrows():\n",
        "    src_file.write(row[\"source_sentence\"]+\"\\n\")\n",
        "    trg_file.write(row[\"target_sentence\"]+\"\\n\")\n",
        "\n",
        "df_pp.to_csv(source_language +\"-\"+ target_language, header=False, index=False) \n",
        "\n",
        "\n",
        "# Doublecheck the format below. There should be no extra quotation marks or weird characters.\n",
        "! head train.*\n",
        "! head dev.*"
      ],
      "execution_count": null,
      "outputs": [
        {
          "output_type": "stream",
          "text": [
            "==> train.ach <==\n",
            "( nwo . 32 : 7 ) macalo ‘ lwak pa jehovah , ma wan romine ma en kwayowa - ni , ’ wan ducu wapako lubanga kun watito pi tic matego ma en otimo . ( jab .\n",
            "i yo ango ma “ gibibole woko , ” dok “ gingolle kop ” ?\n",
            "ento pi niyeni , in bene itwero ngeyo jehovah maber adada , ma bedo calo iwacci itye ka nenne .\n",
            "wangeyo gire ni jo ma gimini tam ki i cukul pe gitye ki cwiny marac ka gimini tam ni myero imedde ki kwan i rwom mamalo wek inong dog tic maber .\n",
            "kadi wa jo ma ginongo batija ma dong guteggi pud giwok ki i atematema pi niyegi i yo ma pe gubyeko wa ki acel .\n",
            "pingo pe omyero wawek latin kwan me baibul okwan lagamme akwana ki i buk ?\n",
            "tika ibalo kero ki cawa ni i kom jami ma konygi pe ?\n",
            "nyo bene wan kikomwa watwero nongo ni watye i kwo matek nyo pi lok me ngolo kop alenga .\n",
            "wek wayer lok mupore , mitte ni myero watute dok wati ki wiwa .\n",
            "pingo omyero watute me lubo lanen pa kabaka solomon ?\n",
            "\n",
            "==> train.en <==\n",
            "as ‘ jehovah’s people and the flock of his pasturage , ’ all of us joyously declare his praise and tell others of his mighty acts .\n",
            "how will he be “ cast out , ” and how has he been “ judged ” ?\n",
            "by faith , however , you too can know jehovah as intimately as you would if you could actually see him .\n",
            "no doubt , school counselors sincerely believe that it is in your best interests to pursue higher education and to plan for a secular career .\n",
            "even those who get baptized when they are adults have their faith tested in ways they do not expect .\n",
            "why should we not settle for having a bible student read answers from a bible study aid ?\n",
            "have you ever wasted valuable energy and time on the wrong pursuits ?\n",
            "or we might even find ourselves plagued by some distressing circumstances or perceived injustices .\n",
            "selecting the proper words also involves mental effort and good judgment .\n",
            "why should we strive to imitate young king solomon ?\n",
            "==> dev.ach <==\n",
            "“ ngec [ me ada ] ” otyeko ‘ medde ’\n",
            "pe twere me tic pi jehovah ki cwinywa ducu kun kitungcel nongo watye ka keto cwinywa i kom jami me kom\n",
            "( nen cal ma i pot karatac man . ) ( b ) jo ducu ma i polo kacel ki lobo gibiwinyo nining ka kijwero lobo man marac - ci ?\n",
            "pi ngec mukene madok i kom cikke pa lubanga pi kwo ma pe tum i paradic , nen dul me 3 i buk me baibul twero pwonyowa gin ango ?\n",
            "( ibru 10 : 5 - 10 ) labongo akalakala , pol pa lukricitayo magi ma gin lujudaya - ni guloko tamgi ci gumedde ki dongo i yo me cwiny .\n",
            "medo i kom meno , koko i kom luye luwotwa pe romo keligi arem me cwiny keken ento kelo kwoto nying ki dong yet . ( levi . 19 : 16 ; 1 kor .\n",
            "9 , 10 . ( a ) pingo nikodemo gin ki yucepu me arimataya pe gunyutte ni gitye lupwonnye pa yecu ?\n",
            "ka gwok nyo itye ka tamo pi kit ma pwony moni romo gudo kwede kwoni , itwero penyo laelda nyo lakricitayo mo muteggi i yo me cwiny wek okonyi .\n",
            "i kare ma luicrael gubedo ka nyomo anyira mukene ma pe giworo jehovah , nekemia otito botgi lanen marac pa solomon .\n",
            "( tic 15 : 14 ) lujudaya kacel ki lurok onongo gibibedo i rok man manyen - ni ma kilwongogi ki nying jehovah .\n",
            "\n",
            "==> dev.en <==\n",
            "“ the true knowledge ” becomes “ abundant ”\n",
            "it is not possible to give jehovah our best and at the same time be focused on material things\n",
            "( see opening picture . ) ( b ) how will everyone in heaven and on earth feel after this wicked system is destroyed ?\n",
            "for more information about god’s promise of everlasting life in paradise , see chapter 3 of the book what can the bible teach us ?\n",
            "undoubtedly , most of those christians of jewish descent adjusted their thinking and moved ahead spiritually .\n",
            "moreover , voicing complaints against fellow believers may not only cause them pain but may also deteriorate into the sins of slander and reviling .\n",
            "9 , 10 . ( a ) why did nicodemus and joseph of arimathea keep their interest in jesus secret ?\n",
            "or if you wonder how a certain bible teaching might affect your life , you could ask a congregation elder or another mature christian for help .\n",
            "in nehemiah’s day when many jews were marrying foreigners who did not worship jehovah , nehemiah referred to the bad example of solomon .\n",
            "this new people bearing jehovah’s name would include both jewish and non - jewish believers .\n"
          ],
          "name": "stdout"
        }
      ]
    },
    {
      "cell_type": "code",
      "metadata": {
        "id": "9ZxE_HXCmzGe",
        "colab": {
          "base_uri": "https://localhost:8080/"
        },
        "outputId": "2f13cbb2-621e-4a77-dd48-6899c3920985"
      },
      "source": [
        "print((train_size,dev_size, test_size))"
      ],
      "execution_count": null,
      "outputs": [
        {
          "output_type": "stream",
          "text": [
            "(51164, 14618, 7309)\n"
          ],
          "name": "stdout"
        }
      ]
    },
    {
      "cell_type": "markdown",
      "metadata": {
        "id": "CrfPzzPfp8W9"
      },
      "source": [
        "# Building the Model"
      ]
    },
    {
      "cell_type": "code",
      "metadata": {
        "id": "2x1d6JuREF3T"
      },
      "source": [
        "device = 'cpu'\n",
        "if torch.cuda.is_available(): #check if GPU device is available\n",
        "    device = 'cuda' # assign the gpu to the device"
      ],
      "execution_count": null,
      "outputs": []
    },
    {
      "cell_type": "code",
      "metadata": {
        "colab": {
          "base_uri": "https://localhost:8080/",
          "height": 260,
          "referenced_widgets": [
            "e534d2831e474e078ada95a33a660397",
            "1952450285964431918eb7bcaaf9cbbd",
            "820abf09a2c948ab8b3fccaff52ca59b",
            "8bb8daa8124b4300b788c858eb66f38c",
            "7c14f01637344617922fad4d39d486eb",
            "f7c06ba666444359b6eb25ac7e6ee411",
            "c9242d3e113d492fb08ce356ff91af93",
            "4fa11ed591914ce391a010c5e729ad29",
            "2fe3720c5526431d90ea1621e0f0db1c",
            "c5a4c27acfec45a084c65ce10fcdb1f9",
            "b27e5c7a85454deebf7af7ae63804017",
            "0d22e15d7dd6440786d09d6281702fdf",
            "7946ee2006f245a38fcd966de5888947",
            "cce7d5a9a5444b3cb9b07f737e33880e",
            "b23acd76080c457090ab5f80d1959b6e",
            "97bec1fe7a81444db2dd14257a3a9377",
            "fa08144dee8f45bcaaf308980dfb6723",
            "5877bc9ab96f4f769f35f84e4977177e",
            "d8a868f4c5ab420ca866840de82ed2a3",
            "d3151598f6e54b759212bdcebb5a150e",
            "ae86ffc4f0a543559145d3e361e64d95",
            "32242f2f53e14d37a7d276ef35d603b7",
            "4cbadde614a54141ac71e87e5b14e499",
            "648de674e15c42288760b7309161c442",
            "37479b8eaa4b4304bb77aeaa682db705",
            "51922d0be5304e88a9e7c0007ce171f0",
            "320b14f5b0074e56a8e8ee8e01d8f93e",
            "5f90448082bf4eed93cc6a7d112da70e",
            "c55fa608db6f4bbaaaaafe04fec8032c",
            "0784df8f072049dfbbd1ad118ae7e004",
            "a1da9e74ecb942b2a48c36c89db8ccbb",
            "e6dd0737eda745578c5f4e87570e5142",
            "309fabbb8edd4e4cbd00e346680b7d74",
            "151909803f6041ae846587874b51eb3a",
            "3a8f9b74d70146e7ab1a1842c99c99ad",
            "980acacee04b43829fe461cf144aeba2",
            "05854f97a88b422bacbeb0f264409fb5",
            "1b522a09d0b64ec2824a49b2d33ff91b",
            "1ed1d5a241a841419b80afe2d9937070",
            "0cdd818aecc046c88403f43814aeac89"
          ]
        },
        "id": "VGc28Rtfjk5K",
        "outputId": "4095b1e6-59b7-4abb-d9a1-10e6429b534a"
      },
      "source": [
        "\r\n",
        "from transformers import AutoTokenizer, AutoModelForSeq2SeqLM\r\n",
        "\r\n",
        "tokenizer = AutoTokenizer.from_pretrained(\"Helsinki-NLP/opus-mt-en-luo\", use_fast=False)\r\n",
        "# model = AutoModelForSeq2SeqLM.from_pretrained(\"Helsinki-NLP/opus-mt-en-luo\")\r\n",
        "model = AutoModelWithLMHead.from_pretrained(\"Helsinki-NLP/opus-mt-en-luo\")\r\n"
      ],
      "execution_count": 7,
      "outputs": [
        {
          "output_type": "display_data",
          "data": {
            "application/vnd.jupyter.widget-view+json": {
              "model_id": "e534d2831e474e078ada95a33a660397",
              "version_minor": 0,
              "version_major": 2
            },
            "text/plain": [
              "HBox(children=(FloatProgress(value=0.0, description='Downloading', max=1133.0, style=ProgressStyle(description…"
            ]
          },
          "metadata": {
            "tags": []
          }
        },
        {
          "output_type": "stream",
          "text": [
            "\n"
          ],
          "name": "stdout"
        },
        {
          "output_type": "display_data",
          "data": {
            "application/vnd.jupyter.widget-view+json": {
              "model_id": "2fe3720c5526431d90ea1621e0f0db1c",
              "version_minor": 0,
              "version_major": 2
            },
            "text/plain": [
              "HBox(children=(FloatProgress(value=0.0, description='Downloading', max=741813.0, style=ProgressStyle(descripti…"
            ]
          },
          "metadata": {
            "tags": []
          }
        },
        {
          "output_type": "stream",
          "text": [
            "\n"
          ],
          "name": "stdout"
        },
        {
          "output_type": "display_data",
          "data": {
            "application/vnd.jupyter.widget-view+json": {
              "model_id": "fa08144dee8f45bcaaf308980dfb6723",
              "version_minor": 0,
              "version_major": 2
            },
            "text/plain": [
              "HBox(children=(FloatProgress(value=0.0, description='Downloading', max=769849.0, style=ProgressStyle(descripti…"
            ]
          },
          "metadata": {
            "tags": []
          }
        },
        {
          "output_type": "stream",
          "text": [
            "\n"
          ],
          "name": "stdout"
        },
        {
          "output_type": "display_data",
          "data": {
            "application/vnd.jupyter.widget-view+json": {
              "model_id": "37479b8eaa4b4304bb77aeaa682db705",
              "version_minor": 0,
              "version_major": 2
            },
            "text/plain": [
              "HBox(children=(FloatProgress(value=0.0, description='Downloading', max=1108211.0, style=ProgressStyle(descript…"
            ]
          },
          "metadata": {
            "tags": []
          }
        },
        {
          "output_type": "stream",
          "text": [
            "\n"
          ],
          "name": "stdout"
        },
        {
          "output_type": "display_data",
          "data": {
            "application/vnd.jupyter.widget-view+json": {
              "model_id": "309fabbb8edd4e4cbd00e346680b7d74",
              "version_minor": 0,
              "version_major": 2
            },
            "text/plain": [
              "HBox(children=(FloatProgress(value=0.0, description='Downloading', max=43.0, style=ProgressStyle(description_w…"
            ]
          },
          "metadata": {
            "tags": []
          }
        },
        {
          "output_type": "stream",
          "text": [
            "\n"
          ],
          "name": "stdout"
        }
      ]
    },
    {
      "cell_type": "code",
      "metadata": {
        "id": "10BpOLEDEcAF"
      },
      "source": [
        "model = model.to(device) # bind the model to the GPU device"
      ],
      "execution_count": null,
      "outputs": []
    },
    {
      "cell_type": "markdown",
      "metadata": {
        "id": "rz46jRjiqtmw"
      },
      "source": [
        "##Tokenizing"
      ]
    },
    {
      "cell_type": "code",
      "metadata": {
        "id": "L9qFxChQExLn"
      },
      "source": [
        "src_texts = [ \"Hello World\"]"
      ],
      "execution_count": null,
      "outputs": []
    },
    {
      "cell_type": "code",
      "metadata": {
        "id": "dxkIvjWvGi7c"
      },
      "source": [
        "tokens=tokenizer.prepare_seq2seq_batch(src_texts,)"
      ],
      "execution_count": null,
      "outputs": []
    },
    {
      "cell_type": "code",
      "metadata": {
        "id": "xMXSeNvNGoaW",
        "colab": {
          "base_uri": "https://localhost:8080/"
        },
        "outputId": "180b08d8-af5e-4b58-9f02-9bba20983a10"
      },
      "source": [
        "tokens"
      ],
      "execution_count": null,
      "outputs": [
        {
          "output_type": "execute_result",
          "data": {
            "text/plain": [
              "{'input_ids': [[44, 23418, 1006, 0]], 'attention_mask': [[1, 1, 1, 1]]}"
            ]
          },
          "metadata": {
            "tags": []
          },
          "execution_count": 54
        }
      ]
    },
    {
      "cell_type": "code",
      "metadata": {
        "id": "Abde78h2wbqw"
      },
      "source": [
        "for k in tokens.keys():\r\n",
        "  tokens[k]=torch.LongTensor(tokens[k])"
      ],
      "execution_count": null,
      "outputs": []
    },
    {
      "cell_type": "code",
      "metadata": {
        "id": "E49ICDmLH-v3",
        "colab": {
          "base_uri": "https://localhost:8080/"
        },
        "outputId": "b767b290-7468-467c-c311-6625bfb0e187"
      },
      "source": [
        "type(tokens)"
      ],
      "execution_count": null,
      "outputs": [
        {
          "output_type": "execute_result",
          "data": {
            "text/plain": [
              "transformers.tokenization_utils_base.BatchEncoding"
            ]
          },
          "metadata": {
            "tags": []
          },
          "execution_count": 56
        }
      ]
    },
    {
      "cell_type": "code",
      "metadata": {
        "id": "ngRkvSbqH9kR",
        "colab": {
          "base_uri": "https://localhost:8080/"
        },
        "outputId": "7e69b0cf-5812-4d0e-cabf-f1ef43a54b37"
      },
      "source": [
        "tokens.to(device)"
      ],
      "execution_count": null,
      "outputs": [
        {
          "output_type": "execute_result",
          "data": {
            "text/plain": [
              "{'input_ids': tensor([[   44, 23418,  1006,     0]], device='cuda:0'), 'attention_mask': tensor([[1, 1, 1, 1]], device='cuda:0')}"
            ]
          },
          "metadata": {
            "tags": []
          },
          "execution_count": 57
        }
      ]
    },
    {
      "cell_type": "code",
      "metadata": {
        "id": "tAaAL-0CF-QD"
      },
      "source": [
        "translated = model.generate(**tokens)"
      ],
      "execution_count": null,
      "outputs": []
    },
    {
      "cell_type": "code",
      "metadata": {
        "id": "5ggWByHQLtC5"
      },
      "source": [
        "tgt_text = [tokenizer.decode(t, skip_special_tokens=True) for t in translated]"
      ],
      "execution_count": null,
      "outputs": []
    },
    {
      "cell_type": "code",
      "metadata": {
        "id": "VUi1sI59LyR8",
        "colab": {
          "base_uri": "https://localhost:8080/"
        },
        "outputId": "f97735bd-f6ef-4a8c-f414-a5c073eb0069"
      },
      "source": [
        "tgt_text"
      ],
      "execution_count": null,
      "outputs": [
        {
          "output_type": "execute_result",
          "data": {
            "text/plain": [
              "['MANA Kaka Piny Biro Mulo Ngimani']"
            ]
          },
          "metadata": {
            "tags": []
          },
          "execution_count": 60
        }
      ]
    },
    {
      "cell_type": "code",
      "metadata": {
        "id": "_WnrBpPIZGaF",
        "colab": {
          "base_uri": "https://localhost:8080/"
        },
        "outputId": "c75b7cb0-3a35-46cc-960d-6ea691f836b0"
      },
      "source": [
        "train_tokens=tokenizer.prepare_seq2seq_batch(list(train[\"source_sentence\"]), tgt_texts=list(train[\"target_sentence\"]), padding=True,truncation=True, return_tensors=\"pt\" )\n",
        "train_tokens.to(device)"
      ],
      "execution_count": null,
      "outputs": [
        {
          "output_type": "execute_result",
          "data": {
            "text/plain": [
              "{'input_ids': tensor([[   54,    21,  4774,  ..., 52235, 52235, 52235],\n",
              "        [  166,    52,    53,  ..., 52235, 52235, 52235],\n",
              "        [   79,   264,    44,  ..., 52235, 52235, 52235],\n",
              "        ...,\n",
              "        [   36,   267,    44,  ..., 52235, 52235, 52235],\n",
              "        [  166,   227,     5,  ..., 52235, 52235, 52235],\n",
              "        [  132,  3509,  4332,  ..., 52235, 52235, 52235]], device='cuda:0'), 'attention_mask': tensor([[1, 1, 1,  ..., 0, 0, 0],\n",
              "        [1, 1, 1,  ..., 0, 0, 0],\n",
              "        [1, 1, 1,  ..., 0, 0, 0],\n",
              "        ...,\n",
              "        [1, 1, 1,  ..., 0, 0, 0],\n",
              "        [1, 1, 1,  ..., 0, 0, 0],\n",
              "        [1, 1, 1,  ..., 0, 0, 0]], device='cuda:0'), 'labels': tensor([[   39, 20011,    44,  ..., 52235, 52235, 52235],\n",
              "        [ 1474,   123,   118,  ..., 52235, 52235, 52235],\n",
              "        [   32,  1925,   933,  ..., 52235, 52235, 52235],\n",
              "        ...,\n",
              "        [  152,  6919, 32572,  ..., 52235, 52235, 52235],\n",
              "        [  933,    44, 23518,  ..., 52235, 52235, 52235],\n",
              "        [ 2550,   243, 19909,  ..., 52235, 52235, 52235]], device='cuda:0')}"
            ]
          },
          "metadata": {
            "tags": []
          },
          "execution_count": 61
        }
      ]
    },
    {
      "cell_type": "markdown",
      "metadata": {
        "id": "UPGPd1FosGmY"
      },
      "source": [
        "##Testing the model before fine-tuning"
      ]
    },
    {
      "cell_type": "code",
      "metadata": {
        "id": "5PY0Q2qxCm__"
      },
      "source": [
        "def test_model(model,tokenizer, test_df):\n",
        "\n",
        "  test_predictions=[]\n",
        "\n",
        "  for row in test_df[\"source_sentence\"]:\n",
        "    tokens=tokenizer.prepare_seq2seq_batch([row])\n",
        "    tokens.to(device)\n",
        "    translated = model.generate(**tokens)\n",
        "    tgt_text = [tokenizer.decode(t, skip_special_tokens=True) for t in translated]\n",
        "    test_predictions.append(tgt_text[0])\n",
        "\n",
        "  reference_preds=pd.DataFrame({\"Predictions\": test_predictions, \"Reference\": test[\"target_sentence\"]})\n",
        "\n",
        "  return pred_ref_df\n"
      ],
      "execution_count": null,
      "outputs": []
    },
    {
      "cell_type": "code",
      "metadata": {
        "id": "jxdXIDZ9DhaS"
      },
      "source": [
        "def gen_bleu_score(pred_ref_df):\n",
        "  from nltk.translate.bleu_score import corpus_bleu\n",
        "  ref_tokens=[]\n",
        "  pred_tokens=[]\n",
        "\n",
        "  for row in pred_ref_df[\"Reference\"]:\n",
        "    ref_tokens.append(row.split())\n",
        "  for row in pred_ref_df[\"Predictions\"]:\n",
        "   pred_tokens.append(row.split())\n",
        "\n",
        "   return corpus_bleu(ref_tokens, pred_tokens)\n"
      ],
      "execution_count": null,
      "outputs": []
    },
    {
      "cell_type": "code",
      "metadata": {
        "id": "zfrWEb7ZwCup"
      },
      "source": [
        "before_pred_df=test_model(model, tokenizer, test)"
      ],
      "execution_count": null,
      "outputs": []
    },
    {
      "cell_type": "code",
      "metadata": {
        "id": "gw_O8LXC2ELj"
      },
      "source": [
        "dev.reset_index(inplace=True, drop=True)"
      ],
      "execution_count": null,
      "outputs": []
    },
    {
      "cell_type": "markdown",
      "metadata": {
        "id": "5g9mfgtjwHzr"
      },
      "source": [
        "create the custom dataset that will be sued for dataloading"
      ]
    },
    {
      "cell_type": "code",
      "metadata": {
        "id": "BEYwgtr9EwS1"
      },
      "source": [
        "class CustomDataset(torch.utils.data.Dataset):\n",
        "\n",
        "    def __init__(self, data, maxlen, tokenizer, with_labels=True,):\n",
        "\n",
        "        self.data = data  # pandas dataframe\n",
        "        #Initialize the tokenizer\n",
        "        self.tokenizer = tokenizer  \n",
        "\n",
        "        # self.tokenized_data = self.tokenizer\n",
        "\n",
        "        self.maxlen = maxlen\n",
        "        self.with_labels = with_labels \n",
        "\n",
        "    def __len__(self):\n",
        "        return len(self.data)\n",
        "\n",
        "    def __getitem__(self, index):\n",
        "\n",
        "        # print(type(self.data))\n",
        "        # print(\"index:\", index)\n",
        "\n",
        "        # Selecting sentence1 and sentence2 at the specified index in the data frame\n",
        "        sent1 = [self.data.loc[index, \"source_sentence\"]]\n",
        "        sent2 = [self.data.loc[index, \"target_sentence\"]]\n",
        "\n",
        "        # print(\"Sent1:\", len(sent1))\n",
        "        # print(sent1)\n",
        "        # print(\"Sent2:\", len(sent2))\n",
        "        # print(sent2)\n",
        "\n",
        "        # Tokenize the pair of sentences to get token ids, attention masks and token type ids\n",
        "        encoded_pair = self.tokenizer.prepare_seq2seq_batch(sent1, sent2, \n",
        "                                      # max_length=tokenizer.max_len,\n",
        "                                      padding='max_length',  # Pad to max_length\n",
        "                                      truncation=True,  # Truncate to max_length\n",
        "                                      return_tensors='pt')  # Return torch.Tensor objects\n",
        "\n",
        "         \n",
        "        # for key in encoded_pair.keys():\n",
        "          # print(\"encoded pair : %s : %s\"%(key, str(encoded_pair[key].size())))\n",
        "          # print(encoded_pair[key])\n",
        "          # print(tokenizer.convert_ids_to_tokens(encoded_pair[key].squeeze(0)))\n",
        "\n",
        "        encoded_pair['input_ids'] = encoded_pair['input_ids'].squeeze(0)  # tensor of token ids\n",
        "        encoded_pair['attention_mask'] = encoded_pair['attention_mask'].squeeze(0)  # binary tensor with \"0\" for padded values and \"1\" for the other values\n",
        "\n",
        "        # print(\"ids:\", input_ids.size())\n",
        "        # print(attn_masks.size())\n",
        "\n",
        "        if self.with_labels:  # True if the dataset has labels\n",
        "            encoded_pair['labels'] = encoded_pair['labels'].squeeze(0)\n",
        "            # return input_ids, attn_masks, label   -- This is what I saw in an example. It resulted to an erroe\n",
        "            return encoded_pair\n",
        "            # return sent1, sent2\n",
        "        else:\n",
        "            # return sent1, sent2\n",
        "            return input_ids, attn_masks"
      ],
      "execution_count": null,
      "outputs": []
    },
    {
      "cell_type": "code",
      "metadata": {
        "id": "VJbvhLOe-U5h"
      },
      "source": [
        "train_dataset= CustomDataset(train, 1024, tokenizer, with_labels=True,)\n",
        "eval_dataset= CustomDataset(dev, 1024, tokenizer, with_labels=True,)"
      ],
      "execution_count": null,
      "outputs": []
    },
    {
      "cell_type": "code",
      "metadata": {
        "id": "0Em8bDjodHxt"
      },
      "source": [
        "from transformers import Trainer, TrainingArguments"
      ],
      "execution_count": null,
      "outputs": []
    },
    {
      "cell_type": "code",
      "metadata": {
        "id": "VahUvtBZd--V"
      },
      "source": [
        "training_args = TrainingArguments(\n",
        "    output_dir='./results',          # output directory\n",
        "    num_train_epochs=2,              # total # of training epochs\n",
        "    per_device_train_batch_size=4,  # batch size per device during training\n",
        "    per_device_eval_batch_size=4,   # batch size for evaluation\n",
        "    warmup_steps=500,                # number of warmup steps for learning rate scheduler\n",
        "    weight_decay=0.01,               # strength of weight decay\n",
        "    logging_dir='./logs',            # directory for storing logs\n",
        ")\n",
        "\n",
        "trainer = Trainer(\n",
        "    model=model,                         # the instantiated 🤗 Transformers model to be trained\n",
        "    args=training_args,                  # training arguments, defined above\n",
        "    train_dataset=train_dataset,\n",
        "    eval_dataset=eval_dataset,\n",
        "    #tokenizer=tokenizer\n",
        ")"
      ],
      "execution_count": null,
      "outputs": []
    },
    {
      "cell_type": "code",
      "metadata": {
        "id": "MYziZpF_eNnR",
        "colab": {
          "base_uri": "https://localhost:8080/",
          "height": 1000
        },
        "outputId": "2f1c9238-b4dd-4dea-c4c1-500a5269d991"
      },
      "source": [
        "trainer.train()  "
      ],
      "execution_count": null,
      "outputs": [
        {
          "output_type": "display_data",
          "data": {
            "text/html": [
              "\n",
              "    <div>\n",
              "        <style>\n",
              "            /* Turns off some styling */\n",
              "            progress {\n",
              "                /* gets rid of default border in Firefox and Opera. */\n",
              "                border: none;\n",
              "                /* Needs to be in here for Safari polyfill so background images work as expected. */\n",
              "                background-size: auto;\n",
              "            }\n",
              "        </style>\n",
              "      \n",
              "      <progress value='25582' max='25582' style='width:300px; height:20px; vertical-align: middle;'></progress>\n",
              "      [25582/25582 3:08:48, Epoch 2/2]\n",
              "    </div>\n",
              "    <table border=\"1\" class=\"dataframe\">\n",
              "  <thead>\n",
              "    <tr style=\"text-align: left;\">\n",
              "      <th>Step</th>\n",
              "      <th>Training Loss</th>\n",
              "    </tr>\n",
              "  </thead>\n",
              "  <tbody>\n",
              "    <tr>\n",
              "      <td>500</td>\n",
              "      <td>2.427850</td>\n",
              "    </tr>\n",
              "    <tr>\n",
              "      <td>1000</td>\n",
              "      <td>0.247516</td>\n",
              "    </tr>\n",
              "    <tr>\n",
              "      <td>1500</td>\n",
              "      <td>0.208337</td>\n",
              "    </tr>\n",
              "    <tr>\n",
              "      <td>2000</td>\n",
              "      <td>0.190387</td>\n",
              "    </tr>\n",
              "    <tr>\n",
              "      <td>2500</td>\n",
              "      <td>0.184724</td>\n",
              "    </tr>\n",
              "    <tr>\n",
              "      <td>3000</td>\n",
              "      <td>0.174153</td>\n",
              "    </tr>\n",
              "    <tr>\n",
              "      <td>3500</td>\n",
              "      <td>0.161937</td>\n",
              "    </tr>\n",
              "    <tr>\n",
              "      <td>4000</td>\n",
              "      <td>0.156642</td>\n",
              "    </tr>\n",
              "    <tr>\n",
              "      <td>4500</td>\n",
              "      <td>0.154239</td>\n",
              "    </tr>\n",
              "    <tr>\n",
              "      <td>5000</td>\n",
              "      <td>0.149986</td>\n",
              "    </tr>\n",
              "    <tr>\n",
              "      <td>5500</td>\n",
              "      <td>0.145570</td>\n",
              "    </tr>\n",
              "    <tr>\n",
              "      <td>6000</td>\n",
              "      <td>0.142089</td>\n",
              "    </tr>\n",
              "    <tr>\n",
              "      <td>6500</td>\n",
              "      <td>0.141008</td>\n",
              "    </tr>\n",
              "    <tr>\n",
              "      <td>7000</td>\n",
              "      <td>0.139760</td>\n",
              "    </tr>\n",
              "    <tr>\n",
              "      <td>7500</td>\n",
              "      <td>0.133728</td>\n",
              "    </tr>\n",
              "    <tr>\n",
              "      <td>8000</td>\n",
              "      <td>0.128677</td>\n",
              "    </tr>\n",
              "    <tr>\n",
              "      <td>8500</td>\n",
              "      <td>0.130158</td>\n",
              "    </tr>\n",
              "    <tr>\n",
              "      <td>9000</td>\n",
              "      <td>0.126525</td>\n",
              "    </tr>\n",
              "    <tr>\n",
              "      <td>9500</td>\n",
              "      <td>0.127756</td>\n",
              "    </tr>\n",
              "    <tr>\n",
              "      <td>10000</td>\n",
              "      <td>0.124718</td>\n",
              "    </tr>\n",
              "    <tr>\n",
              "      <td>10500</td>\n",
              "      <td>0.126503</td>\n",
              "    </tr>\n",
              "    <tr>\n",
              "      <td>11000</td>\n",
              "      <td>0.116735</td>\n",
              "    </tr>\n",
              "    <tr>\n",
              "      <td>11500</td>\n",
              "      <td>0.120414</td>\n",
              "    </tr>\n",
              "    <tr>\n",
              "      <td>12000</td>\n",
              "      <td>0.118908</td>\n",
              "    </tr>\n",
              "    <tr>\n",
              "      <td>12500</td>\n",
              "      <td>0.119449</td>\n",
              "    </tr>\n",
              "    <tr>\n",
              "      <td>13000</td>\n",
              "      <td>0.113284</td>\n",
              "    </tr>\n",
              "    <tr>\n",
              "      <td>13500</td>\n",
              "      <td>0.107918</td>\n",
              "    </tr>\n",
              "    <tr>\n",
              "      <td>14000</td>\n",
              "      <td>0.111339</td>\n",
              "    </tr>\n",
              "    <tr>\n",
              "      <td>14500</td>\n",
              "      <td>0.108788</td>\n",
              "    </tr>\n",
              "    <tr>\n",
              "      <td>15000</td>\n",
              "      <td>0.110030</td>\n",
              "    </tr>\n",
              "    <tr>\n",
              "      <td>15500</td>\n",
              "      <td>0.107391</td>\n",
              "    </tr>\n",
              "    <tr>\n",
              "      <td>16000</td>\n",
              "      <td>0.106601</td>\n",
              "    </tr>\n",
              "    <tr>\n",
              "      <td>16500</td>\n",
              "      <td>0.107459</td>\n",
              "    </tr>\n",
              "    <tr>\n",
              "      <td>17000</td>\n",
              "      <td>0.109125</td>\n",
              "    </tr>\n",
              "    <tr>\n",
              "      <td>17500</td>\n",
              "      <td>0.100706</td>\n",
              "    </tr>\n",
              "    <tr>\n",
              "      <td>18000</td>\n",
              "      <td>0.101603</td>\n",
              "    </tr>\n",
              "    <tr>\n",
              "      <td>18500</td>\n",
              "      <td>0.102548</td>\n",
              "    </tr>\n",
              "    <tr>\n",
              "      <td>19000</td>\n",
              "      <td>0.103644</td>\n",
              "    </tr>\n",
              "    <tr>\n",
              "      <td>19500</td>\n",
              "      <td>0.101218</td>\n",
              "    </tr>\n",
              "    <tr>\n",
              "      <td>20000</td>\n",
              "      <td>0.105866</td>\n",
              "    </tr>\n",
              "    <tr>\n",
              "      <td>20500</td>\n",
              "      <td>0.101583</td>\n",
              "    </tr>\n",
              "    <tr>\n",
              "      <td>21000</td>\n",
              "      <td>0.101090</td>\n",
              "    </tr>\n",
              "    <tr>\n",
              "      <td>21500</td>\n",
              "      <td>0.101025</td>\n",
              "    </tr>\n",
              "    <tr>\n",
              "      <td>22000</td>\n",
              "      <td>0.100404</td>\n",
              "    </tr>\n",
              "    <tr>\n",
              "      <td>22500</td>\n",
              "      <td>0.098288</td>\n",
              "    </tr>\n",
              "    <tr>\n",
              "      <td>23000</td>\n",
              "      <td>0.099944</td>\n",
              "    </tr>\n",
              "    <tr>\n",
              "      <td>23500</td>\n",
              "      <td>0.096043</td>\n",
              "    </tr>\n",
              "    <tr>\n",
              "      <td>24000</td>\n",
              "      <td>0.097352</td>\n",
              "    </tr>\n",
              "    <tr>\n",
              "      <td>24500</td>\n",
              "      <td>0.096976</td>\n",
              "    </tr>\n",
              "    <tr>\n",
              "      <td>25000</td>\n",
              "      <td>0.099591</td>\n",
              "    </tr>\n",
              "    <tr>\n",
              "      <td>25500</td>\n",
              "      <td>0.099681</td>\n",
              "    </tr>\n",
              "  </tbody>\n",
              "</table><p>"
            ],
            "text/plain": [
              "<IPython.core.display.HTML object>"
            ]
          },
          "metadata": {
            "tags": []
          }
        },
        {
          "output_type": "execute_result",
          "data": {
            "text/plain": [
              "TrainOutput(global_step=25582, training_loss=0.17011348998590403)"
            ]
          },
          "metadata": {
            "tags": []
          },
          "execution_count": 67
        }
      ]
    },
    {
      "cell_type": "code",
      "metadata": {
        "id": "BidlCJ7LJkRv",
        "colab": {
          "base_uri": "https://localhost:8080/"
        },
        "outputId": "fedc650f-0b36-4181-9184-27c093166904"
      },
      "source": [
        "#If you have enough memory - you can run the cell below otherwise run the next cell\n",
        "\n",
        "test_tokens=tokenizer.prepare_seq2seq_batch(list(test[\"source_sentence\"]),padding=True,truncation=True, return_tensors=\"pt\" )\n",
        "test_tokens.to(device)"
      ],
      "execution_count": null,
      "outputs": [
        {
          "output_type": "execute_result",
          "data": {
            "text/plain": [
              "{'input_ids': tensor([[  276,  3088,    12,  ..., 52235, 52235, 52235],\n",
              "        [   70,    44,     3,  ..., 52235, 52235, 52235],\n",
              "        [ 7473,   469,    44,  ..., 52235, 52235, 52235],\n",
              "        ...,\n",
              "        [   86,    29,     5,  ..., 52235, 52235, 52235],\n",
              "        [ 3834,    44,     3,  ..., 52235, 52235, 52235],\n",
              "        [   41,   663,  1363,  ..., 52235, 52235, 52235]], device='cuda:0'), 'attention_mask': tensor([[1, 1, 1,  ..., 0, 0, 0],\n",
              "        [1, 1, 1,  ..., 0, 0, 0],\n",
              "        [1, 1, 1,  ..., 0, 0, 0],\n",
              "        ...,\n",
              "        [1, 1, 1,  ..., 0, 0, 0],\n",
              "        [1, 1, 1,  ..., 0, 0, 0],\n",
              "        [1, 1, 1,  ..., 0, 0, 0]], device='cuda:0')}"
            ]
          },
          "metadata": {
            "tags": []
          },
          "execution_count": 62
        }
      ]
    },
    {
      "cell_type": "code",
      "metadata": {
        "id": "jnTLhrwb67F-"
      },
      "source": [
        "trainer.save_model(\"model/\")"
      ],
      "execution_count": null,
      "outputs": []
    },
    {
      "cell_type": "code",
      "metadata": {
        "id": "DKwyhwnbfK0M"
      },
      "source": [
        "test_predictions = [tokenizer.decode(t, skip_special_tokens=True) for t in model.generate(**test_tokens)]"
      ],
      "execution_count": null,
      "outputs": []
    },
    {
      "cell_type": "code",
      "metadata": {
        "id": "ovOqqX3j7-fj"
      },
      "source": [
        "test_predictions=[]\n",
        "\n",
        "for row in test[\"source_sentence\"]:\n",
        "    tokens=tokenizer.prepare_seq2seq_batch([row],padding=True,truncation=True, return_tensors=\"pt\" )\n",
        "    tokens.to(device)\n",
        "    translated = model.generate(**tokens)\n",
        "    tgt_text = [tokenizer.decode(t, skip_special_tokens=True) for t in translated]\n",
        "    test_predictions.append(tgt_text[0])"
      ],
      "execution_count": null,
      "outputs": []
    },
    {
      "cell_type": "code",
      "metadata": {
        "id": "3M5L2JXAEKkx"
      },
      "source": [
        "pred_len=len(test_predictions)"
      ],
      "execution_count": null,
      "outputs": []
    },
    {
      "cell_type": "code",
      "metadata": {
        "colab": {
          "base_uri": "https://localhost:8080/"
        },
        "id": "2GpnUjzGtD81",
        "outputId": "04b7c4c7-c342-46b4-e389-4af6e6bf9e53"
      },
      "source": [
        "pred_len"
      ],
      "execution_count": null,
      "outputs": [
        {
          "output_type": "execute_result",
          "data": {
            "text/plain": [
              "7310"
            ]
          },
          "metadata": {
            "tags": []
          },
          "execution_count": 75
        }
      ]
    },
    {
      "cell_type": "code",
      "metadata": {
        "id": "q5Ssu4MNFk7D",
        "colab": {
          "base_uri": "https://localhost:8080/"
        },
        "outputId": "134392d6-e8a8-4bca-8b2a-cbe144d7464e"
      },
      "source": [
        "test_predictions"
      ],
      "execution_count": null,
      "outputs": [
        {
          "output_type": "execute_result",
          "data": {
            "text/plain": [
              "['en owaco ni :  ka ce jehovah pe mara, ci tirane onongo pe tye i yo me cwiny. ',\n",
              " '1, 2. ( a ) kuc ango ma watye kwede i kare - ni?',\n",
              " 'i kare - ni bene, omyero wange ni mic pa kric, ma twero konyowa me timo bal.',\n",
              " 'mar ma gitye kwede pi jehovah kacel ki niye matek i kom cikke ni en bijwayo jami ducu maraco ducu dok bimiyo mot bot luticce ma lugen me kwo ma pe tum i lobo manyen.  kwan jabuli 37 : 5, 7, 9, 29, 29, 29.',\n",
              " 'i yo ango ma luelda gitye ka miyo yomcwiny bot luye luwo?',\n",
              " 'dano pe  pe ye gin ma cwiny pa lubanga cwiny maleng, pien gitye ka tim maraco i kome, dok pe twero ngeyogi. ',\n",
              " 'mitte ni wabed ki miti me ngeyo yubbe kacel ki yubbe. ',\n",
              " 'ento i nge kare mo, en okwanyo yo acel keken i nge kare mukene.',\n",
              " 'jo me lobo - ni gitye ka tito kwena i yo me cwiny, dok bene tye ka pwonyo jami mapol.',\n",
              " 'tekcwiny i kine mukene nyuto gin ma pe wawaco.',\n",
              " 'go kong lok man : myero ibed ka wot i kabedo mo.',\n",
              " 'i kare ma en tye ka wot ma kiloko i cok, en ocako c i dye tim meno.',\n",
              " 'lakwena paulo ocoyo ni :  kit pa lubanga nen ka maleng ma lubbe ki lobo, kit macalo lobo ocakke kwede, pien gin gingeyo gin ma en ocweyo, ki tekone ma pe tum, ki lubanga. ',\n",
              " 'ka itye ka tito kwena i wi lwak, tika dong ineno ni ka itye ka lyel ki dano, ci gubedo ki yomcwiny i yo me yomcwiny, ci gitye ka kwano bukke?',\n",
              " 'gumedde ki pwonyo lukwena, me bedo kacel kacel. ',\n",
              " 'pwony ango ma bikelo adwogi maber bot lutic pa jehovah?',\n",
              " 'medo i kom meno, gin ma kric onongo  oto pi balwa - ni  bene bibedo gin marac  pien ka larac - ci onongo pe kit, en onongo pe twero laro jo mukene.',\n",
              " 'i dyewor me agikki me kwone i lobo, yecu okwanyo petero kacel ki lukwena aryo ma onongo gitye i poto pa yecu.',\n",
              " '3 pingo dano gitye ki miti i kom tango?',\n",
              " 'kadi bed kumeno, onongo awaco kica pien onongo pe atye ki niye. ',\n",
              " 'lutino kwan me baibul gut i mwaki mapol i mwaki ma romo 1914 onongo bibedo pire tek adada.',\n",
              " 'baibul miniwa jami ducu ma kicweyo i kom jami ducu.',\n",
              " 'tika atye ki lok ada? ',\n",
              " 'i kin tic mukene ma lubanga omiye, yecu onongo  tye ka kweyo cwiny jo ma cwinygi cwer  dok  kweyo cwiny jo ducu ma cwer. ',\n",
              " 'lok man wacci  dano makwo  ki i lok ma kicoyo i lebru, * ma te lokke ni  cwec.   acakki 2 : 7.',\n",
              " 'tika itam ni jami magi gitye tyen lok matir me  keto deyo i kom rwot yecu kric ?  jo roma 13 : 14.',\n",
              " 'jo ma gitye ka woro lubanga kacel myero gubed ki niye iye.  1 jo korint 1 : 10, 11.',\n",
              " 'iketo yub me cwiny, dok ineno tic me tito kwena calo gin ma pire tek loyo i kwoni.',\n",
              " 'pingo ticwa me pwony pire tek adada?',\n",
              " 'ka imoko tammi, tika itimo jami ma yomo cwinyi?',\n",
              " 'i ngeye, pe wabibedo calo yekobo ento wabigwoko gennewa i woro me ada.  juda 20, 21.',\n",
              " 'kadi bed watute me mwolo kacel ki woro pi twero me lobowa, myero wabed ki par i kom jo ma wacone.',\n",
              " 'ki lok ada, watwero nongo ryeko.',\n",
              " 'nyo ka ngat mo acel acel acel calo eliam i cencwari me acel, nongo kelo alokaloka?',\n",
              " 'ka wamito nongo adwogi maber ki i gwoko jehovah i kare me twon can madit atika - ni, omyero wange ni jehovah tye ki dano i lobo.',\n",
              " 'gamente man pe kibalo gamente mo keken pien obedo  ker pa rwot ki yecu kric. ',\n",
              " 'ki bene, ngat ma tye i ngeye kilwongo ni ngat ma genne dok me ada. ',\n",
              " 'me labolle, ket kong ni omego mo openyo omego moni me gwoko ot me ker wek obed maleng.',\n",
              " 'cwiny yecu ogudo cwiny jo mukene adada.',\n",
              " 'gin mo keken ma larac - ci onongo tye ka tamo ni etye ki tekcwiny.',\n",
              " 'ento en obedo ki awaka dok onongo mito ni jo mukene gutamo ni pire tek adada.',\n",
              " 'tute matek me pwonyo leb ma tye i kacokke ki dok me c i cokke ( nen paragraf me 16, 17 )',\n",
              " 'ento, jo mukene giwacci lubanga pe myero okwo pi naka i lobo.',\n",
              " 'gin gunongo ni baibul tye calo gin ma kicoyo i baibul.',\n",
              " 'guweko balgi ma gutimo con dok  gubedo maleng. ',\n",
              " 'leb me baibul ma kicoyo i leb mukene i kare macon - ni  lok pa dano  pe te lokke ni  woro dano. ',\n",
              " 'pi cuko cwiny parao me neko lutino ducu pa luicrael.',\n",
              " '12, 13. ( a ) yub ango ma jehovah tye kwede ma lubbe ki bal mo ma pe kiryemo ki i kacokke?',\n",
              " 'pe tye ngat mo ma mito moko tam marac, ma kelo peko kacel ki cwercwiny.',\n",
              " 'jehovah bicobogi, kun tiyo ki twere me lobo ducu.',\n",
              " 'jehovah pe mito ni dano gubed ki cik me konyo en moko gin matir.',\n",
              " 'en owaco ni bedo ka mapat pat  dok  i kare mo keken,  lutino kwanne onongo gitamo ni en onongo pe tye ki ngec mukato angec.',\n",
              " 'yecu onongo twero bedo ki larac - ci me nongo kwo i polo.',\n",
              " '( b ) adwogi maber ango ma bino piwa?',\n",
              " 'onongo gitye ki kare me donyo i lobo ma kiciko pire - ni.',\n",
              " 'pol kare wanongo ni dano pe gitye  ka tito kwena i ot ki ot.',\n",
              " 'ki bene ka en tye laelda, en binongo adwogi maber ki i kony pa dako ki lutino ma cwinygi yom adada.',\n",
              " 'tye me cwercwiny ni iwinyo ni pe itye ki cwiny me konyo lutinoni ka gimito kony.',\n",
              " 'ket cwinyi i tic me cwiny.',\n",
              " 'babana onongo tye ka mwaka 56 i kare ma kinywalo iye, dok mamana onongo tye 35.',\n",
              " 'pi ngec mukene, nen dul me 2,  buk me baibul ma a ki bot lubanga,  i buk me baibul mono ada pwonyo gin ango?',\n",
              " 'gitimo jami me calo cokke, i cokke, ticwa me tito kwena, ki dong diyo cwiny.',\n",
              " 'me labolle, lunyodo mukene gitwero timo gin mo keken ma lutinogi mito.',\n",
              " 'ripot mukene nyuto ka maleng ni i 1993, i lobo amerika tye i lobo amerika, ki dok i 1918 i 1918.',\n",
              " 'awaco ni,  lucaden pa jehovah pe gubino i lweny dok neko dano. ',\n",
              " 'i kare ma en tye ka bino i cokke pa lukricitayo kare ducu, pwonye i yo me cwiny bimedde ki dongo i cukulwa me pwony i ticwa me pwony, ci obedo lapwony ma peya onongo batija, ki dong i cokke.',\n",
              " 'nekemia omiyo lanen maber bot ngat mo ma olego ki cwinye ducu.',\n",
              " 'keto gen i kom jehovah okonyo lamego mo acel me lweny ki pekki mapol nining?',\n",
              " 'watwero bene penye kekenwa ka ce en oneno apokapokapoka mo keken ma pe watwero nenone.',\n",
              " 'lok paaya, macalo jorael guloyo ker merael kacel ki jo me rael, pi meno aye yub ma jorael gitye kwede i kom ker pa daudi.',\n",
              " '13, 14. ( a ) mot madit ango ma jo ma kogi gibibedo kwede i anyim?',\n",
              " 'tye ka lweny ki pekki mapol ma pe itwero timo alokaloka.',\n",
              " 'i kare ma gitye i betel, gitwero nongo jami magi ducu, pien guweko jo me odigi kacel ki luremgi.',\n",
              " 'omegiwa onongo gingeyo ni myero gubed ka tute me cobo peko man i yo ma kuc tye iye.',\n",
              " 'jehovah neno jo ma kitgi atir dok tugo lagam i komgi.',\n",
              " 'ka ce itye ki yomcwiny, ci wabibedo ki yomcwiny ka wu obedo leng dok maleng.',\n",
              " '* twero bedo calo gin ma pire tek labongo kwano lok me cikke.',\n",
              " 'lok pa yubu pwony ma pire tek ma lubbe ki jehovah : en tye ki jo ma gitye calo yubu, wek en ominigi jami mabeco ma tye i cwinye.',\n",
              " 'yecu oweko tic ma pire tek adada i kom lag ot ma lagen dok maryek, kun tiyo ki cam me cwiny i karene kikome.',\n",
              " 'kadi bed kumeno, yecu pe ocako bedo ki neno marac.',\n",
              " 'ki tungcel, i kine mukene jo ma gitye ki bal madongo gukwero kica pa jehovah ki dok gitye ki cwiny me ngolo kop.',\n",
              " 'mar pa rwot [ jehovah ] pi dano ki gen ma en omiya teko me weko ngat meno woko. ',\n",
              " 'ki lok ada, lunyodo mapol myero guti matek me konyo lutinogi me bedo cok ki jehovah.',\n",
              " 'jehovah otiyo ki jone nining me doro lweny me ejipt?',\n",
              " 'pi meno, solomon okwero cik man.',\n",
              " 'man bikelo adwogi maber adada i yo me cwiny.',\n",
              " 'pe, cwiny me ada keken onongo twero kelo kica pa jehovah.',\n",
              " 'ma ka gengo jami ducu, lok ki kica ki cwinye ducu.',\n",
              " 'ento onongo mitte ni lupwonnyene gunge ni kare ducu pe yot me lubo kore, tutwalle ka lurem luwotgi nyo jo me ganggi pe gujolo lok me ada.',\n",
              " 'pe atwero bedo ki gen ni lutinona pe gitwero ngeyo ka ce atye. ',\n",
              " 'ento, gin gitwero  lokke  kun gitimo alokaloka. aya 1 : 18.',\n",
              " 'pire tek ni myero lutic pa lubanga gubed kacel mabeco i nyomgi.',\n",
              " 'bedo opii pa lukricitayo pat ki gin ma jo mapol gitamo i kom opii.',\n",
              " 'ngeyo man myero ocuk cuko cwinywa me medde ki tiyo tic mabeco ki dok me tito kwena maber me ker - ri.',\n",
              " 'ka onongo inongo yomcwiny, tek tutwal, tic pi kare malac, tika itwero nongo kwo pa dano?',\n",
              " '( b ) gen ango ma lunyodo magi gitye kwede?',\n",
              " 'i kare ma onongo atye ki mwaka 9, mamana ocako c i ot pa lutino kwan me baibul, ka ma jo ma guyero nying lucaden pa jehovah , nyo  cokke.',\n",
              " 'man pe obedo labongo ngec mo keken.',\n",
              " 'i kare ma peko tye i nyom, luelda onongo gitye ka miyo kony.',\n",
              " 'man pud dong kwo!',\n",
              " '5 : 12, 13 ;ru 13 : 17, 24.',\n",
              " 'won - ni onongo cwer cwinye adada.',\n",
              " 'omege, pe atwero cako kwanone i kom jami ma onongo amito. ',\n",
              " 'gicikke me gicikke bot jorael me miyo mot bot lulamdog ma binongo adwogi maber  jo mukene. ',\n",
              " 'ento, ka  wabedo ma wangwa twolo i kom lega,  ci watye ki niye matek.',\n",
              " 'ibiwinyo ni itye ka can kacel ki yomcwiny kacel ki kuc.',\n",
              " 'adwogi ango ma otimme i kom pwoc ma kit meno?',\n",
              " 'lok magi konyowa me niang ni luelda gimito kony i yo me cwiny kacel ki kuc.',\n",
              " 'gin pe gingeyo maber adada kit ma kiyubo kwede, ka itye ka ngwec, nyo kit ma dwe tye ka bino kwede i lobo - ni.',\n",
              " 'pe myero wabed ki ur ka lobo - ni dagwa pi cung matek ; ento yecu ocikowa ni bibino.',\n",
              " 'jo mapol gibigwokogi, dok ngec me ada bimedde ameda.   dan.',\n",
              " 'kit macalo to obino pi dano, cer pa jo muto [ yecu ].   1 jo korint 15 : 21.',\n",
              " 'cer onongo pe tye ki tam madit i kom laminwa lajaro.',\n",
              " 'cwiny ango ma jo ma gi jehovah gubedo kwede pi kare malac?',\n",
              " 'wamito ni wabed ki ada i jami ducu. ',\n",
              " 'ento i nge kare mo, cwiny marac ma onongo tye i kin jorael ki jo mukene onongo tye ka tic kwede me timo jami ma pe gi jehovah.',\n",
              " 'tit kong. ( b ) wek lubanga otim kica pi balwa, ngo ma myero watim?',\n",
              " 'ki lok ada, yecu ociko yo maber me cobo peko mo keken.',\n",
              " 'lokke waco ni :  nicakke i acakkine, nio wa i kare mukato angec, dok gin ma pud peya otimme. ',\n",
              " 'adwogi maber ma bino pi timo man aye gin mapol.',\n",
              " 'dok bene nyuto kit ma mar tye kwede ki dok kit ma kinyuto kwede.',\n",
              " '18, 19. ( a ) lunyodo mapol gutimo gin ango?',\n",
              " 'pot karatac, pot karatac.',\n",
              " 'en owaco ni :  angeyo en bicer. ',\n",
              " '( kwan 1 jo korint 2 : 10. )',\n",
              " 'ento ngo ma atwero timone me nyuto pwocwa?',\n",
              " '( b ) i kabedo adek ango ma myero wamedde ki dongo marwa matek?',\n",
              " 'lok pa lubanga waco ni moses  ngat ma cwiny dano ducu marac loyo i kom lobo. ',\n",
              " 'lukricitayo muteggi kacel ki jo muteggi me cobo niyegi ( nen paragraf me 12 )',\n",
              " 'ma lubbe ki luicrael, i boma me ejipt ma kilwongo ni eliam, onongo tye dato mo ma onongo tye ki welo bot lanebi - ni.',\n",
              " 'jehovah twero konyowa nining kadi bed ni watimo bal?',\n",
              " 'dano tye ki twero matek me timo gin marac.   latitlok 8 : 9.',\n",
              " 'en geno ni gin mo keken ma jehovah mito aye pire.',\n",
              " 'tika in bene iwinyo cwiny ma kit meno i gure me gure madit nyo gure ma kwako lobo ducu?  jab.',\n",
              " 'jehovah ominiwa mot me bedo agonya.',\n",
              " 'lapeny twero kelo peko adada ( nen paragraf 14 )',\n",
              " '( kwan jabuli 119 : 130 ; jon 16 : 13. )',\n",
              " 'ka ngat moni tye ki batija, en otito ka maleng bot jo mukene ni en pe tye ki tam me tic pi lubanga ki kerone ducu, ki dong kerone ducu.',\n",
              " 'man bene konyowa me medde ki lweny i yo me cwiny.  kwan jo epeco 6 : 14 - 17.',\n",
              " 'mar ma kit meno cuko cwinywa me timo gin mo keken me yomo cwinye.  matayo 22 : 36 - 38 ; 1 jon 5 : 3.',\n",
              " '( 2 ) i yo ango ma nipo konyo jo pa lubanga ducu me bedo jo ducu?',\n",
              " 'gin ma kit meno twero timme i komwa.',\n",
              " 'lumonegi onongo pe gitwero cung matek i komgi.',\n",
              " 'pe iwek cwiny me awaka?',\n",
              " 'me labolle, i mwaka 2013, yamo mager ma tye ka neko odi pa dano ma romo 1,000 kulu i lobo kumeno.',\n",
              " '[ cal ma tye i pot karatac 26, 27 ]',\n",
              " 'i pwony ma tye i wi got, yecu owaco ni :  wubed ki yomcwiny, pien mot madit tye i polo, wek gunek lunebi gunebi. ',\n",
              " 'ka lunyodowa mukwongo guyero me timo gin marac, gin gukwero lanen pa lubanga ci gubedo ki roc.',\n",
              " '( kwan jabuli 24 : 3, 4 ;. )',\n",
              " 'cik ango ma yecu omiyo madok i kom lunek?',\n",
              " 'keto deyo i kom nying wonne kacel ki larre pa dano ducu me bedo lugen.',\n",
              " 'gin ango ma itwero ngeyone i cwiny ngat acel - li?',\n",
              " 'pi meno, en openye ni,  cwara mono biwinyo nining ka atye ki cente mapol? ',\n",
              " 'i acakkine, jehovah owaco bot dano mukwongo ni :  wubed jo mapol, dok wupong lobo. ',\n",
              " 'ada, wan ducu wamedde ki lubo lanen pa yecu kun nyuto won bot jo mukene.',\n",
              " 'man pe oweko dano gubedo agonya.  kwan acakki 2 : 15 - 17.',\n",
              " 'tam kong kit ma nyig ma nyak pi cwiny maleng bikonyi kwede.',\n",
              " 'aron owaco ni i kare ma tye mwaka 11, en kacel ki lamego mo ma mwaka apar ki wiye gubedo ka  woro lubanga  kacel ki lunyodogi.',\n",
              " 'ento ka wangiyo ci waneno ni lucaden pa jehovah gitye ka nonge i kot ma romo 268, man kwako dul ma romo 24 ma tye i te loc pa catan, kit macalo mwaka 2000, pe twere ni lubanga tye ki ngat mo.  kwan jo galatia 11 : 1 ; kwan : 1.',\n",
              " 'i cencwari me acel, kacokke pa lukricitayo i lobbe mapol gunongo adwogi maber ki bot lukiko madit ma onongo yecu aye wi kacokke.',\n",
              " 'labol pa yecu kacel ki petero bene gitwero pwonyo jami mukene ma pigi tego : ka watye ka gwokke ki i atematema macalo ngec matir, mwolo, mar, ki dong lworo lubanga jehovah, ki jehovah.',\n",
              " 'en onongo pe twero miniwa ngat acel acel i kome.',\n",
              " 'en oweko luelda kare me cobo mar pa jehovah.',\n",
              " 'wek en opwony kit mawonyo kwede. ',\n",
              " 'pien en  pe tye ki miti me nekke  i lweny me agikki me agikki - ni, en dong tye ka neno ni lok me kwena maber madok i kom rwot pa rwot [ jehovah ]  tye ka tito kwena i wi lobo ducu nio ducu  agikki piny. ',\n",
              " 'man bibedo twon mot me niang yub pa lubanga kacel ki yubbe pi jo ma kicerogi, kun konyogi me nongo  kwo ma pe tum.   tic pa lukwena 24 : 15 ; jon 17 : 3.',\n",
              " 'me aryo, myero wagke me keto cwinywa i ticwa kekenwa kekenwa i kwowa.',\n",
              " 'luc mapol gitamo..... pi tyen lok mo madit i wi lobo, nen calo gin ma tye ka timme i lobo.   car..',\n",
              " '* nen kong kit ma itwero timone kwede.',\n",
              " 'jehovah onongo ociko lulamdog ma gitye lulamdog me gicikke me gicung tung i lweny me jerucalem.',\n",
              " 'jo mogo guwacci    nyo  balo  ki lok goba nyo gin ma pire tek.',\n",
              " 'gin ango ma twero konyowa me gwokke ki i kwowa me kare - ni wek pe wabed agonya i yo me cwiny?',\n",
              " 'i nge nino aryo, i nge neno ot pa jerucalem, ngat acel owaco ni :  lapwony, nen jami mabeco! ',\n",
              " 'lapeny mene ma watwero penye kekenwa ka wakwano nyo wakwano baibul?',\n",
              " '( b ) cik ma yecu omiyo - ni otimme nining?',\n",
              " 'jo ma gic i polo gitye ki tyen lok mo.',\n",
              " 'gin onongo gimito tic ki bedo agonya manyen me cobo mitigi.  joru 3 : 8 - 10.',\n",
              " 'jehovah odoko ada, macalo wego ma lamar - ri.',\n",
              " 'jehovah gin ki yecu guto nining ni gitye atera me kurone?',\n",
              " 'i kare pa lanebi malaki, lujudaya mapol gutimo jami maraco kacel ki mongi, kun gitiyo ki cik magi ducu.',\n",
              " 'i ngeye, en omiyo cware bot cware i kare ma en ocako cam.   acakki 3 : 6.',\n",
              " '( nen cal ma tye i pot karatac 8. ) ( b ) pingo lume mogo onongo pat?',\n",
              " 'baibul wacciwa ni  lapeny me mingo tye i cwiny latin. ',\n",
              " 'luelda aryo aryo gu limo en.',\n",
              " 'ento, wek ginacoya ocobobbe,  en otiyo kwede me camo mugati woko i koma.   jon 13 : 18.',\n",
              " 'kit ma watye ki roc - ci weko wabedo ki tam me timo jami mogo ma yomo cwinywa.',\n",
              " 'paulo ocoyo bot temceo ni :  wubub lanenna me pwony, me kwona, gin ma amara, niyena, diyo cwinya, mara, mara, diyo cwinya. ',\n",
              " 'pi jo ma lubo tela pa yecu, ngolo kop bikelo adwogi maber i anyim, dok gibinongo mot i anyim ki dong i lobo ducu.',\n",
              " 'kadi bed ni onongo gitye ki lanen pa yecu me lubo lanen pa yecu, lutic pa jehovah onongo gingeyo ni gimito cuko cwiny jo mukene.',\n",
              " 'en owaco ni :  nino ducu, tic pi nino ducu aye gin ma dano pe gitye ka timone. ',\n",
              " 'jehovah ocweyo dano i calle, pi meno watwero lubo lanenne mabeco.  acakki 1 : 26, 27 ; jo epeco 5 : 1.',\n",
              " 'kadi bed ni jami ma timme biweko kwo pa dano pud tye ka timme - ni.',\n",
              " 'gin ango ma myero watim ka wawinyo ni peko ma watye kwede tye ka diyo cwinywa?',\n",
              " 'i yo acel - lu bene, lalamdog madit yecu oweko lanen maber bot jo ma kogi kacel ki romi mukene.',\n",
              " 'pe amito lok mapol madok i kom kit meno.',\n",
              " 'pi meno, i kare ma luka pa luka 5 owaco ki yucepu ci otito ni etye wode paulo, dano guniang ni yucepu onongo tye i cik pa lubanga.  luka 3 : 23.',\n",
              " 'wi myero opo ni tye  kare me dwoko piny cawa me lok. ',\n",
              " 'ento, laco jabuli onongo twero tic ki kwone me pako jehovah.',\n",
              " 'ka tye kumeno, ma peya ilego ki legani, ti ki kare manok keken i kom gin ma imito.',\n",
              " 'ki lok ada, jehovah ngeyo ni lok goba pa larac - ci tye ka lok goba.',\n",
              " 'iromo cako lok ki ngat matidi kun waco ni :  amito kwano ginacoya mo ma pire tek adada.',\n",
              " 'dano ango ma gitye lucaden pa jehovah?',\n",
              " 'jeremia onongo ngeyo gin ma bitimme i anyim',\n",
              " 'jo mogo gutimo bal malit adada i kwogi, kadi wa bal madongo.',\n",
              " 'niye pa abraim onongo tye matek i nge mwaki mapol.',\n",
              " 'ka watimo jami ducu me lubo cik pa jehovah, ci watwero bedo ki gen ni en bigwoko cikkene me gwokowa. .',\n",
              " 'jehovah otito ni etye calo cware bot jone.',\n",
              " 'kadi bed ni en onongo tye ki jami mukene ma pire tek me lokke, en oloko i kom gen macalo lukricitayo ma kogi, kun waco ni :  ngat ma twero gwokowu i nyimwu, ki dong keto deyo i kom lubanga. ',\n",
              " 'i kare ma jehovah onongo tye ki cik pa lubanga - ni owaco ni etye ka miyo ticce, moses otiyo ki cwiny me mwolo.',\n",
              " 'jehovah * pe cwinye yom i kom pekki ma catan kelo.',\n",
              " 'ada, labongo akalakala mo ni jehovah neno kite ma kit meno makato lonyo me kom.',\n",
              " 'i kare - ni, luelda mapol gicung matek i nyim kacokke ki kit me cokke.',\n",
              " 'jo pa lubanga mogo ma gutimo bal madongo pud gitye ka timo bal madongo kadi bed ni gutimo bal.',\n",
              " 'ka watye ki pwoc madit pi tic ma jehovah otimo pi balwa, ci wabitimo kica bot jo mukene ki cwinywa ducu.',\n",
              " 'nen calo ineno pekki man.',\n",
              " 'en onyuto cwiny me mwolo kabo lanen pa jehovah.',\n",
              " 'kabo lanen pa yecu i yo me kica, ci wacung pi kwowa, pien jo ma gitye ki kica bot jo mukene gitye ki yomcwiny.',\n",
              " 'en ociko  nio wa i kare mukene. ',\n",
              " 'dano aryo aryo  ma romo bilion acel i kin jo me lobo - ni  lwongogi ni gin lukricitayo.',\n",
              " 'pol pa lukricitayo mapol gunongo ni cwinygi yot ka gitye ka tito kwena i kare ma gitye ka yubbe.',\n",
              " 'nino ki dyewor, lukricitayo onongo gitye ka ngwec.',\n",
              " 'i wer pa solomon.',\n",
              " 'kwan jabuli 45 : 4 - 4.',\n",
              " 'lubo cik ma pire tek loyo me  ngat maleng,  rwot [ jehovah ], ki mit kom  tic me kwena maber pa lubanga. ',\n",
              " 'tic magi kwako  tim me tarwang, bal, woro lubanga, woro, tim me cwiny, gero, cwercwiny, kiniga.  ( car.',\n",
              " 'macalo adwogine, atye ki wat macok ki jehovah, dok abedo ki yomcwiny. ',\n",
              " 'ma ka meno, man onongo ibiniang maber i kare pa lubanga, en owaco kit ma jemo man bibedo kwede :  abibedo i kin in [ catan ], ki dako ki dako ma tye i kin in, en bibedo i kinwu.   acak.',\n",
              " 'en oye ni wode ma pe ki roc kacel ki wode ma onongo pe ki roc, ma kilwongo ni yecu, can dok oto wek ominigi ginkok me laro dano ki i opii me bal ki to.',\n",
              " 'baibul wacciwa ni :  ngat ma neno peko ma tye ka bino i kome, ento ngat ma pe tye ki ngec, ci cwercwinye woko. ',\n",
              " 'keris, ma kiloko i kome i kare mukato angec - ni, otiyo ki cwinye ducu me donyo i cwinye.',\n",
              " 'medo i kom meno, leb grik ki leb guwaco irael.',\n",
              " 'pi meno, gin gumoko tamgi ni pe myero gutimo gin mo keken i kom dini goba.',\n",
              " 'wod pa lubanga, yecu kric, opwonyo lulub kore me lega pi miti pa lubanga.',\n",
              " 'jehovah kare ducu cuko cwiny jo ma gimaro tic kacel kwede, ka mo keken ma gitwero tic iye.',\n",
              " 'jerucalem myero obed ki ur bot jo ma gitye i lobo - ni.',\n",
              " 'tika gitye i gicikke aryo?',\n",
              " 'kwan 1 temceo 3 : 1.',\n",
              " '( b ) gin ango ma twero konyowa me bedo ki pwoc pi gin ma watye kwede?',\n",
              " 'jo ma kicoyo baibul  gitiyo ki cwinygi  me tito pi kit ma dano gitye kwede ki cwinygi ducu.',\n",
              " 'lubange magi ma onongo gitye ka lweny i komgi - ni onongo gitye ka lweny ki jehovah woko ki i pekki apar kulu.',\n",
              " 'kric onongo tye ka neno dyece kacel ki nongo batija me bedo ki pwoc.',\n",
              " 'go kong kit ma luicrael nen kwede i kare ma gitye i opii i babilon.',\n",
              " 'omege mukene gitwero bedo ki kare me kwano baibul, kwano ginacoya, ci giweko lapeny ki labongo akalakala mo keken.',\n",
              " 'kong atir.',\n",
              " 'tika bedo cok ki jehovah ada?',\n",
              " 'me labolle, ka luremkini gicuko cwinyi me timo jami ma yomo cwiny jehovah, tika ibigwoko kacel kwedgi?',\n",
              " '( c ) yomcwiny konyowa nining i ticwa me pwony?',\n",
              " 'lamego mo ma obedo ka tic pi jehovah pi mwaki 50, owaco ni :  luelda mogo giwoto kare me lok bota i nge cokke weko cwinya yom. ',\n",
              " 'lubanga jehovah oyero wode, yecu, me loc pi naka.',\n",
              " 'odi ma itye kwede dong tye ka medde ki bedo twon can madit adada.',\n",
              " 'tika jami ma gitye ka gengo gen me cobo miti me biacara nyo jami ma pigi tego?',\n",
              " 'i nge meno, lumony milion mapol gubedo ki cwiny me tekcwiny ni  nen calo twon can madit adada  ma dano ki cwiny maleng gubedo ka diyo cwinygi. ',\n",
              " 'lacen, gin mo acel olokke.',\n",
              " 'nen kong tyen lok me adek man macalo lagam.',\n",
              " 'tika cwec mo ma pe ki roc twero weko dano ma pe ki roc?',\n",
              " 'i kare ma solomon pud tye ki awobi, en owaco ki mwolo ni :  atye latin matidi, ento pe angeyo kit me binone. ',\n",
              " 'ka kare woto ki cwinya, tic manyen - ni oweko atimo alokalookaloka mapol.',\n",
              " 'ka jo mukene gitye ka miyo pwony, omyerob ni  myero gubed jo ma doga,   nyo wawek jehovah omi cam me nyutoni kiniga.',\n",
              " 'i nge kare mo, meno otimme.  jer.',\n",
              " 'pii makwo,  dok angagi ma gibinongo adwogi maber ki i kongo?',\n",
              " 'kabo jo ma telowa, ci wanyuto ni watye ki pwoc madit adada i kom  mot magi  dok wanyuto marwa pi lubanga ki kric, wi jo me kacokke.  ep.',\n",
              " 'wonne, ngolo kop i kom jeputa, onongo tye ka medde ki lweny i kom jo babilon.',\n",
              " 'ma ka meno, en oketo i gang ma watwero nongo kwo.',\n",
              " 'mar gudo watwa ki jo mukene nining?',\n",
              " 'en pe bigwokowa kit ma lacowa otimo kwede. ',\n",
              " 'i yo ango ma laelda myero obed labol bot romi?',\n",
              " 'ticwa me pwony konyowa nining?',\n",
              " 'cutcut onongo dong pe.',\n",
              " 'gin gitye ki niye i kom ginkok dok gimito lubo cik pa lubanga.',\n",
              " 'jo mogo onongo gitye litino kayo, dok mogo onongo pe.',\n",
              " 'en oniang ni jehovah tye ki twero.',\n",
              " 'yecu ocwalogi ',\n",
              " 'kadi bed lubanga jehovah miniwa tira dok miniwa tira, ento pe cuko cwinywa me yegi.',\n",
              " 'nyig jekaria 11 : 12, 13, matayo owaco ni yecu onongo tye ka balo woko woko.',\n",
              " '( kwan acakki 26 : 3 - 5. )',\n",
              " 'en onongo tye ka tic ki cwinye ducu, gedo, ki dong rwom magi.',\n",
              " 'medo i kom meno, ka iporo ki nam mager, lyel, pot karatac, lobo - ni pe bikelo to pa jo ma balgi pe.',\n",
              " 'cokcok - ki, pe tye ngat mo ma bibedo ki twero me loc pa lubanga.',\n",
              " 'tira ma paulo omiyo bot jo tecalonika pi lukricitayo me  kare me agikki. ',\n",
              " 'pekki ango ma jo munyomme gitye kwede?',\n",
              " 'dakoni twero cako nen ka maleng, pien i kine mukene bedo ki par i kom yotkom.',\n",
              " 'me labolle, lutino mogo gucako nyomme ka nongo pe gitye atera me tic kacel ki jo munyomme.',\n",
              " 'wangeyo ni  cobbe  ma tye i tyeng 46 onongo tye i kare ma yecu bino ka ngiyo i kom jo ma kogi i yo me cwiny, ki dok ni lag otyeko laloc pa ladi - ni ducu i 1919.',\n",
              " 'timo bal twero bedo yot.',\n",
              " 'ka luelda gitimo meno, gin gilubo lanen pa lukwat me yo me cwiny.',\n",
              " 'ka lutino gitye ki bal, en openyo kare ki kare ni :  man aye gin ma otimme i kare mo, nyo lanyut?',\n",
              " 'me labolle, myero wupwony lutinoni me lubo cik me baibul ni :  wubed ki deyo i kom wonwu ki meri. ',\n",
              " 'tye me cwercwiny ni, meno pe obedo gin mo keken.',\n",
              " 'yecu kric otiyo ki omegene ma kogi ki lugen  lukricitayo mukene me cuko cwinywa.',\n",
              " 'gin ango ma baibul pe twero gengi pi mwaki mapol?',\n",
              " 'en pe otimo meno.',\n",
              " 'kit ma cwercwiny ma en tye ka kwanone - ni, en ocako winyo bukke ki bukke me baibul.',\n",
              " 'tika  wacung i kom jami mabeco ?',\n",
              " 'ginacoya ducu pa lubanga.   2 temceo 3 : 16.',\n",
              " 'wacako lok dok bene, wabedo ka kwan pi jo me ot, ci odoko i cokke kare ki kare.',\n",
              " 'ka ikwano baibul, inongo ni maro jehovah pire tek adada dok ni marre oweko en omiyo wode macalo ginkok piwa.',\n",
              " 'tika nino me yweyo pa lubanga pud tye ka medde?',\n",
              " 'lok ma i kare - ni nyuto ni : car, cing, ki dong jami mapol gitye ka medde ki lweny i kom two.',\n",
              " 'ki lok ada, jehovah odoko kabaka me lobo manyen.',\n",
              " 'ma dong peya, ticwa macalo agikki - ni tye me tito kwena maber me ker - ri!',\n",
              " 'lacen, myero wati ki baibul me tic ki baibul wek  gunong ngec i kom lubanga.   2 kor.',\n",
              " 'pi meno, omego ma onongo cuko cwinygi kun wacci :  kombeddi - ni tye ka weko cwiny maleng bedo ka tic pi cwiny maleng. ',\n",
              " 'lamego mo ma onongo tye latin painia ma pol kare onongo gitye i cukul mapatpat kun wacci :  onongo atye ka paro pira, dok bene amaro jami me kom.',\n",
              " 'latin - ni myero opo ni nio ka cente otyeno woko, ci en tye i te loc pa ngat ma laco - ni.',\n",
              " 'ngec me ada [ - ni ]  tye ka medde ki tic ki jo mapol ma gitye ka tito kwena maber - ri.',\n",
              " 'i kare meno, onongo nen calo onongo pe tye gin mo ma onongo pe twero gengi i lobo ma kiciko pire - ni.',\n",
              " 'calo kejekia, dano mapol i kare - ni gubedo lurem jehovah nining?',\n",
              " '( jo epeco 2 : 1, 2 ) i lobo, omegine, lunyodone, kacel ki lucaden mukene onongo gitye ka wot i jang gang kal ma a ki i lobo amerika.',\n",
              " '17, 18. ( a ) watwero lubo tira pa lukiko madit nining?',\n",
              " 'me labolle, jo ma gutiyo pire tek adada me bedo i cokke kacel ki tito kwena kare ki kare.',\n",
              " '16, 17. ( a ) ngo ma otimme i kare ma luicrael gitye i opii?',\n",
              " 'meno aye lok ada, ento gin bene gimito cuko cwinygi, bedo i ticwa me pwony, ki dong tic i yo mupore.',\n",
              " 'tira ango ma paulo omiyo ma lubbe ki jo ma gitye ka ngwec i lee?',\n",
              " 'luot myero gumedde mabor pi cam kacel ki mato pii.',\n",
              " 'bed ngat ma ngolango ki i kom timo bal',\n",
              " 'kare ducu a woko ki i cokke angeyo ni jehovah mara. ',\n",
              " 'i tekwaro mukene, welo magi pe oye nyo lwongo me aryo.',\n",
              " 'twero bedo adwogi maber ka wamiyo cwiny me ada.',\n",
              " 'kit ma waneno kwede jami manok keken ma jehovah nyuto kwede marre piwa, ento pe waromo winyo kit ma moses otimo kwede.',\n",
              " 'ka itye i ticwa me pwony, tika itute me kwano baibul kare ki kare?',\n",
              " 'tam kong, ma otiyo pi jehovah macalo laneno me tic macalo laneno pi mwaki 40.',\n",
              " 'ginacoya myero obed but pwony mo keken ma pire tek loyo.',\n",
              " '( b ) adwogi marac ango ma twero twero keliwa i yo me cwiny?',\n",
              " 'ma ka meno, tutwalle i kare me nipo, waromo lwodo lok i kom jami ducu ma jehovah gin ki yecu gutimo piwa.',\n",
              " 'i kare - ni, lutic pa jehovah ma kogi gitiyo tic me tito kwena acel - lu.',\n",
              " 'kitungcel bene, luye mogo gitye ka c bot lubanga keken ka gimito lagamme. aya 26 : 16.',\n",
              " 'jehovah okonyo jorael nining me niang ni kwo obedo gin maleng?',\n",
              " 'cutcut, paulo oloko i kom cura 12, ma lubbe ki niango ma otimme i kom jehovah.',\n",
              " 'macalo lapwony, en kacel ki dakone i kine mukene gimito lapeny acel acel me baibul.',\n",
              " 'tango man onongo tye ki tic matek adada ma oweko jo me rok ma gucako bedo ki lworo i kom jehovah.',\n",
              " '( b ) ngo ma ngat ma wawinyo lokwa?',\n",
              " 'gavin onongo cwinye yom adada pi lok magi ci lacen oye kwano baibul.',\n",
              " '( a ) yo mene ma catan tiyo kwede i yo matir, dok pingo tiyo maber adada?',\n",
              " 'lega pa jehovah bimiyo in kikome.',\n",
              " 'man pe obedo gin mo ma gitye kwede.',\n",
              " 'wan bene watwero  neno  kare man mabeco  cokcok!  rom.',\n",
              " 'laco mo, nongo lacaden.',\n",
              " 'macalo lamalaika madit, yecu pe obedo ki twero i kare ma en tye ki  larac - ci i kom cam pa moses. ',\n",
              " 'ento, watwero timo man nining?',\n",
              " 'i baibul, wakwano jami mapol madok i kom diyo cwiny jehovah.',\n",
              " 'nen ka maleng ni ker pa lubanga tye ki kabedo ma pire tek adada i cwiny awaka - ni!',\n",
              " 'pi meno, omyero watim jami ducu ma watwero cobo twero me loc pa jehovah kun wacone, wati pire ki cwinywa ducu, ki dong tutewa me lubo lanenne i jami ducu.',\n",
              " 'ento, watwero bedo ki yomcwiny ni pe myero wabed ki twero me loc nyo bal.',\n",
              " 'timo meno cuko cwinywa me niang gin ma wamoko i cwinywa.',\n",
              " 'medo i kom marwa pi luwo kun watiyo ki cokkewa me jingo wat ma tye i kingi, watwero lega pi luwo.',\n",
              " 'en omedde ni :  tic pi jehovah, man oweko abedo ki yomcwiny madit adada ki dok me bedo ki yomcwiny. ',\n",
              " 'yo acel ma jehovah konyowa kwede aye me bedo ki gen pi anyim.',\n",
              " 'gin ango ma lubanga bitimo weko lulweny magi pe?',\n",
              " 'kit ma lanen nyuto kwede, ber me ngiyo ka ce ngat moni twero neno kit ma ngat moni tye kwede.',\n",
              " 'ngo ma te lokke ni myero wamar lubanga ( a )  cwinywa ducu ?',\n",
              " 'i yo mene ma watwero timone kwede?',\n",
              " 'baibul miyo tyen lok mapol mumiyo lubanga mito ni pe wacwako tung ka mo.',\n",
              " 'jo matino gitwero tic ki kerogi me tito kwena me ker - ri nining?',\n",
              " 'keto cwinyi i kwoni me yomo cwiny jehovah aye me yomo cwiny jehovah pi gin ma pire tek loyo boti.',\n",
              " 'abraim onyuto mar nining?',\n",
              " 'ento, cente pe twero gwokowa dok konyowa me bedo ki ryeko pa lubanga.',\n",
              " 'ma lubbe ki jo mapol ma guwaco ni gitiyo pi lubanga i kare - ni, lakwena paulo owaco ni :  atye ki tekcwiny pi lubanga, ento pe pi ngec matir. ',\n",
              " 'i yo acel - lu bene, jo ma gimito doko dano me ker - ri myero gupwony dano ducu madok i kom ker pa lubanga.',\n",
              " 'ki lok ada, nen calo gumoko cwinygi woko, pien jon otiyo kacel ki paulo dok.',\n",
              " 'ento, gin ma pire tek loyo ma kelo bal aye pa dano.',\n",
              " 'tit kong nicer me adek ma kicoyo i baibul.',\n",
              " 'i wi lok man bene tye i watchtower me leb grik 1, 2012, pot karatac 18 - 21.',\n",
              " 'wan ducu, kadi bed jo ma kogi nyo me  romi mukene,  gitye ki gen me neno cobbe pa yub pa lubanga macon ki woro nying jehovah.',\n",
              " 'ento, pi tyen lok ma wabinyamo i pwony man ki bene i ngat acel ma lubo man.',\n",
              " 'yecu onongo ngeye maber.',\n",
              " 'baibul wacci lubanga bimiyo ngolo kop atir bot dano ducu',\n",
              " 'nen kong gin ma jo me ker pa lubanga me kare macon onongo gitye ka timone.',\n",
              " 'i nge mwaki abicel, lobo ducu dong opokke woko.',\n",
              " '[ in ] aye wutyeko ngec ki lok me ada.   rom.',\n",
              " 'pe watwero bedo ki gen ni cikke pa jehovah ma twon can madit atika - ni, pe bibedo gin mo keken. ',\n",
              " 'cam bibedo kacel ki jo mapol, dok pe mitte ni myero kigam mo keken nyo cam.',\n",
              " 'laelda mo ma mwaki mapol owaco ni :  pol kare dano gitye ki pwoc mapol madok i kom kit ma lucaden pa jehovah gitye ki yomcwiny. ',\n",
              " 'i pwony ma lubo man, wabinyamo kit ma gangi me larogi twero konyowa me lubo lanen pa jehovah, ma pire tek loyo ma lubbe ki ngolo kop ki kica.',\n",
              " 'pwony ma en opwonyo i kareni : lupwonnyene i kacokke pa lukricitayo gujolo tira ma mon gitye kwede i cokke.',\n",
              " 'wangeyo ni kabo cik ma kit meno, ci watwero moko tam ma bino cwiny jehovah kacel ki adwogi maber.',\n",
              " 'ka latin tye ki akalakala i kom pwony mukene, pe myero iwinyo cwinyi nyo i yo marac, ka onongo itye ka winyo lok meno.',\n",
              " 'pi meno, pe tye gin mo keken ma myero watim kacel ki jo mungak nyo ngat mo ma waco ni obedo omego, ento ngat ma pe tye ka woro lubanga.',\n",
              " 'tam kong : ket kong ni onongo imito tic me goyo mugati bot jo ma i kabedoni.',\n",
              " 'tam kong i kom jami mogo ma gukonyo jo mapol wek pe gibed agonya.',\n",
              " 'gin bene gimito ni lutinogi gumoko tamgi pigigi dok gupwoyogi ka tic mabeco.',\n",
              " 'wi myero opo ni jehovah pe bigwokowa.  joru 13 : 5.',\n",
              " 'baibul pe waco gin ma timme i lobo pa catan - ni, dok man oweko en oweko paulo woko.',\n",
              " 'watwero nongo mot pa jehovah nining?',\n",
              " 'man nyuto ni omyero wabed ki niye i kom tic pa yecu.',\n",
              " 'nyo nino meno aye niyeni pi jehovah ki batija?',\n",
              " 'ngat acel acel myero oniang yo pa lubanga. ',\n",
              " 'pi meno, pingo wamedde ki nyuto ni cokcok - ki?',\n",
              " '( kwan joru 12 : 5, 6, 11. )',\n",
              " 'yecu otimo tango mukwongo i nyom.',\n",
              " 'solomon obedo ki yomcwiny me winyo lok pa lubanga kun tiyo ki cwiny ma ngoli kop - pi.',\n",
              " 'lweny meno pud tye ka timme i kom catan me jwayo niye pa jo ma kogi kacel ki romi mukene.',\n",
              " 'pol pa lukricitayo mapol pe gitye ki pwoc ma pigi tego ma lubbe ki lok pa lukricitayo.',\n",
              " 'ki lok ada, wamito ni wabed calo jami mutimme i kare mukato angec kacel ki jo ma guneno ni jehovah tye ka cobo jone.',\n",
              " 'kadi bed ni pe watwero gengo bedo ngat ma pe lagen, ento bedo ki kica twero weko ngat moni yenyo miti ki mar ki bot ngat mukene.',\n",
              " 'ento, yecu ogamo ni :  kit macalo jami magi ducu gineno, nino meno pe bibino i potone woko woko woko.   marako 13 : 1 ; luka 21 : 6.',\n",
              " 'pi meno, en pe twero bedo ki yomcwiny, cwiny me kica nyo kica.',\n",
              " 'watwero bene cuko cwiny jo mukene ni gitye ki kit mabeco nyo loko  jo ma cwinygi otur. ',\n",
              " 'tika niyeni myero obed matek me kuro jehovah, ma ocikke me yubo jami ma tye atir?',\n",
              " '( b ) kric bitic ki lucwan nining?',\n",
              " '( kwan joru 11 : 13. )',\n",
              " 'en neno jami mabeco mabeco ki botwa, kit ma en oneno kwede jami mabeco mabeco i kom kabaka magi angwen - ni.',\n",
              " '( b ) luneno mene ma myero gutimo ma peya gumoko tamme?',\n",
              " 'kadi bed kumeno, ibijingo niyeni.',\n",
              " 'gin ma itwero wawinyo :  kit macalo yo mapat pat, dok bene tye yo ma dano mapol ma telogi bot lubanga.',\n",
              " '( b ) gin ango ma myero wiwa opo iye ka watye ka moko tam?',\n",
              " 'ki lok ada,  i kare ma gitye i pekkigi ducu. ',\n",
              " 'lucaden pa jehovah guto nining ni gitye ka tito kwena ki cwiny matir?',\n",
              " 'in itye ka moko tam, dok iwinyo nining i kom tam mogo ma imoko - ni?',\n",
              " 'tika watye ka timo jami ducu ma watwero?',\n",
              " 'omego mo acel ocoyo ni :  abedo ka tic i ticwa me pwony i kare macon ca 1940, dok dong atye cok, ento pe atye ki yomcwiny i ticwa me pwony macalo pwony man me dwe - ni! ',\n",
              " '* lapenye manok kekengi ni lulub kor yecu gitye ka kuro mot me ker pa lubanga.  2 petero 3 : 13.',\n",
              " 'calo lukricitayo mukene, luring ayela myero gulweny ki atematema kacel ki atematema me keto jami me kom ma peya gitye ki wat i kingi ki jehovah.',\n",
              " 'laco mo acel me baibul waco ni paulo otiyo ki lok man te lokke ni  yub me tic ki gin mo keken, ma pe tye ngat mo ma twero timo gin mo keken. ',\n",
              " 'ka itye ki par, ci lega bot jehovah pi par ma itye kwede.',\n",
              " 'i nge kare mo manok, jang gang kal me jang gang kal onongo tye ki tyen adek.',\n",
              " 'jo mogo gubedo ka tic pi kare malac i betel pi mwaki mapol.',\n",
              " 'bal ma petero otimo - ni nen calo cwercwiny i kom lukricitayo ma lukricitayo.',\n",
              " 'lubo lanen pa nua, daniel, ki yubu : temme bene me bedo ki niye i kom jehovah ki dok lubo kit ma gutimo kwede.',\n",
              " 'ngo ma myero itim wek inong cwak pa lubanga?',\n",
              " 'dok ma peya tye ka lok i kom romi ki dyegi - ne, en oloko i kom car.',\n",
              " 'ka watye ka lubo tela pa cwiny pa lubanga, niyewa ducu.',\n",
              " 'niango okonyo yecu me loyo cwiny maleng, kun weko en  omako kiniga.  ( mat.',\n",
              " 'lukricitayo gitimo jami magi pien gimaro luwotgi.',\n",
              " 'dano mapol ma komgi lit kacel ki jo ma gitye i lobo amerika.',\n",
              " 'babana oto.',\n",
              " 'pi meno, pe tye gin mo ma twero timme me ngeyo  kare kacel ki kare  ma watye kwede i kare - ni!',\n",
              " 'tiro  te te  te lokke ni  yone nyo nyuto kit ma myerob kwede. ',\n",
              " 'pi bal ma gitye kwede, kacel ki yomcwiny i kare ma gubedo ki wat maber ki jehovah kacel ki jone, man twero konyogi me niang.',\n",
              " 'pingo mitte ni wamedde ki nongo kwe cwiny?',\n",
              " 'jehovah romo gamo catan, ma owaco ni pe tye ngat mo ma twero bedo lagen.',\n",
              " '* i kare meno, lungwec ma gitye ka ngwec i kingi nyo peko mogo ma onongo gitwero oyotoyot.',\n",
              " 'kit macalo lapwony pe mito ni lutino kwanne gucikke kwede, yecu pe mito ni lulub kore  g gin ma gicoyo i ginacoya maleng.  1 jo korint 4 : 6.',\n",
              " 'medo i kom meno, cik pa lubanga onongo mito ni okwonge kwonge me giko peko mo keken.',\n",
              " 'i kare ma gitye i kabedo meno, gin mo ma pire tek aye guyero painia keken ka ce gitye ka tic pi kare 30 nyo 50 i ticwa me pwony.',\n",
              " 'ki lok ada, luelda gitye ki tic me  jo ma gitimo bal. ',\n",
              " 'wek ngat ma dag piny pe ; en aye ma tiyo tic matek.   jo epeco 4 : 28.',\n",
              " 'medo i kom meno, baibul pe wacci yecu nyo ngat mo keken.',\n",
              " 'kadi bed ni lukricitayo me ada pe gitye i tim me wibye, tika man nyuto ni pe gitye ki miti me timo gin ma gibedo iye?',\n",
              " 'gin ango ma onongo gibitimo?',\n",
              " 'i nge tim man maraco - ci, jehovah omiyo bot yubu tyen aryo ma lubbe ki gin ma en onongo peya obino pi mwaki mapol.',\n",
              " 'pi meno, kadi bed ni watye ka deno can pi peko mo keken, pe myero wapokke, pien timo meno pe biweko jami ma mitte.',\n",
              " 'nen kong labol acel i lok pa lanebi me abine.',\n",
              " '12, 13. ( a ) adwogi maber ango ma wanongo ki i kony pa lubanga?',\n",
              " 'ento lakwena paulo onongo neno lok man ka maleng  onongo pe tye i kin jo ma gitye i kacokke.',\n",
              " 'en okonya me niang ni bedo lagen bot lubanga, onongo mitte ni aweko coyo waraga bote.',\n",
              " 'tika iye lok pa jo matino?',\n",
              " 'tika itye atera me timo meno?',\n",
              " 'guwaco bote ni :  kain. ',\n",
              " 'lanyut magi gitwero nyuto ni ngat moni tye muteggi, woro, ki dong cwiny maleng.',\n",
              " 'pe myero wawek wer me lobo, vidio, bukke, lurem, luc, lungwec, tic, nyo jo ma guyubo kit me kwoni.  kol.',\n",
              " 'yonacan nen calo onongo tye ki peko ma kit meno.',\n",
              " 'tika dano gitwero cuko cwinygi me konyo jo ma pud gitye lucan?',\n",
              " 'lubo tira ma baibul miniwa twero konyowa me gwokke ki  keto cwinywa ducu me lubo catan. ',\n",
              " 'ki lok ada, wangeyo ni dano mapol giye niyegi dok ni pe gitye ki miti i kom kwenawa.',\n",
              " 'pi bal kacel ki roc ma watye kwede i komwa ki adam, wan ducu to.',\n",
              " 'solomon ocako  nyom ki kabaka me ejipt ki wod pa parao.  ( acak.',\n",
              " 'ka watye i kin dano ma pe gipe i kin jo mukene, ci wabitimo gin mo keken.',\n",
              " 'nen calo waco ni, pien watye ka kwo i  peko. ',\n",
              " 'lobo ma tye i lobo : levi',\n",
              " 'ki lok ada, kadi bed ni lunyodo gitimo jami ducu ma gitwero pwonyo latingi, pud twero weko jehovah.',\n",
              " 'i pwony me wi got, yecu ominiwa tam mabeco madok i kom yubbe.',\n",
              " 'ticwa me pwony obedo yo maber me miyo deyo bot jehovah dok nyuto cwiny me kica bot jo mukene.',\n",
              " 'i yo acel - li, ka ilego ki cwinyi ducu ki cwinyi ducu, ci itwero bedo ki gen ni jehovah bimiyo winyo legani.',\n",
              " 'i kare ma kijwero yecu, lulamdog madit ki lulamdog madit gubino i lobo ci guwaco ni :  catan owaco gin ma en owaco ni pud pud pud tye ka kwo,   i nge nino adek. ',\n",
              " 'tic pa lukwena 28 : 30, 31 wacciwa ni :  en omedde pi mwaki aryo i ot, en binongo jo ducu ma gibino i tic me tito kwena me ker pa lubanga ki pa yecu. ',\n",
              " 'kit ma waneno kwede, dano mapol cwinygi otur adada i kare ma ngat acel tye ki two marac adada.',\n",
              " 'i kare ma en oneno ni omegigine gutimo alokaloka, yucepu owaco botgi.',\n",
              " '( b ) tic ango ma jo ducu ma gitye ki nying lubanga?',\n",
              " 'macalo lutic pa jehovah, wabedo ki miti me neno yub pa lubanga  ka macalo i polo, bene i lobo. ',\n",
              " 'pe tye dul me dini mukene ma gitye atera me jenge i kom lok pa lubanga kadi bed ni timo meno twero bedo tek bot jo mukene.',\n",
              " 'ki lok ada, baibul nyuto ka maleng ni cwiny me mwolo tye ki kero madit.',\n",
              " 'gin pe gubedo ki gen meno.',\n",
              " 'yecu omiyo tic ma pire tek i kom lag ot ma lagen dok maryek.',\n",
              " 'nyig lok twero kelo peko i kacokke',\n",
              " 'aka onongo tye ki dako nining?',\n",
              " 'kadi bed ni gitye ki gicikke ni  yubbe  i kare ma jehovah otito pi jeremia ni en bicikke manyen kacel ki jorael, ento onongo pe nio wa agikki piny manyen.',\n",
              " 'ngo ma myero wabed ki miti me timo gin matir?',\n",
              " 'i nge mwaki mapol mukato angec, dano magi onongo gitye i kare ma gubino irael me tic pi jehovah.',\n",
              " 'ento lega pa jehovah pak ni :  pi kica ma wutimo [ ], pe wun woko i dye tim........',\n",
              " 'makato ducu, ket cwinyi i kom jehovah.',\n",
              " 'pe tye gin mo keken ma twero weko bedo opii i opii  opii ma pe yot.',\n",
              " 'dok, ma tye ki lutino aryo, owaco ni :  cuko cwiny lutino gitye ka dongo i yo me cwiny kacel ki cwinygi ducu.',\n",
              " 'an anga ma abibedo ki lworo? ',\n",
              " 'pi meno, lulevi onongo gitwero ticgi me tic pi lubanga merael.',\n",
              " 'gin ango ma jo ma ginyuto pwocgi pi kica pa lubanga?',\n",
              " '11, 12. ( a ) i yo ango ma yecu odok i kom jo ma onongo gimito balo woko ki i ticce?',\n",
              " 'ma lubbe ki lok meno, baibul waco ni :  pi yo ducu ma en ngolo kop atir.',\n",
              " 'yecu owaco lok mo i kom laco mo ma onongo tye ki ngwec, ci ocak woko.',\n",
              " 'ka odok i lok pa dano, dano mapol pe gitwero bedo ki ur adada makato lok mo keken i kom kit macok kwede.',\n",
              " 'i kare ma jo mukene gitye ka yenyo kony, miti maraco ma bibedo  bikato woko ki i bal ma bino pi jo mukene - ni  dok kelo cwiny i kom nying jehovah.',\n",
              " 'me aryo ducu : cokcok ki dano aryo ma gineno jami ma tugo miti me buto ma tugo miti me buto.',\n",
              " 'jehovah bene mito ni dano gubed ki yomcwiny.',\n",
              " 'jami magi ducu bikonyo laelda me lok ki cwinye ducu, ento pe obedo gin ma pire tek.',\n",
              " 'mar ango ma jo munyomme myero guto?',\n",
              " 'jehovah owaco ni  catan me ngeyo gin maber ki marac  pien nyuto atir ni en tye ki twero me moko gin maber nyo marac pi dano.',\n",
              " 'lacen, lunyodo pa yeko cutcu g kacel ki lurem mabeco i kacokke.',\n",
              " 'ka lukricitayo luwo gunyomme, lukricitayo gitye ki lurem ma gitye ka tic pi jehovah dok gibikonyowa me gwoko gennegi.',\n",
              " 'ki lok ada, watye ki ngec mo ma pigi tego ma lubbe ki laco - ni, ento myero pe wacung piwa kekenwa kekenwa kekenwa calo :  ka twero cobo peko me lobo - ni, ci twero timo gin ango? ',\n",
              " 'ngat ma dong tye ka tic macalo painia pi mwaki 16 owaco ni :  ngeyo ni omiya kare me bedo caden bot lacwec ki polo ki lobo miyo atye ki pwoc.',\n",
              " 'lakricitayo twero konyo jo me ot me woro me ada nining?',\n",
              " 'pud dong watye ki pwoc madit ya i kin mon ma gin lukricitayo ma gitye ka konyo kor tic me tito kwena i yo mapat pat i kare - ni!',\n",
              " 'gen jehovah dokb tira ma lubbe ki tira ma kiminigi me telo yo me mwolo.',\n",
              " 'i nge mwaki 1,000 me tic pi jehovah, luker pa lulamdog bibedo i lobo ma gitye ki roc.',\n",
              " 'en miniwa cik ma igi lac me baibul ma kare ducu, ento myero waket i tic gin ma wapwonyo.',\n",
              " 'yako onyuto apokapokapokapoka ma tye i kin jo ma gitye ki niye.',\n",
              " 'ka ce myero walok lok, pe myero wabed me ryeko me lok ki ngat ma tye ka lok iye.',\n",
              " 'i ngeye bene, i nge nongo baibul ma tye i lobo manyen, laminwa mo ma tye i lobo amerika owaco ni :  kit macalo lok pa lubanga ber adada!',\n",
              " 'daniel onongo twero lega bot jehovah i kabedo mo keken.',\n",
              " 'yo acel ma watwero timone kwede aye me winyo wer pa omege ki lumege.',\n",
              " 'gin ango ma myero water kit ma wa kwede?',\n",
              " 'twero bedo ni luremwa gitye ki miti matir, ento tye jo mukene ma gitye ka tito lok me ada nyo pe gingeyo lok ada.',\n",
              " 'gicikke me gicikke bene omiyo yub me bedo lulamdog, dok man onyuto yub madit ma bitimme i anyim.',\n",
              " 'cik ma kimiyo bot moses onongo mito ni ngat ma maro luwote macalo en kikome.',\n",
              " 'dongo cwiny me bedo ngat matidi, 11 / 1',\n",
              " '( c ) wangeyo gin ango ma lubbe ki kwo i lobo manyen?',\n",
              " 'kacel ki cwiny maleng i timo tic man.',\n",
              " 'gin ango ma lucan gimito?',\n",
              " 'gin ango ma weko dongo maber, pwonyo, ki dong pwonyo tam?',\n",
              " 'nyo, ngo ma myero waket i wiwa? ',\n",
              " 'gibiniang kit ma itwero geno kwede jehovah.',\n",
              " 'lubanga owaco bot adam, adam, ni ka otimo gin ma baibul wacci bito.',\n",
              " 'pingo mitte ni watim jami mapol makato kwano ginacoya ka watye ka tito kwena?',\n",
              " 'man tye labol pa jo mogo ma gutimo jami ma kelo cwiny jo mukene.',\n",
              " 'yecu onongo pe oketo yub pi jon me timo gin mo macalo elia calo yubbe.',\n",
              " 'i nge meno, i kare ma lok goba ki goba onongo tye i kin co, man oweko onongo mitte ni gulo lok me ada ma pigi tego.',\n",
              " 'gitiyo kacel ki jo ma can dok gitye ka tic ki jo ma cwinygi yot, dok jo mukene gitimo jami maraco.',\n",
              " 'omyero waket cwinywa ducu i kom ginkok pa yecu, wek watim alokaloka i kwowa  ma lubbe ki kwowa me kwo pi yecu, ma oto piwa.',\n",
              " 'tye me cwercwiny ni lukricitayo ma gitye i yo me tango - ni pe gudo to pa lukwena.',\n",
              " 'en oto piwa, ci gin ma en omiyo bot dano ducu, mon, ki lutino me kwo pi naka.',\n",
              " 'ki lok ada, ki lok ada, tyeng mogo ma kicoyo i baibul ma kicoyo pi ngat acel acel nyo gurup mukene.',\n",
              " '( a ) kare mene ma onongo bedo tek i 1914?',\n",
              " 'dako pa yonana onongo mit adada me bedo ki latin.',\n",
              " 'ngo ma myero itim ka imito ni inge dokb tira me baibul?',\n",
              " 'pi meno, en tute me tito lok ada i kom lok me ada i yo me cwiny.',\n",
              " 'baibul waco ni gitye  i nge yamo.   latitlok 4 : 4.',\n",
              " 'dok onongo atwero gamo ni,  wek obino! ',\n",
              " 'ento, pi pekki magi ducu, yubu okwero gengo gennene ducu.',\n",
              " 'ka wamiyo cwinywa ducu, watwero bedo labongo akalakala ni en cwinye yom.',\n",
              " 'itwero nongo pwony ma tye i woro me ot pa jo me ot ma wakwano i cura 12 - 15 ki bene kit ma jehovah oweko kwede jone.',\n",
              " 'ento pud gitye ki pwoc madit ni lucaden pa jehovah gilwongogi.',\n",
              " 'atye ki kwo pa luc ma tye i lobo cikke calo gin ma pire tek adada. ',\n",
              " 'en mito gwoko kwowa ki i yo me cwiny.',\n",
              " 'pol kare abedo ka lwodo lok i kom lapeny meno.',\n",
              " 'lanen mene pa jo ma guto worogi bot jo mukene?',\n",
              " 'kadi bed ni lokke tye i baibul, pol kare jo mukene gitye ki miti i kom gin ma atimo ka atye ka pwonyo baibul.',\n",
              " '( kwan matayo 11 : 27. )',\n",
              " 'ka tye kumeno, man weko wabedo ki lworo.',\n",
              " 'anga ma obedo abraim?',\n",
              " 'cwinywa twero bedo yom adada me miyo jami mabeco ma jehovah bikonyowa i paradic i lobo kany.',\n",
              " 'en onongo tye ki  rac  i cing lubanga ci oto woko.  car.',\n",
              " '( a ) lok pa yecu ki petero pwo gin ango ma pire tek me nongo batija?',\n",
              " 'kadi bed kumeno, lubanga biwinyo kadi bed ni gutimo bal madongo.  kwan 2 tekwaro 33 : 9 - 13.',\n",
              " 'elian owaco ni,  angeyo ni kare ma atye ki dakona kacel ki lutinona pe gitwero cobone.',\n",
              " 'gen ango ma watye kwede i kom genwa, dok kric binyuto awene?',\n",
              " 'tam kong i kom legani kare ki kare  madok i komgi kare ki kare.',\n",
              " 'pi meno, en  otiyo matek makato  pa lukwena mukene.',\n",
              " 'ka itye larem lutinoni me mwaka apar ki wiye dok ikonyogi me bedo ki  wat macok ki jehovah,  pe iweko tweti macalo lakrici.',\n",
              " 'ka itye ka kwano baibul mini gen ango?',\n",
              " 'kabedo tye i kabedo me lobo ducu, man aye gin mutimme i lobo - ni  aye adwogi maber pa rok mogo me lobo ducu.',\n",
              " '18, 19. ( a ) gin ango ma myero watim ka ce omyero wabed mabor ki lubanga?',\n",
              " 'yo acel keken me ngwec aye me ngolo pii.',\n",
              " 'lakwena paulo mo acel owaco gin ma baibul waco i kom  kare me agikki. ',\n",
              " 'lega obedo but worowa ma pire tek adada, dok bene pire tek bot ngat mo keken pe obedo gin ma lubanga tye ka pwonyone ki i baibul.',\n",
              " 'yecu onyuto tekcwiny i nino me agikki i lobo nining?',\n",
              " '( b ) watwero konyo lutit kwena manyen me lok ki dano calo yecu nining?',\n",
              " 'ka itimo meno, ci gitwero wacci,  nicakke i kare ma babana pe paro piwa, man myero obed atir. ',\n",
              " 'lubanga mito ni wati ki nyinge.',\n",
              " 'pi meno, yecu onongo ngeyo kit ma lobo tye kwede.',\n",
              " 'kit macalo yecu pe obedo ki roc ki bot wonne, ento pe oto pi bal ma en otimo, ento pi bal pa jo mukene.',\n",
              " 'tika wabibedo i nyim jo mukene dok wacci myero kiyubbe kacel kwedgi?',\n",
              " 'cwinywa yom adada.',\n",
              " 'dano gubedo ki cwiny me cwinygi ducu dok bene gubedo ka temo worogi.',\n",
              " 'baibul obedo ot ma ngec i kom lubanga.',\n",
              " '26 i kare ma jerucalem onongo kijwero jerucalem?  pingo man nyuto gin ango?',\n",
              " 'macalo ngat matidi, yecu onyuto mwolo kun keto cwinye bedo mukwongo i timo miti pa jehovah ento pe.',\n",
              " 'i kwan man, wabinyamo jami angwen ma kicoyo i neke me 12 : ( 2 ) gwokke ki bedo ki wat macok ki lurem maraco ; ( 2 ) kacel ki yub me cwiny ; ( 3 ) ki dong ( 3 ) lukricitayo me bedo lukricitayo.',\n",
              " 'jehovah openyo ni :  i kare ma dano ducu gibitimo gin ango i kare ma pe gitye ki woro bot moses? ',\n",
              " 'ento ka pe itye ki yomcwiny me tito kwena?',\n",
              " '10 tika itye ka tic ki cwiny me ryeko?',\n",
              " 'ngenee ni lukricitayo ma giniang ni jehovah aye ma myero oti pire aye ni pire obed mukwongo i kwone.',\n",
              " 'dok wan ducu watwero nongo adwogi maber nining ka watamo lanen pa abraim kacel ki moses ma gubedo ki i atematema kadi bed ni guket tamgi i kom jami ma tye malo?',\n",
              " 'i kare ma jo munyomme gitye ka  akemo, akemo, kiniga, kiniga, ki dong lok goba,  gigwoko gengo nyomgi ki i yo me cwiny.',\n",
              " 'ento tika lok ada?',\n",
              " '( 1 jo korint 15 : 3 ) laminwa mo ma a ki i lobo amerika ma onongo tye ki rac adada, obedo ki yomcwiny me neno omege ma i kacokke macokke macokke, wek okonye.',\n",
              " 'niyewa omedde ki dongo i yo me cwiny.  jon 3 : 16',\n",
              " 'ento, i nge winyo tung aryo, laco - ni owaco botgi ni myero guket lweny ki lweny ki lweny ki dok gwoko cwinye wek gutit lok man i kare ma en tye iye.',\n",
              " 'kadi bed i nge mwaki makato 60 kulu i lobe mukene, pud mitte ni abed atera me timo jami ma jehovah mito.',\n",
              " 'nen calo lajaro - ni owaco ni  pe rac,  calo cik pa moses.',\n",
              " 'meno obedo mwaki 38 i nge kare mukwongo ma waketo i tic.',\n",
              " 'kwo me ada. ',\n",
              " 'kit ma en oneno kwede, rok ducu  gitye calo woko ki i dye nam, ki ma gitye ka ngom.  ( mat.',\n",
              " 'lacen, luker 144,000 kacel ki lulamdog 144,000 gibimedde ki gonyo dano kun giketo yub macalo ginkok pi bal pa dano kadi bed ni gitye ki bal.',\n",
              " 'kadi bed ni watye i kwowa, omyero wamoko tamwa me lubo yo me c i kacokke wek wabed ki caden maber bot jo ma gia ki i kacokke.',\n",
              " '( b ) gin ango ma lujemo gutimo ma lubbe ki jehovah i kare mukato angec mukato angec?',\n",
              " 'pi meno, kadi bed watye ka tute matek, wan bene walweny calo lakwena paulo, ma ocoyo ni :  ka amito timo gin maber, gin marac ma tye i koma. ',\n",
              " '( b ) cwiny magi ogudo lupwonnye pa yecu nining?',\n",
              " 'i kare ma en tye ki niye me ada, en oniang ni wonne me polo, jehovah pe openyo luticce ma lugen me timo gin mo ma kelo adwogi maber.',\n",
              " 'laco jabuli owero ni :  abipwoyo [ jehovah ] [ jehovah ] i kacokke madit, i kin dano mapol ma amaro. ',\n",
              " 'pe tye tam mo keken mapol madok i kom lok man.',\n",
              " 'ka imedde ki ngeyone, ci ci ibimedde ki bedo ki gen meno.',\n",
              " 'kadi bed kit meno, pire tek adada me timo gin mo keken.',\n",
              " 'ka itiyo ki kwoni me tic pi jehovah ki deyo ducu, ci ibibedo ki yomcwiny.',\n",
              " 'labongo akalakala, jehovah onongo pud tye laloc, dok macalo wego, en otiyo ki tekone madit me gwoko jone.  kwan nia 14 : 13, 14.',\n",
              " 'onongo atye ka donyo i tim me buto kacel ki jami ma gubedo ka timme i kacokke.',\n",
              " 'pien wamaro lubanga dok wamito ni wabed ki yomcwiny, pe waniang jami maraco keken ento kadi wa jami ma yomo cwinywa.  kwan matayo 22 : 37, 38.',\n",
              " 'ma lubbe ki lanenne, jehovah pwo ni myero wabed ki cikkewa',\n",
              " 'ento miniwa kare me bedo lagen bot jehovah.',\n",
              " 'omego cara, ma otiyo i kacokke - ni, owacci gubedo ki miti i kin lumone abicel.',\n",
              " 'kadi bed kit meno, jehovah oneno ni abraim onongo tye ki niye matek dok okwane calo jo ma kitgi atir.',\n",
              " 'pien walyero bot jehovah, wan bene watye ki  kuc ki lubanga. ',\n",
              " 'ento, watye ki ngec madok i kom kacokke bitimme.',\n",
              " 'man oweko wabedo ki pwoc pi ginaleyawa!',\n",
              " 'pi meno, pe bibedo ber ka luye luwo gujolo dok waweko balgi ogengowa ki yomcwiny ma bino pi bedo i kin jo pa lubanga i kare man me agikki - ni.',\n",
              " 'pingo myero watemme me neno jami mabeco mabeco pigi, ma weko wanenogi calo jehovah?',\n",
              " 'solomon onongo nongo ryekone nining, ento bedo ki ryeko nining?',\n",
              " 'i kare ma lukricitayo pa lujudaya, lujudaya magi gubedo ka wot i ot pa lubanga, lumony me roma gucako woko ot pa lubanga.',\n",
              " 'watye ki mot me pwonyo baibul bot dano mapol.',\n",
              " 'tito kwena bene jingo genwa ni cwiny pa lubanga tye ka konyowa.',\n",
              " 'yecu onyuto  kwena maber me ker - ri,  dok en mito ni lupwonnyene gutimo kit meno.',\n",
              " 'tika inongo jami ma pigi tego?',\n",
              " 'i nino me otyeno,  onongo gitye ka miyo tyen lok i nyim rwot [ jehovah ]gi. ',\n",
              " 'ngat acel twere  dok tye ki cwak pa lubanga nining?',\n",
              " 'i kare ma atye i cukul, abedo ka yero tic me pwony pi kare malac i leb mutoka wek atwero tic macalo painia.',\n",
              " 'pekki ma watye kwede kacel ki balwa twero weko waketo cwinywa i komwa i yo me cwiny kun waketo cwinywa i timo jami marac labongo ngeyo gin mo keken.',\n",
              " 'i nge kare mo, en odoko painia marii.',\n",
              " 'lakwena petero oporo catan ki  labwor ma kok. ',\n",
              " '( b ) mi labol me ginacoya ma twero konyowa ka watye ki tam matek.',\n",
              " 'adam gin ki kawa onongo pe gingeyo angagi ma cwiny man.',\n",
              " 'en ocuko cwiny utmegine ni :  pe iwek bal omedde ki loc i komi macalo kabaka, wekb mitigi. ',\n",
              " 'ka itamo i kom kit ma jehovah otimo me konyo dano me bedo ki kuc i cwinye nining?',\n",
              " 'ki lok ada, luringol onongo pe gimito timo gin mo keken ento gimito nyuto ni gitye ki pwoc madit pi jami ma jo mukene gitimo.',\n",
              " 'ka watimo meno, ci wabibedo ki yomcwiny ni wabedo ki tic madit i tic me tito kwena me ker - ri!',\n",
              " 'jehovah owaco ni ebedo dulgi i yo ma ka nongo ginongo lobo - ni, kiminigi mot me tic pi jehovah.',\n",
              " 'lumalaika gitye ki cwiny maleng, ma gitye ki ryeko kacel ki teko.',\n",
              " 'gin onongo pe gitye i gang pa matayo cam.',\n",
              " 'moses obedo lanebi madit adada.',\n",
              " 'me labolle, lubanga ocikke me jwero lobo man.',\n",
              " 'i yo me aryo ma yecu onyuto kwede won bot lupwonnyene.',\n",
              " 'wabo yo mapat pat ; wan bene watye ki cwec me c i yo mapatpat.',\n",
              " 'ginanyuta magi, lakwena jon gin ki lanebi ejekiel, ma nyuto ka maleng madit pa lubanga madit loyo, jehovah, ki jami ducu ma watwero kwanone.',\n",
              " 'ento, pire tek ni kadi wa baibul me lebru, en oloko i kom kabaka yakobo macon, en owaco ni :  labongo tyen lok maleng.  ',\n",
              " 'jo mukene gitwero konyo lunyodo kacel ki lutinogi ma pud gitye mwaka apar ki wiye me lok.',\n",
              " 'ma ka meno, jehovah onongo mito konye me niang kit ma en onongo tye kwede ki lubanga.',\n",
              " 'jo ma gitye ka tic kwedgi i kare ma peko tye iye, calo lobo ma tye i lobo ma tye i mwaka 2010.',\n",
              " 'lacen mamana onongo tye ki two.',\n",
              " 'pud dong tye lanen maber ya pi jo matino, ma lubanga biminigi mot bot lunyodogi!',\n",
              " 'pe watye ki pwoc bot jehovah pi lokke, baibul?',\n",
              " 'ento pe tye gin mo keken i kom bal ma kit meno.',\n",
              " 'cwiny me lobo - ni biterowa i yo marac',\n",
              " 'en obedo ka diyo cwinye dok otito lok pa lubanga i yo me kica bot dano ducu.',\n",
              " 'en owaco ni :  en onongo tye ki lworo madit adada ma oweko en ocako lokke bot joru.',\n",
              " 'nen ka maleng ni lubanga pe tye ki twero me timo jami maraco ma timme bot dano, dok bene pe weko dano can.',\n",
              " 'jehovah oketo deyo i kom wode  malo gamente ducu ki twero ki twero ducu. ',\n",
              " '* ( kwan 1 temceo 5 : 23. )',\n",
              " 'en bene owaco ni en kacel ki jone onongo pe gingeyo gin ma myero watim.',\n",
              " 'i nge nino meno, lucaden aryo pa jehovah aryo pa jehovah gupenyo i ot pa lubanga dok g tam mogo ma tye i baibul.',\n",
              " 'me labolle, nen pot karatac ma wiye tye nining?',\n",
              " 'paulo ocoyo bot luye luwote ni :  wungeyo ni nino pa rwot [ jehovah ] bibino maber,  dok bene omedo ni,  ladit ma tye i dyewor. ',\n",
              " 'jo mogo gitamo ni bedo agonya pe bibedo gin maber loyo.',\n",
              " 'pingo pire tek ni wamoko tam me ryeko nino ducu?',\n",
              " 'lubanga owaco botgi ni :  kadi bed wutyeko lega mapol, pe awinyo lega ; ci abibedo ki ur.',\n",
              " '( b ) gin ango ma wabinyamone i pwony ma lubo man?',\n",
              " 'lujudaya mapol gucako lok ki leb meno, me gonyo baibul me leb grik i leb grik.',\n",
              " 'dok ka genne dong ocobbe woko, ci twero bedo tek adada me dwoko piny.',\n",
              " 'temme me cako yubo wi dano kun keto cwinye i kom pekki mo keken ma ka keto tam i kom jami me wibye.',\n",
              " 'kuc okonyo lukricitayo me kare macon nining?',\n",
              " 'co mukene myero ogeng lukricitayo me pwonyo baibul bot lutino.',\n",
              " 'pii me wi lobo ducu',\n",
              " 'ento, gin ango ma onongo gibitimo?',\n",
              " 'jehovah otito gin mo ma pire tek ma luicrael onongo gitye kwede.',\n",
              " 'lupwonnye ango ma yecu omiyo bot jo mukene, dok ngo ma lubbe ki kit ma gubedo kwede?',\n",
              " 'i kare ma daudi tye ka nongo batija, dok i kare - ni en tye laelda.',\n",
              " 'weko aketo cwinya i kom jami ma en onongo tye ka kato ki i atematema. ',\n",
              " 'paulo onongo tye ki pwoc madit adada pi kit ma en onongo tye kwede, dok en onongo mito ni kica pa lubanga pe onen i kome.',\n",
              " 'nen kong gin ma yecu owaco bot jehovah :  worwu, wonwa me polo ki lobo, pien wuloko jami magi me ryeko ki lutinogi.',\n",
              " 'dano mapol ma gitye ka bino i yo me woro pe gicamo mugati, pien yecu owaco ni jo ma gibibedo ka loc i ker - ri.',\n",
              " 'en calo gin ango?',\n",
              " 'yecu onyuto mar ma jehovah tye kwede pi jone nining?',\n",
              " 'kong wanenu lapeny magi.',\n",
              " '( kwan jabuli 125 : 1 - 4. )',\n",
              " 'ngeyo gin ma en aye kacel ki pwony ma twero weko en paro pire.',\n",
              " 'luicrael onongo gitwero nyuto ni pe gitwero mar ki mot ma jehovah omiyo.  kwan nwoyo cik 8 : 7 - 11.',\n",
              " 'macalo lacwec me jami ducu, en tye ki twero me lubo tela pa cwecce ducu.',\n",
              " 'ento watwero bedo ki gen ni jehovah bene neno ka watye jolo welo, jo ma timo kica, ki dok ma cwinywa yot.  joru 13 : 16 ; 1 petero 4 : 8, 9.',\n",
              " 'pi meno, en twero tamo ni en tye tira ma lukricitayo luwo, luelda, nyo dul pa lubanga.',\n",
              " 'lagam man pe.',\n",
              " 'man kwako kwo ma pe tum, niangwu, lubanga me ada, ki yecu kric.   jon 17 : 3.',\n",
              " 'man pire tek adada me tam i kom lapeny magi.',\n",
              " 'watwero nongo pwony ki i kom yecu pien owaco ni :  an aa ki i polo.   jon 8 : 23.',\n",
              " 'in imoko tammi me timo gin ango?',\n",
              " 'pingo lunyodo myero guti matek me pwonyo lutinogi?',\n",
              " 'me labolle, ma ka penyo nyari kit ma nino - ni tye ka wot kwede i nino meno, itwero miyo pwony i kom kit ma nino tye iye.',\n",
              " 'me labolle, nen kong dako mo ma obedo ki remo pi mwaki 12.',\n",
              " 'tic pa luc tye ki twero me tic pi jehovah',\n",
              " 'kadi bed gitye ki yomcwiny, pol kare gitye ki par bene.',\n",
              " 'lubanga keken aye ma loyo lobo ducu onongo twero miyo jami mabeco i lobo.  kwan latitlok 4 : 1 ; 8 : 9.',\n",
              " 'jehovah bene onyuto ni cwec mapol ma tye i lobo ma tye i lobowa - ni.',\n",
              " 'lunyodo gitwero nongo pwony ma pigi tego ki bot lunyodo daniel.',\n",
              " 'lacen, en omiyo bot jehovah pak pi lweny meno.  1 cam.',\n",
              " 'baibul  tye ki teko matek adada pi lubanga weko jami ducu,  man kwako tic ki tam maraco ki tam maraco.',\n",
              " 'ka kibato angwen, onongo atye ka tic ki aryo aryo.',\n",
              " '5 tika ber ka jo munyomme gitye ka tic ki jo munyomme?',\n",
              " 'en bijwero jo maraco ento en bimiyo kwo ma pe tum bote.  kwan matayo 25 : 31 - 33, 46.',\n",
              " 'an amito meno!',\n",
              " 'kadi bed kumeno, lutit kwena mogo ma gitye lutit kwena me ker - ri gitye ki yomcwiny ma onongo gitye kwede.',\n",
              " 'kong dong wanenu gin ma yecu owaco.',\n",
              " 'ngo ma lukricitayo myero guti kwede ma lubbe ki tam ma lubbe ki kit ma gumoko kwede?',\n",
              " 'man onongo nen calo obedo gin ma pire tek adada bot moses me kuro niango pa jehovah pi nianggi nyo otim alokaloka magi ma onongo mitte.',\n",
              " 'rwot [ jehovah ], in dong ingeya, in ingeya.   jabuli 139 : 1.',\n",
              " '( a ) car i kom laco - ni pwo gin ango i kom ticwa me pwony?',\n",
              " '( b ) tit kong kit ma omego ruth owaco kwede pi lok me ada.',\n",
              " 'nen kong mot mapol ma bino pigi i te loc me ker pa lubanga.',\n",
              " 'kit ma luc gudo kwede kwoni 3',\n",
              " 'cokcok pa dano ducu giye lok madok i kom yecu.',\n",
              " 'tika itye ka neno kit ma lubanga tero kwede jami ducu?',\n",
              " 'watye ka kwo cok ki agikki me lobo man marac - ci ; pi meno, watye ki tyen lok matek me cung matek me cung matek i kom gen ma watye kwede i nyimwa!',\n",
              " 'pien en ocweyowa ki cwiny me cwiny dok ominiwa kero me nyuto mar.',\n",
              " 'ento tika miti me nongo deyo ki bot dano twero gudo lutic pa lubanga?',\n",
              " 'i kare ma lujudaya gitye i opii i babilon, lujudaya onongo gicokke i kacokke kare ki kare.',\n",
              " 'ka jehovah owaco ni gin mo bitimme, ci bitimme.',\n",
              " 'bedo kacel ki jo pa lubanga miniwa jing me medde ki tic pi jehovah ki yomcwiny.',\n",
              " 'lucaden pa jehovah gitute matek me ker pa lubanga, ento pe me timo jami me wibye',\n",
              " 'pe tye dano mo ma ngeyo  nino ki cawa  meno.',\n",
              " 'watwero bedo ki kuc ka wacel ki par ma watye kwede pi wonwa me polo.',\n",
              " 'yecu mono bibedo ka neno jami man nyo winyo wer man?',\n",
              " 'me ngeyo jo ma gitye ka tito kwena maber i kareni i kare ma yecu tye ka cobbe, mitte ni wanong lagam pi lapeny angwen magi :',\n",
              " 'me labolle, anna, ma tye ki mwaka 20, owaco ni :  angeyo ni tye ki gen me cobo pekowa ducu me ker pa lubanga aye ker pa lubanga. ',\n",
              " 'onongo angeyo ni pe atwero tic pi polo nyo jami maraco ma onongo pire tek adada.',\n",
              " '5, 6. ( a ) lumalaika mapol mapol ginyuto gin ango?',\n",
              " '( kwan jabuli 25 : 14. )',\n",
              " 'wabibedo ki yomcwiny i kare - ni, dok bene wabibedo ki  kwo.   1 temceo 6 : 19.',\n",
              " 'lok ma i pok ngeye : nicer pa yecu - ni  lokke piri',\n",
              " 'laco jabuli openyo ni :  rwot [ jehovah ] jehovah, anga ma dano bibedo rok i gangwu? ',\n",
              " 'jo ma gitye ka tic pi kare malac giwinyo nining pi kony kacel ki cuko cwiny jo mukene?',\n",
              " 'i cokke magi kacel ki gure me gure me nino ducu, wanyamo baibul  ma jingo niye i kom lubanga kacel ki cikkene. ru 10 : 24, 25.',\n",
              " 'pol pa dano gimaro jami maleng dok gimito bedo ki kuc ki jo mukene.',\n",
              " 'cwinye bibedo yom ka wageno lok i kom jami ducu ma weko kony?',\n",
              " 'wanyo i lobo amerika 1949, ci yubwa onongo tye me medde ki tic pi jehovah pi kare malac.',\n",
              " 'kare ducu pwoc bote pi mot ducu ma itye kwede.',\n",
              " 'pi meno, tic man me tito kwena - ni onongo tye i te telace.',\n",
              " 'tekoa kacel ki jehovah, pien en tye ka tic pi larona.   nia 13 : 14, 21, 22 ; 15 : 1, 2 ; 2 pet.',\n",
              " 'i kine ducu, lacwec ma tye i ngwec onongo tye ka tic i kabedo madit adada.',\n",
              " 'mon mapol magi onongo gitye lurok ma onongo gi lubanga me goba.',\n",
              " '( kwan jo roma 6 : 1, 2. )',\n",
              " 'daniel kacel ki jon guwaco nining ni agikki me loc pa dano?',\n",
              " 'pe watwero tamone ni wabitimo meno.',\n",
              " 'gin ango ma twero konyowa wek pe wabed ki  par i kom gin mo keken  ento me bedo ki  kuc pa lubanga ?',\n",
              " 'ento jorael onongo pe gubedo atera me nyuto kica bot jo mukene.',\n",
              " 'jehovah ocikke me konyo jone, gwokogi, ki dong laro jone, macalo gurup me kom, ki dong watye ki gen i kome.',\n",
              " 'man te lokke ni omyero waniang cwinywa kare ki kare wek pe wacak galowang me loboni, lurem, ki dong kit mabeco ma watye kwede.',\n",
              " 'ma ka meno, yecu owaco bot lubanga ni :  man bino pi kwo ma pe tum, ni gingeyo in lubanga acel, yecu kric, yecu kric. ',\n",
              " '( b ) gin ango ma latin romo gwokone?',\n",
              " 'i agikkine, man pwo gin ango i kom jehovah gin ki yecu?',\n",
              " 'i nge kare mo, lupwonnye pa yecu owacci :  pingo pe waromo kwanyo woko? ',\n",
              " '• car 13 : 20?',\n",
              " 'ejek owaco ni :  onongo atye ki cwara ma lagen ma abedo i nyom pi mwaki 33. ',\n",
              " 'i kare ma en onongo tye ka wot i wi got meno, en onongo tye ka kur.',\n",
              " 'watwero waco ni meno omyero lakricitayo me kacokke obedo mic me mar ka en tye ka kelo cwercwiny adada.',\n",
              " 'laco - ni onongo mito ni etum ento en pe oneno kit ma en onongo tye kwede, pien en onongo tye ki ngat mo ma myero okonye kwede i kabedo meno.',\n",
              " 'jo mogo gineno tic macalo lujudaya, jo mukene ma gitye ki twero me lobo roma, ki bene jo mukene gineno ni gitye ka kwanyo jerucalem kacel ki ot pa lubanga.',\n",
              " 'medo i kom meno, luicrael merael gubedo lucaden ni jehovah aye lubanga me ada dok cobo cikkene.',\n",
              " 'pingo mitte ni walok tamwa?',\n",
              " 'man biweko bedo yot botgi me  nongo tira ki tam.   ep.',\n",
              " 'tika watwero nyikke cok bote?',\n",
              " 'ento kit ma laco - ni tye ka kato woko, nam ma pe nen woko.',\n",
              " 'ento pingo lubanga tye ka medde ki miyo jami magi bot dano ducu, kadi bed ni gubedo ka tamo pire nyo pe?',\n",
              " 'cik pa lubanga wacci kabaka pe myero  mon mapol, wek cwinye pe otur woko. ',\n",
              " 'i mwaka alip acel ma lubanga ocikke me cuko cwiny ni :  aketo polo manyen ki lobo manyen ; jami macon pe bibedo i cwinygi. ',\n",
              " 'dea : aa ki bot jo me ot mo ma onongo gitye ki cwiny me ada.',\n",
              " 'en otiyo ki tute matek me bedo ki neno i kom dako mukene.',\n",
              " 'yecu omyero wiye opo ni  wang rwot [ jehovah ] neno lobo ducu, me nyuto tekke bot jo ma cwinygi ducu.  ( mat.',\n",
              " 'acel i kingi gitye ka tic macalo painia. ',\n",
              " 'i wi lobo ducu, i twok lobo ducu, co ma dako ma dako laco tye iye.',\n",
              " 'pingo watwero wacone ni jehovah jami ducu?',\n",
              " 'man pud dong pud dong atye ki apoka madit atika ma onongo atye kwede i ot me ker!',\n",
              " 'dano acel acel acel myero maro dakone macalo en keken ; en bene myero omi deyo i kom cware.   jo epeco 5 : 33.',\n",
              " '( acak. 3 : 1, 2 ) kadi bed ni jehovah oyero daudi me bedo kabaka merael ma lubo.',\n",
              " 'owaco ni,  amiyo pwoc pi dakika adek.',\n",
              " 'onongo tye kwo manyen.',\n",
              " '* jehovah onyuto nining ni obedo  kal  pi luticne ma lugen i kare macon?',\n",
              " 'i kare ma yecu openyo cik ma pire tek loyo i cik man, en owaco ni :  mar rwot [ jehovah ] ki cwinyi ducu, ki kwoni ducu, ki tamwu ducu. ',\n",
              " 'lok pa lubanga waco ni :  ngat ma miyo bal tye ka yenyo mar i kom dano, dok en tye ka lok i kom jo ma gingeyo ngat acel keken. ',\n",
              " 'bed ki cwiny me kica, pwoc madit pi lokke, ki dok i yo me kica.',\n",
              " 'yakobo onongo tye lakwat - ni. ',\n",
              " 'man twere pi mot pa jehovah kacel ki loc pa kric.',\n",
              " 'ki lok ada, bedo lagen bot jehovah myero obed mukwongo.',\n",
              " 'ka itimo meno, ci ibineno jo mogo ma gitwero nongo adwogi maber ki i marri.',\n",
              " 'mugati cam, cam mabeco.',\n",
              " 'nen  ngat ma tye i ginacoya,  ngec i kom ginacoya,  pot karatac 1, pot karatac 1, pot karatac, ma lucaden pa jehovah aye gucoyo.',\n",
              " 'ma ka nyuto alokaloka ma pire tek i kare me agikki, gin guye ni :  nio wa i kare ma kwarowa oto, jami ducu pud tye ka medde i lobo. ',\n",
              " 'kadi bed jehovah aye ngat ma pire tek loyo, ngo ma en tye ka lwongo bot jo mukene?',\n",
              " 'laneno mo odok i lok maraco nining, dok pwony ango ma wanongo ki i lanenne?',\n",
              " 'laco jabuli owaco ni :  jo ma kitgi atir gibinongo lobo, dok gibibedo iye pi naka.   jabuli 37 : 29.',\n",
              " 'en kacel ki jo me ode gitwero mokone ni cing jehovah pe nok.',\n",
              " 'mar madit loyo ma yecu onongo tye kwede i lobo me can ci oto piwa.',\n",
              " 'dok omedde ni :  odi bene tye ki jami matino mapol kadi bed ni jo myero guyuub dini pa lubanga.  ( mat.',\n",
              " 'jo me otwa kare ki kare g i cokkewa kacel ki ot me tito bot jo mukene gen ma baibul tye kwede pi anyim.',\n",
              " 'paulo olego lureme ni :  in bene twero konyowa me lega piwa. ',\n",
              " 'ki lok ada, omyero watim kit ma daudi kacel ki daniel gutimo kwede.',\n",
              " 'kwo pa jo mukene',\n",
              " 'pi tyen lok man, lubanga otinge malo bote, dok omiye nying madit makato nying lubanga ducu, wek jo ducu ma i polo ki i lobo ducu gitye i te lobo, ki dong i te loc pa lubanga.  lubanga  yec.',\n",
              " 'pingo watwero bedo labongo akalakala ni yecu ngeyo jami ducu ma tye i lobo?',\n",
              " 'kadi bed kumeno, pe opore me cobo peko nyo timo jami mabeco ma peya watye i cokke me ker nyo i gurewa me otyeno.',\n",
              " 'ginanyuta pa jekaria myero ogudowa nining?',\n",
              " 'laneno mo me adwol oniang ni etye ki cwinye cwer ci okato woko.',\n",
              " 'en aye lamone  ento pe jehovah!  1 pet.',\n",
              " 'i kare ma paulo tye ka tic ki lanen me kom dano, en oketo cwinye i te note i kin jo me kacokke, yecu kric.',\n",
              " '10 luye ma cwinygi atir kacel ki ngat mo keken  kit ma myero obed kwede.',\n",
              " '( a ) pingo pire tek ni myero waleg pi ker pa lubanga?',\n",
              " 'ka wamedde ki tito kwena, jo mukene pe gitwero bedo ki yomcwiny me pwonyo gin ma wapwonyo ki i baibul ento bene me bedo ki tekcwiny niyewa i kom ticwa me pwony.',\n",
              " 'wat ma tye ki kuc, kuc, ki dong mot ma lubanga bino pi jo ma gitye ka timo kica.  rom.',\n",
              " 'lubo lanen pa yecu, omyero wakwan baibul nino ducu, wakwano baibul, dok walwodo lok i kom gin ma wapwonyo.',\n",
              " 'jehovah tamo i kom kit ma myero inyomme kwede.',\n",
              " 'tika itamo nino ducu onongo gitye ka nongo jami mogo manok, tutwalle jo ma onongo pe gitye ka tic pi jehovah?',\n",
              " 'i ngeye, en otito ni calo ngat acel acel acel tye ki tic mapat pat i kacokke.  jo roma 12 : 3 - 5.',\n",
              " 'timo jami ducu ma itwero me cobo woro me ada.',\n",
              " 'i nge kare manok keken, lanebi camuel, ma onongo ko daudi me bedo kabaka me anyim.',\n",
              " 'ento, gin ma en onongo myero obed ki gen me nongo gin ma jehovah ocikke ni :  abila woko ki kwowu. ',\n",
              " 'lujudaya ducu guyere bot lubanga, ento jehovah okwero lujudaya pien pe guwinyo lokke.',\n",
              " 'kwowa i yo mukato angec.',\n",
              " 'lubanga jehovah, ngat ma tekone tek loyo i polo ki lobo?',\n",
              " 'pwony ma lubo man binyamo tira ma yecu omiyo bot lulub kore madok i kom kit me kwo.',\n",
              " 'jami magi mabeco ma bitimme i anyim - ni, ngo ma wan ducu myero watim i kare - ni?',\n",
              " 'pingo en penywa man?',\n",
              " 'i nge kwano ginacoya, en oye ni pe obedo twero me cwalo baibul.',\n",
              " 'giwinyo nining i kom tic pi jehovah pi mwaki magi ducu?',\n",
              " '( 2 temceo 3 : 3, 4 ) yocan gin ki wode kejekia gunyomme ki mon ma lujudaya, ki lujudaya mapol gubedo ka lok i kom abraim.',\n",
              " 'me aryo, pe tye ngat mo ma myero obed ki par mukato kare, kun tamo ni en pe biminiwa i atematema.  1 jo korint 10 : 12.',\n",
              " 'ma peya ngat moni twero dongo niyewa, en myero oniang ni en tye latim bal.',\n",
              " 'ki lok ada, imito ni pebbe ki  ngat ma twero wek oa ki bot lubanga.',\n",
              " 'ada, awaka twero balo nyom.',\n",
              " 'cakke i nge kare meno, omege ma kogi onongo gitwero doko but lukiko madit labongo lok me dini.',\n",
              " 'wek pe wabed ki par i kom jami me kom, lubo tira ma yecu owaco ni :  pe wubed ki par mapol, dok pe wuwaco ni,  cam ango? ',\n",
              " 'ento gin ango ma onongo twero timme ka lakricitayo lawo gumiyo tira pi bedo macalo lubo cik pa lubanga?',\n",
              " 'tic mogo macalo meno, tic macalo tic i kabedo meno, ka limo, cente, nyo tero cente, mitte ni myero wabed ki woro me woro.',\n",
              " '15 pingo mic bot ngat ma tye ki jami ducu?',\n",
              " 'i nge gonyo kwona, abedo ki ur madit adada.',\n",
              " 'tye labongo akalakala mo keken ma onongo gitye ka tamo kit ma meno bitimme kwede.',\n",
              " 'en onongo tye ka tic pi lubanga pi mwaki mapol.',\n",
              " 'yub man ma onongo bikelo adwogi maber pi dano ma ka keto cwinygi i lobo - ni.',\n",
              " 'ka pebo cikke maleng, ci wabibedo jo maleng.',\n",
              " 'kadi bed kumeno, mic ma dano gitye kwede aye, man kelo yomcwiny i kom mic ma mitte.',\n",
              " 'ka lurem nyo jo me odiwa gitye ka lok ki pargi, mar cuko cwinywa ( 2 ) me lwodo lok i komgi, ( 2 ) cwinygi, nyo ( 2 ) kit ma giwinyo kwede ; ki dong ( 3 ) wek gunge ni waparo pigi.',\n",
              " 'kacel ki utmegiwa?',\n",
              " 'ma lubbe ki juda 24, gin ango ma nyuto ni yomcwiny tye i polo ka ngat acel ma ko  nyuto gennene?',\n",
              " 'yecu pe owaco bot lupwonnyene ni emarogi.',\n",
              " 'jehovah owaco bot aron ki awobene ma lugen ni :  pe myero iwek wiwu woko woko, ci pe wuwinyo woko i komi, wek pe wato woko woko, wek pe wun [ jehovah ] [ jehovah, pe wubt [ jehovah ].  ( mat.',\n",
              " 'laco mo acel owacci :  pe tye gin mo ma twero wekowu kekeni woko labongo miyo mot mo keken. ',\n",
              " 'tika itye ka konyo lutinoni me dongo batija?',\n",
              " 'twon can madit atika - ni bitimme i kom can madit atika - ni.',\n",
              " 'baibul tito gin ma pire tek - ki, kun waco ni :  latinna, ka ibinongo lok me ryeko, ci ibinongo cikma, kun wuket cwinywu i kom cwinyi, ci wupwonywu, wek wuket tammini ryenywu, dok wuket cwinywu i komwu kekenwu.',\n",
              " 'lok pa jehovah konyowa me niang kit ma en neno kwede bal ki kit ma en odok kwede ka odok kwede i balwa.',\n",
              " '( b ) agikki ango ma jo ma gitye calo anyira maraco - ni?',\n",
              " 'wi myero opo ni cwiny pa jehovah twero dongo ngecni ki kero ma itye kwede dok konyi me cobo tic mo keken ma jehovah mini.',\n",
              " 'man bitim tango ma bitimme!  niyabo 21 : 4, 5.',\n",
              " 'pot karatac 5 / 1',\n",
              " 'en wiye po i kom gin ma en oneno i poto dok omedde ki tic matek me dongo i yo maber.',\n",
              " 'jo mapol onongo gitye ka medde ki nongo pwony i rwom me calo yubu  gin ma onongo gitye ka tic ma gimito.',\n",
              " 'omege magi guwacce ni pe gubino.',\n",
              " 'yecu mito ni lukricitayo myero guno romi i yo acel - li.',\n",
              " 'kadi bed kumeno, jehovah mito ni jone pe guwaco lok goba.',\n",
              " 'temceo onongo mito ni omege magi gumedde ki bedo cok ki jehovah, dok en onongo tye atera me konyogi.',\n",
              " 'yakobo 4 : 8 cuko cwinywa ni  nyikke cok bot lubanga. ',\n",
              " 'lunyodona onongo gitye ki pwony dok onongo gimito ni gutit lutinogi i kabedo mabeco.',\n",
              " 'jon 5 : 22, 23 waco ni jehovah oketo cal me ngolo kop i kom dano ducu.',\n",
              " 'larac - ci bene tye ka medde ki tute matek me jwayo watwa ki jehovah.',\n",
              " 'yecu pe bijwayo cam mukene, ento en bibedo ki kero me tito bot lulub kore ma lugen i dyewor man.',\n",
              " 'pingo  paradic me cwiny  ki  ot me cwiny  pe rom?',\n",
              " 'i kare mukato angec, yecu owaco bot lukwenane ni :  ka atye ka wubino, ci abino i gangwu, ci ka ma an atye iye.   jon 14 : 3.',\n",
              " 'jehovah pe biweko ngat moni timo bal labongo bal, kadi bed ngat muteggi dok omini.',\n",
              " '( 1 pet. 3 : 9, 11 ) lajudaya mo ma tye i lobo cdia, ma obedo ka tic pi mwaki 38.',\n",
              " 'i kare - ni, i lobbe mapol, lutino kwan tye ka tyen ki mwaka mogo.',\n",
              " 'ngenee ni, alokaloka ma mitte kit kwo pa dano aryo ki dong o manyen.',\n",
              " 'myeroti me gicikke pa jehovah ma a ki i lobowa, wek kiwa woko ki i kom lukricitayo. ',\n",
              " 'cwara obino ci owacce ni,  cwara woko.',\n",
              " 'ki bene oyotoyot, en pe ngeyo ni en tye ka tic ki ryeko ma  kelo kwone ducu.  ( mat.',\n",
              " 'gin onongo gingeyo ni timme i kom lwak ma onongo tye ka kato ngec me baibul.',\n",
              " 'i mwaka 2018, wabinyamo lok i kom ada man nino ducu ma pire tek - ki ma watye kwede i cokke me ker - ri dok wabineno gin ma tye i ginacoya ma wacci :  jo ma gigeno jehovah gibibino.  aya 40 : 31.',\n",
              " 'tika watwero bedo ki cwiny me apokapoka, kadi bed watye ki cwiny me apokapokapoka?',\n",
              " 'ento i kare meno, jehovah pe owaco bot moses.',\n",
              " 'ka tye kumeno, ci myero ibed ki kuc ki dano ducu.',\n",
              " 'kwena maber... en aye teko pa lubanga.   rom.',\n",
              " 'bedo ki ur ma kit meno aye gin ma pire tek.',\n",
              " 'jami maraco man ocakke pien catan, adam, ki kawa gucako lweny i kom jehovah.',\n",
              " 'i mwakaland, i kare ma atye ki mwaka 11, onongo atye ki batija i poto mo i poto.',\n",
              " 'lacen, en kacel ki dakone onongo kwano baibul ki lucaden pa jehovah, gujolo lok me ada, dok gubedo lutic pi lubanga.',\n",
              " 'jehovah binyuto kicane i lobo manyen nining?',\n",
              " 'kadi bed ni i kine mukene watye ka gamo lega pi kony nyo cwinywa, pe myeko cwinywa.',\n",
              " 'wapwonyo gin mumiyo ryeko obedo me geno jehovah ki dok me lubo tirane.',\n",
              " 'medo i kom meno, jehovah nyuto ni en lagen ki cikkene ducu.',\n",
              " 'yecu onongo tye ka cwer cwiny jo mukene, kadi wa jo ma gitye ki peko ma en onongo peya owinyo.',\n",
              " 'jami macon dong dong okato.   niyabo 21 : 3 - 5.',\n",
              " 'wacuko cwinyi me weko ngec ma pire tek loyo  lucaden pa jehovah ma gitye ka goyo magajin man.',\n",
              " 'medo i kom meno, en tiyo macalo lalamdog madit pa dano wek okony jo ma ongut ki lubanga.  kwan joru 7 : 21, 25, 26.',\n",
              " 'ngat acel owaco ni :  kadi bed ni man pud dong obedo mot madit me tic pi jehovah, kare ki kare ki kare, ento kadi bed cwiny maleng, utmege magi gitye ki roc.',\n",
              " 'lutic mogo pa jehovah giromo nongo jami ma mitte pigi tek adada.',\n",
              " 'ka ce watye ki cwiny me kica ki bot jehovah dok wanongo mot macalo ngat acel acel acel, omyero wacwako dul pa jehovah dok bene waye alokaloka i kom ginacoya.',\n",
              " 'pi meno, kwowa keken twero bedo ki tyen lok ada.',\n",
              " 'watye ki gen ni  lubanga ma kweyo cwiny dano ducu  pi teko.',\n",
              " 'lok paaya madok i kom yecu kric ocuko cwinywa dok miniwa gen.',\n",
              " 'wubed ka lubo cwiny maleng.   rom.',\n",
              " 'gin ango ma baibul pwo me nyuto woro bot jo muteggi?',\n",
              " 'pingo wajolo tic meno, dok jehovah ogoyo laane nining?',\n",
              " '( b ) ngo ma jo munyomme gitwero timone ka giyero me pokke pi kare malac?',\n",
              " 'tika ngeyo ni lubanga tye ka winyo cwinywa me lweny ki peko?',\n",
              " 'baibul me lebru waco ni  cwiny dano macon  gubedo ka  tic matek,  nyo . ',\n",
              " 'lega twega twero konyo ngat ma tye ki tam marac nining?',\n",
              " 'kica kacel ki kit ma watito kwede i ticwa me pwony konyowa nining?',\n",
              " 'kit macalo baibul pe waco kwede ni jo mukene gitye ki kwo ma pe tum, pingo dini mapol pwonyo gin mo keken?',\n",
              " 'i kare mo keken ma kiminiwa, utmege mogo gitye ka unogi.',\n",
              " 'tit kong gin mumiyo onongo bedo tek pi moses me cobo ticce.',\n",
              " 'oromo bedo ni jo mukene gitye ki cwiny me apokapoka, cwiny me apokapoka, nyo wel.',\n",
              " 'i yo acel - lu, i kare ma itye ka tic ki nyig baibul nining?',\n",
              " 'ka watye ka kwanone, lega, ki dong keto cwinywa i kom jami ma wapwonyo, cwinywa bimedde ameda.',\n",
              " '• pingo watye ka lobo?',\n",
              " 'tika catan - ni bene tye ki yub acel - li? ',\n",
              " 'itwero bedo cok bot lubanga ka itye ki gen i kome, ka itye ki niye i kome.',\n",
              " '3 : 1 - 10, 12, 13 ; 1 pet.',\n",
              " 'en ocoyo lok ma kicoyo i ejekiel 8 : 1 - 19 ni :  i mwaka abic  i nge mwaka abic, meno tye i mwaka 612 k.',\n",
              " 'i nge mwaka acel ma ocakke, nua kacel ki jo me ode guc i yeya ma opongo lobo maleng.',\n",
              " 'tito kwena maber me ker - ri obedo tic ma pire tek loyo pa yecu.',\n",
              " 'ento cabit aryo i nge nyomgi, cware owaco ni myero oc i cokke pa lukricitayo.',\n",
              " 'onongo atye ki mwaka 12.',\n",
              " 'ento cwa okonya me moko tam ma atye kwede, kun wacci :  pe angeyo gin ma jo ma giwaco.',\n",
              " 'ki i polo, jehovah oketo genne ducu i kom wode, kadi bed ni yecu onongo pe mito cikkene me ada.  luka 3 : 21, 22.',\n",
              " 'en onongo pe tamo i kom jehovah i kare ma ecako dako pa abraim otemme me timo gin marac.',\n",
              " 'mukwongo, ka watimo gin mo keken, ci ci wabinyuto woro pi jehovah, lubangawa, ki dong laloc.',\n",
              " 'lakwena mo ma tye ki mwaka 2,000 kulu, ma tye ki mwaka macon.',\n",
              " 'omyero wabed atera ka watye ka yubo cwinywa dok wacung matek, wek wanong mot madit ma jehovah tye ka nongo piwa!',\n",
              " 'i lwongo pa lubanga, abraim gin ki cara gumiyo kwo me boma macon i lobo amerika ci gujolo tek pa jo ma gitye ka kwo i lobo mukene.',\n",
              " 'wacako kabedo i wi got ma kiloko iye, ka ma lunyodona gukwo iye.',\n",
              " 'pingo pe watwero niang tic meno ma pire tek ka wakwano pwony ma wiye tye ni  wan ducu watwero timo gin maber loyo! ',\n",
              " '86 : 5 ; jon 5 : 19.',\n",
              " '* i tyen lok man, nen calo nen calo nen ka maleng ni i lapor me c, yecu onongo pe tye ka waccci utmege ma kogi i kare me agikki me agikki - ni gibibedo jo maraco.',\n",
              " 'cokcok - ki, waniang ni i kare ma wadok i kabedo mukene, pire tek adada me woko ki i kabedowa me tito kwena i kabedo mapatpat.',\n",
              " 'mar man miniwa yomcwiny kacel ki kwowa.',\n",
              " 'gin onongo ginyuto ni gi jehovah keken ento pe gwoko cam ma pe tye atir, ento bene pe gukwero woko woko.',\n",
              " 'ci owaco ni,..............',\n",
              " 'ento, kadi bed ni gitye ka timo gin ango, pe gitwero konyogi me po i kom gen ma gitye kwede i anyim.  1 kor.',\n",
              " 'niyewa i kom lok pa lubanga kacel ki ngat ma kogi - ni bicuko cwinywa me medde ki ngine i kom lok pa lunebi pa jehovah.',\n",
              " 'yecu ocako tam pa lulub kore wek guniang pwony madok i kom won.',\n",
              " 'nyo ka en tye ngat ma cwinye yot kato gin mo keken?',\n",
              " 'lakwena paulo owacciwa ni :  rwot man aye bibedo lengo ducu  pien yecu kric owaco pi kare malac. ',\n",
              " '( latitlok 2 : 3 ) lapeny me gamente ) pe cuko cwinywa me keto genwa i kom dano!  jabuli 146 : 3.',\n",
              " 'lukricitayo mapol ma gitye lukricitayo ma guteggi gunongo ni tic me konyo jo mukene okelo kwe cwiny madit.  2 jo korint 1 : 3, 4.',\n",
              " 'kwana ki bota, lubanga, dok angeyo cwinya. ',\n",
              " 'lubanga  bijwayo jo ma gibijwayo lobo.   niyabo 11 : 18.',\n",
              " 'i ngeye, paulo gamo lapenye kekene kekene ni :  pwoc pi lubanga yecu kric!   jo roma 7 : 14, 24, 25.',\n",
              " 'jo pa jehovah bene gubedo ka miyo kony bot jo ma telo ticce.',\n",
              " 'tika onongo gingeyo pingo myero pe gupoko i kom ci?',\n",
              " 'akab, ma waloko i kome malo - ni, omoko tam i kom baibul.',\n",
              " 'pi mwaki alip acel, lobogi gitye ka konyo jo ma gitye i lobo, kun konyogi me lweny ki roc ma pe gitwero loyone.  yabo 20 : 6.',\n",
              " 'en onongo mito ni guket cwinygi i kom gin ma en otimo ki gin ma en opwonyo.',\n",
              " 'me labolle, wan ducu myero wabed ma wangwa twolo.',\n",
              " 'nen ka maleng ni :  bibino pa ngat mo ma tye ki tic pa catan - ni ducu, ma tye i yo mapatpatpat, ki tim maraco ducu ma tye i lobo - ni.   2 jo korint 9 : 9, 10.',\n",
              " 'kadi bed ni en onongo tye ka kwano lok i kom cente, kicoyo ni etye ki gen ni en onongo mito tito kwena maber adada.',\n",
              " 'i kare ma kawa onongo tye ka tamo piree, en onongo tye ki jami aryo : en onongo twero kwero tam meno, nyo en twero medde ki bedo mupore, weko mitine me dongo.',\n",
              " 'twero bedo ni jo mogo guniang maber adada lok pa lanebi madok i kom  tyen abiro. ',\n",
              " 'dok ka itye ki ur madit adada i kom kit ma kiryemo kwede ki i kacokke ki i kacokke, tit bot jehovah ki cwinyi ducu i lega.',\n",
              " 'lubanga ocwalo lamalaika me cuko cwiny ejipt.',\n",
              " '( kwan joru 13 : 17. )',\n",
              " 'ka waye tira nyo tira bot jo mukene, ci pe te lokke ni watye ki mar.',\n",
              " 'miti pa lubanga aye ni  dano ducu myero gubed ki ngec mucwiny i kom lok me ada. ',\n",
              " 'jehovah pe ki lok goba, dok en pe bicobone.',\n",
              " 'macalo wi kacokke, kric otiyo ki gurup matino magi me yubbe me c kacokke woko ki dok me tic me tito kwena maber me ker - ri.  tic pa lukwena 15 : 29 - 29 ; 21 : 19.',\n",
              " 'wubed ki mwolo kacel ki lubangani.   jer 6 : 8.',\n",
              " 'yakobo gin ki jon onongo pe guniang pwony man ma pire tek adada.',\n",
              " 'anongo ni in luremwu ',\n",
              " 'lok pa lubanga waco ni,  wuwinyo lok pa woda, pwonyo lok pa lubanga,  pe iweko cik pa minwu. ',\n",
              " 'i ngeye, catan oa ki i lobbene ci okwanyo i opii pa jorael.',\n",
              " 'adwogi macalo adwogine tye me yomcwiny adada i magajin acel pa lucaden pa jehovah ki mwaka.',\n",
              " 'gin peya gupwonyo cwiny me bedo ki lworo i kom niyegi.',\n",
              " '( kwan tic pa lukwena 20 : 18 - 21. )',\n",
              " '( nen paragraf 12 ) car onongo dong tye ki yomcwiny me tic pi jehovah ki i mwakane me mwaka apar ki wiye ( nen paragraf 12 )',\n",
              " 'ki lok ada, watye ka kwo.',\n",
              " 'pien en owaco ni :  lok me ada pe loko lok ada. ',\n",
              " 'i nge tic pi mwaki aryo, apenyo laneno me adwol mukene madok i kom tic macalo painia.',\n",
              " 'ka imedde ki timo meno, ci dano gibibedo ki pwoc dok ibibedo ki yomcwiny.',\n",
              " 'tam ango ma jo matino kacel ki macon gitye kwede macalo gin ma bitimme i anyim?',\n",
              " 'i kine mukene, niang lok pa lunebi me baibul nyo ginacoya twero loko kwowa.',\n",
              " '* i pwony mukato - ni, waneno kit ma waromo lubo kwede lanen pa yecu i bedo jo ma mwol dok ma mwolo.',\n",
              " 'pe, nongo batija pe pi bal ; ma ka meno, nyuto ni ngat moni otyeko dyere bot lubanga jehovah jehovah.',\n",
              " 'alokaloka man kelo  gin ma tye piree,  ka kare ki kare.',\n",
              " 'me labolle, nen kong, anga ma laco tye ka bwola.',\n",
              " 'ka luelda gineno ni kit mogo pe tye ka dongo i yo me cwiny, ci gitute me konyogi me niang kit me mwolo.',\n",
              " 'pi meno, lamego - ni openye pingo.',\n",
              " 'watwero bene tito jami mutimme i kom gin ma wakwano i bukkewa.',\n",
              " 'gitye ka kwano baibul kacel ki jo ma gimaro lok me ada ki cwinygi ducu.',\n",
              " 'kanu oyotoyot adada, gin guket cwinygi i atematema.',\n",
              " 'ento cwiny jehovah obedo yom i kare ma oneno ni yecu tye atera me tic pire keken.',\n",
              " 'jo mungak  guloko  tam maraco. ',\n",
              " 'awene ma yecu onongo bicako loc macalo kabaka me ker pa lubanga?',\n",
              " 'lakwena paulo gamo lagamme i waragane bot jo pilipi ni :  lubanga aye lubanga ma tiyo tic me yomcwiny maleng, miyo cwinywu ducu ki miti, ki teko me timo jami ducu. ',\n",
              " 'ma ka meno, en owaco me kica ni :  nyare, niyeni, wubed ki kuc, ci wubed ki twoni malit. ',\n",
              " 'luot magi onongo gitye ki peko mapol dok onongo gitye ki banya ; ento gin gumoko tamgi me kwanyo cente.',\n",
              " 'ci en oneno vidio meno.',\n",
              " 'pud dong tye lanen maber ya me cobo yub pa jehovah!',\n",
              " '( kwan 1 luker 19 : 5 - 8. )',\n",
              " 'dyere te lokke ngo?',\n",
              " 'jo epeco 4 : 25 - 29 nyuto kit ma myero wagke kwede.',\n",
              " ...]"
            ]
          },
          "metadata": {
            "tags": []
          },
          "execution_count": 76
        }
      ]
    },
    {
      "cell_type": "code",
      "metadata": {
        "id": "xzyJCeGjE7Q_"
      },
      "source": [
        "ref=test.iloc[:pred_len, 1].values.tolist()"
      ],
      "execution_count": null,
      "outputs": []
    },
    {
      "cell_type": "code",
      "metadata": {
        "id": "JCQr42TKKLNu"
      },
      "source": [
        "reference_preds=pd.DataFrame({\"Predictions\": test_predictions, \"Reference\":ref})"
      ],
      "execution_count": null,
      "outputs": []
    },
    {
      "cell_type": "code",
      "metadata": {
        "id": "jXpVDKX5LZMs",
        "colab": {
          "base_uri": "https://localhost:8080/",
          "height": 644
        },
        "outputId": "720e7921-a4a8-4089-ea78-8059f6e47831"
      },
      "source": [
        "reference_preds.head(20)"
      ],
      "execution_count": null,
      "outputs": [
        {
          "output_type": "execute_result",
          "data": {
            "text/html": [
              "<div>\n",
              "<style scoped>\n",
              "    .dataframe tbody tr th:only-of-type {\n",
              "        vertical-align: middle;\n",
              "    }\n",
              "\n",
              "    .dataframe tbody tr th {\n",
              "        vertical-align: top;\n",
              "    }\n",
              "\n",
              "    .dataframe thead th {\n",
              "        text-align: right;\n",
              "    }\n",
              "</style>\n",
              "<table border=\"1\" class=\"dataframe\">\n",
              "  <thead>\n",
              "    <tr style=\"text-align: right;\">\n",
              "      <th></th>\n",
              "      <th>Predictions</th>\n",
              "      <th>Reference</th>\n",
              "    </tr>\n",
              "  </thead>\n",
              "  <tbody>\n",
              "    <tr>\n",
              "      <th>0</th>\n",
              "      <td>en owaco ni :  ka ce jehovah pe mara, ci tiran...</td>\n",
              "      <td>en owaco ni : “ ka ni jehovah onongo pe mara ,...</td>\n",
              "    </tr>\n",
              "    <tr>\n",
              "      <th>1</th>\n",
              "      <td>1, 2. ( a ) kuc ango ma watye kwede i kare - ni?</td>\n",
              "      <td>1 , 2 . ( a ) watwero bedo ki kuc i kare - ni ...</td>\n",
              "    </tr>\n",
              "    <tr>\n",
              "      <th>2</th>\n",
              "      <td>i kare - ni bene, omyero wange ni mic pa kric,...</td>\n",
              "      <td>i kare - ni bene , omyero wange ni wamito gink...</td>\n",
              "    </tr>\n",
              "    <tr>\n",
              "      <th>3</th>\n",
              "      <td>mar ma gitye kwede pi jehovah kacel ki niye ma...</td>\n",
              "      <td>margi i kom jehovah ki niyegi matek i kom cikk...</td>\n",
              "    </tr>\n",
              "    <tr>\n",
              "      <th>4</th>\n",
              "      <td>i yo ango ma luelda gitye ka miyo yomcwiny bot...</td>\n",
              "      <td>i yo ango ma luelda gimedo yomcwiny pa luye lu...</td>\n",
              "    </tr>\n",
              "    <tr>\n",
              "      <th>5</th>\n",
              "      <td>dano pe  pe ye gin ma cwiny pa lubanga cwiny m...</td>\n",
              "      <td>dano ma pe ki cwiny pa lubanga nyo ma pe lubo ...</td>\n",
              "    </tr>\n",
              "    <tr>\n",
              "      <th>6</th>\n",
              "      <td>mitte ni wabed ki miti me ngeyo yubbe kacel ki...</td>\n",
              "      <td>ento wamito mere niang pulanne kacel ki yubbe . ”</td>\n",
              "    </tr>\n",
              "    <tr>\n",
              "      <th>7</th>\n",
              "      <td>ento i nge kare mo, en okwanyo yo acel keken i...</td>\n",
              "      <td>ento lacen , en ocako lubo motmot yo marac .</td>\n",
              "    </tr>\n",
              "    <tr>\n",
              "      <th>8</th>\n",
              "      <td>jo me lobo - ni gitye ka tito kwena i yo me cw...</td>\n",
              "      <td>lobo - ni cuko cwiny dano me kwan i rwom mamalo .</td>\n",
              "    </tr>\n",
              "    <tr>\n",
              "      <th>9</th>\n",
              "      <td>tekcwiny i kine mukene nyuto gin ma pe wawaco.</td>\n",
              "      <td>i kine mukene tekcwinywa nen i tic ma watimo e...</td>\n",
              "    </tr>\n",
              "    <tr>\n",
              "      <th>10</th>\n",
              "      <td>go kong lok man : myero ibed ka wot i kabedo mo.</td>\n",
              "      <td>go kong ni : mitte ni omyero icit ka mo .</td>\n",
              "    </tr>\n",
              "    <tr>\n",
              "      <th>11</th>\n",
              "      <td>i kare ma en tye ka wot ma kiloko i cok, en oc...</td>\n",
              "      <td>en owoto pi mairo 95 ( kilo mita 150 ) me o i ...</td>\n",
              "    </tr>\n",
              "    <tr>\n",
              "      <th>12</th>\n",
              "      <td>lakwena paulo ocoyo ni :  kit pa lubanga nen k...</td>\n",
              "      <td>lakwena paulo ocoyo ni : “ kit pa lubanga ma o...</td>\n",
              "    </tr>\n",
              "    <tr>\n",
              "      <th>13</th>\n",
              "      <td>ka itye ka tito kwena i wi lwak, tika dong ine...</td>\n",
              "      <td>ka itye ka tito kwena i dye lwak kun itiyo ki ...</td>\n",
              "    </tr>\n",
              "    <tr>\n",
              "      <th>14</th>\n",
              "      <td>gumedde ki pwonyo lukwena, me bedo kacel kacel.</td>\n",
              "      <td>“ gin gumine kengi ka winyo pwony pa lukwena ,...</td>\n",
              "    </tr>\n",
              "    <tr>\n",
              "      <th>15</th>\n",
              "      <td>pwony ango ma bikelo adwogi maber bot lutic pa...</td>\n",
              "      <td>pwonye mene ma bikelo adwogi maber loyo bot la...</td>\n",
              "    </tr>\n",
              "    <tr>\n",
              "      <th>16</th>\n",
              "      <td>medo i kom meno, gin ma kric onongo  oto pi ba...</td>\n",
              "      <td>ki dok bene lok man ni kricito ‘ yam oto pi ba...</td>\n",
              "    </tr>\n",
              "    <tr>\n",
              "      <th>17</th>\n",
              "      <td>i dyewor me agikki me kwone i lobo, yecu okwan...</td>\n",
              "      <td>( jab . 118 : 6 ) i dyewor me agikki ma yecu o...</td>\n",
              "    </tr>\n",
              "    <tr>\n",
              "      <th>18</th>\n",
              "      <td>3 pingo dano gitye ki miti i kom tango?</td>\n",
              "      <td>3 tango tika tye ada ? ​ — tyen lok adek mumiy...</td>\n",
              "    </tr>\n",
              "    <tr>\n",
              "      <th>19</th>\n",
              "      <td>kadi bed kumeno, onongo awaco kica pien onongo...</td>\n",
              "      <td>ento en otimma kica , pien ceng atimo meno ki ...</td>\n",
              "    </tr>\n",
              "  </tbody>\n",
              "</table>\n",
              "</div>"
            ],
            "text/plain": [
              "                                          Predictions                                          Reference\n",
              "0   en owaco ni :  ka ce jehovah pe mara, ci tiran...  en owaco ni : “ ka ni jehovah onongo pe mara ,...\n",
              "1    1, 2. ( a ) kuc ango ma watye kwede i kare - ni?  1 , 2 . ( a ) watwero bedo ki kuc i kare - ni ...\n",
              "2   i kare - ni bene, omyero wange ni mic pa kric,...  i kare - ni bene , omyero wange ni wamito gink...\n",
              "3   mar ma gitye kwede pi jehovah kacel ki niye ma...  margi i kom jehovah ki niyegi matek i kom cikk...\n",
              "4   i yo ango ma luelda gitye ka miyo yomcwiny bot...  i yo ango ma luelda gimedo yomcwiny pa luye lu...\n",
              "5   dano pe  pe ye gin ma cwiny pa lubanga cwiny m...  dano ma pe ki cwiny pa lubanga nyo ma pe lubo ...\n",
              "6   mitte ni wabed ki miti me ngeyo yubbe kacel ki...  ento wamito mere niang pulanne kacel ki yubbe . ”\n",
              "7   ento i nge kare mo, en okwanyo yo acel keken i...       ento lacen , en ocako lubo motmot yo marac .\n",
              "8   jo me lobo - ni gitye ka tito kwena i yo me cw...  lobo - ni cuko cwiny dano me kwan i rwom mamalo .\n",
              "9      tekcwiny i kine mukene nyuto gin ma pe wawaco.  i kine mukene tekcwinywa nen i tic ma watimo e...\n",
              "10   go kong lok man : myero ibed ka wot i kabedo mo.          go kong ni : mitte ni omyero icit ka mo .\n",
              "11  i kare ma en tye ka wot ma kiloko i cok, en oc...  en owoto pi mairo 95 ( kilo mita 150 ) me o i ...\n",
              "12  lakwena paulo ocoyo ni :  kit pa lubanga nen k...  lakwena paulo ocoyo ni : “ kit pa lubanga ma o...\n",
              "13  ka itye ka tito kwena i wi lwak, tika dong ine...  ka itye ka tito kwena i dye lwak kun itiyo ki ...\n",
              "14   gumedde ki pwonyo lukwena, me bedo kacel kacel.   “ gin gumine kengi ka winyo pwony pa lukwena ,...\n",
              "15  pwony ango ma bikelo adwogi maber bot lutic pa...  pwonye mene ma bikelo adwogi maber loyo bot la...\n",
              "16  medo i kom meno, gin ma kric onongo  oto pi ba...  ki dok bene lok man ni kricito ‘ yam oto pi ba...\n",
              "17  i dyewor me agikki me kwone i lobo, yecu okwan...  ( jab . 118 : 6 ) i dyewor me agikki ma yecu o...\n",
              "18            3 pingo dano gitye ki miti i kom tango?  3 tango tika tye ada ? ​ — tyen lok adek mumiy...\n",
              "19  kadi bed kumeno, onongo awaco kica pien onongo...  ento en otimma kica , pien ceng atimo meno ki ..."
            ]
          },
          "metadata": {
            "tags": []
          },
          "execution_count": 79
        }
      ]
    },
    {
      "cell_type": "code",
      "metadata": {
        "id": "cDv8uC6xJtqT"
      },
      "source": [
        "reference_preds.to_csv(\"en-ach predictions.csv\", header= True)"
      ],
      "execution_count": null,
      "outputs": []
    },
    {
      "cell_type": "code",
      "metadata": {
        "id": "RgSZWmnxBnpP"
      },
      "source": [
        "from nltk.translate.bleu_score import corpus_bleu"
      ],
      "execution_count": null,
      "outputs": []
    },
    {
      "cell_type": "code",
      "metadata": {
        "id": "3jBNDKxXNULH"
      },
      "source": [
        "ref_tokens=[]\n",
        "pred_tokens=[]"
      ],
      "execution_count": null,
      "outputs": []
    },
    {
      "cell_type": "code",
      "metadata": {
        "id": "An3Q6g3-NeDg"
      },
      "source": [
        "for row in ref:\n",
        "  ref_tokens.append(row.split())"
      ],
      "execution_count": null,
      "outputs": []
    },
    {
      "cell_type": "code",
      "metadata": {
        "id": "Ik39cgK2OF4t"
      },
      "source": [
        "for row in test_predictions:\n",
        "   pred_tokens.append(row.split())"
      ],
      "execution_count": null,
      "outputs": []
    },
    {
      "cell_type": "code",
      "metadata": {
        "id": "T8_NUGQfOcXj",
        "colab": {
          "base_uri": "https://localhost:8080/"
        },
        "outputId": "528b5b00-aff5-48bd-aa16-c1b4ac4e6c5a"
      },
      "source": [
        "len(pred_tokens)"
      ],
      "execution_count": null,
      "outputs": [
        {
          "output_type": "execute_result",
          "data": {
            "text/plain": [
              "7310"
            ]
          },
          "metadata": {
            "tags": []
          },
          "execution_count": 86
        }
      ]
    },
    {
      "cell_type": "code",
      "metadata": {
        "id": "e0VgsmHyIOeC"
      },
      "source": [
        "from nltk.translate.bleu_score import SmoothingFunction\n",
        "smoothie = SmoothingFunction().method4"
      ],
      "execution_count": null,
      "outputs": []
    },
    {
      "cell_type": "code",
      "metadata": {
        "id": "QXSjE5zsJVwo",
        "colab": {
          "base_uri": "https://localhost:8080/"
        },
        "outputId": "003e66ec-dfda-43dc-8261-15888375e9a9"
      },
      "source": [
        "corpus_bleu(ref_tokens, pred_tokens, weights=(1, 0))"
      ],
      "execution_count": null,
      "outputs": [
        {
          "output_type": "execute_result",
          "data": {
            "text/plain": [
              "0.06987352812908854"
            ]
          },
          "metadata": {
            "tags": []
          },
          "execution_count": 94
        }
      ]
    },
    {
      "cell_type": "code",
      "metadata": {
        "id": "KmH6IZMPyH6-"
      },
      "source": [
        "!cp -R \"/content/results/checkpoint-25500\" 'xxxxxxxx' #moving to gdrive for permanent saving"
      ],
      "execution_count": null,
      "outputs": []
    },
    {
      "cell_type": "code",
      "metadata": {
        "id": "kiEzNQ26d2Af"
      },
      "source": [
        "!cp -R tokenizer 'xxxxx' #moving to gdrive for permanent saving"
      ],
      "execution_count": null,
      "outputs": []
    },
    {
      "cell_type": "code",
      "metadata": {
        "id": "URg4RHA7zak3"
      },
      "source": [
        "!cp -R model 'xxxxxx'"
      ],
      "execution_count": null,
      "outputs": []
    },
    {
      "cell_type": "code",
      "metadata": {
        "colab": {
          "base_uri": "https://localhost:8080/"
        },
        "id": "8EP2hT_ydvBW",
        "outputId": "f070c2ef-f6f7-4555-aa81-09dbeaf2b05b"
      },
      "source": [
        "tokenizer.save_pretrained(\"./tokenizer\")"
      ],
      "execution_count": null,
      "outputs": [
        {
          "output_type": "execute_result",
          "data": {
            "text/plain": [
              "('./tokenizer/tokenizer_config.json',\n",
              " './tokenizer/special_tokens_map.json',\n",
              " PosixPath('tokenizer/source_spm'),\n",
              " PosixPath('tokenizer/target_spm'),\n",
              " PosixPath('tokenizer/vocab'),\n",
              " PosixPath('tokenizer/tokenizer_config_file'),\n",
              " './tokenizer/added_tokens.json')"
            ]
          },
          "metadata": {
            "tags": []
          },
          "execution_count": 70
        }
      ]
    }
  ]
}